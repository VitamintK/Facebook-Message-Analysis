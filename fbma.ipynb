{
 "cells": [
  {
   "cell_type": "code",
   "execution_count": 3,
   "metadata": {
    "collapsed": false
   },
   "outputs": [],
   "source": [
    "import fbma\n",
    "import pandas as pd"
   ]
  },
  {
   "cell_type": "code",
   "execution_count": 4,
   "metadata": {
    "collapsed": false
   },
   "outputs": [
    {
     "data": {
      "text/html": [
       "<div>\n",
       "<table border=\"1\" class=\"dataframe\">\n",
       "  <thead>\n",
       "    <tr style=\"text-align: right;\">\n",
       "      <th></th>\n",
       "      <th>members</th>\n",
       "      <th>sender</th>\n",
       "      <th>text</th>\n",
       "      <th>time</th>\n",
       "    </tr>\n",
       "  </thead>\n",
       "  <tbody>\n",
       "    <tr>\n",
       "      <th>0</th>\n",
       "      <td>['Kevin Wang', 'Walton Wu']</td>\n",
       "      <td>Kevin Wang</td>\n",
       "      <td>don't take calcium supplements</td>\n",
       "      <td>Monday, June 13, 2011 at 9:20pm PDT</td>\n",
       "    </tr>\n",
       "    <tr>\n",
       "      <th>1</th>\n",
       "      <td>['Kevin Wang', 'Walton Wu']</td>\n",
       "      <td>Kevin Wang</td>\n",
       "      <td>my doctor was all</td>\n",
       "      <td>Monday, June 13, 2011 at 9:20pm PDT</td>\n",
       "    </tr>\n",
       "    <tr>\n",
       "      <th>2</th>\n",
       "      <td>['Kevin Wang', 'Walton Wu']</td>\n",
       "      <td>Kevin Wang</td>\n",
       "      <td>i dunno</td>\n",
       "      <td>Monday, June 13, 2011 at 9:20pm PDT</td>\n",
       "    </tr>\n",
       "    <tr>\n",
       "      <th>3</th>\n",
       "      <td>['Kevin Wang', 'Walton Wu']</td>\n",
       "      <td>Kevin Wang</td>\n",
       "      <td>asdf</td>\n",
       "      <td>Monday, June 13, 2011 at 9:18pm PDT</td>\n",
       "    </tr>\n",
       "    <tr>\n",
       "      <th>4</th>\n",
       "      <td>['Kevin Wang', 'Walton Wu']</td>\n",
       "      <td>Walton Wu</td>\n",
       "      <td>lol</td>\n",
       "      <td>Monday, June 13, 2011 at 9:18pm PDT</td>\n",
       "    </tr>\n",
       "  </tbody>\n",
       "</table>\n",
       "</div>"
      ],
      "text/plain": [
       "                       members      sender                            text  \\\n",
       "0  ['Kevin Wang', 'Walton Wu']  Kevin Wang  don't take calcium supplements   \n",
       "1  ['Kevin Wang', 'Walton Wu']  Kevin Wang               my doctor was all   \n",
       "2  ['Kevin Wang', 'Walton Wu']  Kevin Wang                         i dunno   \n",
       "3  ['Kevin Wang', 'Walton Wu']  Kevin Wang                            asdf   \n",
       "4  ['Kevin Wang', 'Walton Wu']   Walton Wu                             lol   \n",
       "\n",
       "                                  time  \n",
       "0  Monday, June 13, 2011 at 9:20pm PDT  \n",
       "1  Monday, June 13, 2011 at 9:20pm PDT  \n",
       "2  Monday, June 13, 2011 at 9:20pm PDT  \n",
       "3  Monday, June 13, 2011 at 9:18pm PDT  \n",
       "4  Monday, June 13, 2011 at 9:18pm PDT  "
      ]
     },
     "execution_count": 4,
     "metadata": {},
     "output_type": "execute_result"
    }
   ],
   "source": [
    "fbma.msgs.head()"
   ]
  },
  {
   "cell_type": "code",
   "execution_count": 5,
   "metadata": {
    "collapsed": true
   },
   "outputs": [],
   "source": [
    "%matplotlib inline"
   ]
  },
  {
   "cell_type": "code",
   "execution_count": 6,
   "metadata": {
    "collapsed": true
   },
   "outputs": [],
   "source": [
    "msgs = fbma.msgs"
   ]
  },
  {
   "cell_type": "code",
   "execution_count": 7,
   "metadata": {
    "collapsed": true
   },
   "outputs": [],
   "source": [
    "kevin = msgs[msgs['sender'] == \"Kevin Wang\"]"
   ]
  },
  {
   "cell_type": "code",
   "execution_count": 8,
   "metadata": {
    "collapsed": false
   },
   "outputs": [
    {
     "data": {
      "text/html": [
       "<div>\n",
       "<table border=\"1\" class=\"dataframe\">\n",
       "  <thead>\n",
       "    <tr style=\"text-align: right;\">\n",
       "      <th></th>\n",
       "      <th>members</th>\n",
       "      <th>sender</th>\n",
       "      <th>text</th>\n",
       "      <th>time</th>\n",
       "    </tr>\n",
       "  </thead>\n",
       "  <tbody>\n",
       "    <tr>\n",
       "      <th>0</th>\n",
       "      <td>['Kevin Wang', 'Walton Wu']</td>\n",
       "      <td>Kevin Wang</td>\n",
       "      <td>don't take calcium supplements</td>\n",
       "      <td>Monday, June 13, 2011 at 9:20pm PDT</td>\n",
       "    </tr>\n",
       "    <tr>\n",
       "      <th>1</th>\n",
       "      <td>['Kevin Wang', 'Walton Wu']</td>\n",
       "      <td>Kevin Wang</td>\n",
       "      <td>my doctor was all</td>\n",
       "      <td>Monday, June 13, 2011 at 9:20pm PDT</td>\n",
       "    </tr>\n",
       "    <tr>\n",
       "      <th>2</th>\n",
       "      <td>['Kevin Wang', 'Walton Wu']</td>\n",
       "      <td>Kevin Wang</td>\n",
       "      <td>i dunno</td>\n",
       "      <td>Monday, June 13, 2011 at 9:20pm PDT</td>\n",
       "    </tr>\n",
       "    <tr>\n",
       "      <th>3</th>\n",
       "      <td>['Kevin Wang', 'Walton Wu']</td>\n",
       "      <td>Kevin Wang</td>\n",
       "      <td>asdf</td>\n",
       "      <td>Monday, June 13, 2011 at 9:18pm PDT</td>\n",
       "    </tr>\n",
       "    <tr>\n",
       "      <th>7</th>\n",
       "      <td>['Kevin Wang', 'Walton Wu']</td>\n",
       "      <td>Kevin Wang</td>\n",
       "      <td>lol</td>\n",
       "      <td>Monday, June 13, 2011 at 9:18pm PDT</td>\n",
       "    </tr>\n",
       "  </tbody>\n",
       "</table>\n",
       "</div>"
      ],
      "text/plain": [
       "                       members      sender                            text  \\\n",
       "0  ['Kevin Wang', 'Walton Wu']  Kevin Wang  don't take calcium supplements   \n",
       "1  ['Kevin Wang', 'Walton Wu']  Kevin Wang               my doctor was all   \n",
       "2  ['Kevin Wang', 'Walton Wu']  Kevin Wang                         i dunno   \n",
       "3  ['Kevin Wang', 'Walton Wu']  Kevin Wang                            asdf   \n",
       "7  ['Kevin Wang', 'Walton Wu']  Kevin Wang                             lol   \n",
       "\n",
       "                                  time  \n",
       "0  Monday, June 13, 2011 at 9:20pm PDT  \n",
       "1  Monday, June 13, 2011 at 9:20pm PDT  \n",
       "2  Monday, June 13, 2011 at 9:20pm PDT  \n",
       "3  Monday, June 13, 2011 at 9:18pm PDT  \n",
       "7  Monday, June 13, 2011 at 9:18pm PDT  "
      ]
     },
     "execution_count": 8,
     "metadata": {},
     "output_type": "execute_result"
    }
   ],
   "source": [
    "kevin.head()"
   ]
  },
  {
   "cell_type": "code",
   "execution_count": 9,
   "metadata": {
    "collapsed": true
   },
   "outputs": [],
   "source": [
    "others = msgs[msgs['sender'] != \"Kevin Wang\"]"
   ]
  },
  {
   "cell_type": "code",
   "execution_count": 10,
   "metadata": {
    "collapsed": false
   },
   "outputs": [
    {
     "data": {
      "text/html": [
       "<div>\n",
       "<table border=\"1\" class=\"dataframe\">\n",
       "  <thead>\n",
       "    <tr style=\"text-align: right;\">\n",
       "      <th></th>\n",
       "      <th>members</th>\n",
       "      <th>sender</th>\n",
       "      <th>text</th>\n",
       "      <th>time</th>\n",
       "    </tr>\n",
       "  </thead>\n",
       "  <tbody>\n",
       "    <tr>\n",
       "      <th>4</th>\n",
       "      <td>['Kevin Wang', 'Walton Wu']</td>\n",
       "      <td>Walton Wu</td>\n",
       "      <td>lol</td>\n",
       "      <td>Monday, June 13, 2011 at 9:18pm PDT</td>\n",
       "    </tr>\n",
       "    <tr>\n",
       "      <th>5</th>\n",
       "      <td>['Kevin Wang', 'Walton Wu']</td>\n",
       "      <td>Walton Wu</td>\n",
       "      <td>lt helps</td>\n",
       "      <td>Monday, June 13, 2011 at 9:18pm PDT</td>\n",
       "    </tr>\n",
       "    <tr>\n",
       "      <th>6</th>\n",
       "      <td>['Kevin Wang', 'Walton Wu']</td>\n",
       "      <td>Walton Wu</td>\n",
       "      <td>want some calcium pills?</td>\n",
       "      <td>Monday, June 13, 2011 at 9:18pm PDT</td>\n",
       "    </tr>\n",
       "    <tr>\n",
       "      <th>9</th>\n",
       "      <td>['Kevin Wang', 'Walton Wu']</td>\n",
       "      <td>Walton Wu</td>\n",
       "      <td>l'm pretty much recovered</td>\n",
       "      <td>Monday, June 13, 2011 at 9:18pm PDT</td>\n",
       "    </tr>\n",
       "    <tr>\n",
       "      <th>10</th>\n",
       "      <td>['Kevin Wang', 'Walton Wu']</td>\n",
       "      <td>Walton Wu</td>\n",
       "      <td>l'm surprised you aren't recovered</td>\n",
       "      <td>Monday, June 13, 2011 at 9:18pm PDT</td>\n",
       "    </tr>\n",
       "  </tbody>\n",
       "</table>\n",
       "</div>"
      ],
      "text/plain": [
       "                        members     sender  \\\n",
       "4   ['Kevin Wang', 'Walton Wu']  Walton Wu   \n",
       "5   ['Kevin Wang', 'Walton Wu']  Walton Wu   \n",
       "6   ['Kevin Wang', 'Walton Wu']  Walton Wu   \n",
       "9   ['Kevin Wang', 'Walton Wu']  Walton Wu   \n",
       "10  ['Kevin Wang', 'Walton Wu']  Walton Wu   \n",
       "\n",
       "                                  text                                 time  \n",
       "4                                  lol  Monday, June 13, 2011 at 9:18pm PDT  \n",
       "5                             lt helps  Monday, June 13, 2011 at 9:18pm PDT  \n",
       "6            want some calcium pills?   Monday, June 13, 2011 at 9:18pm PDT  \n",
       "9            l'm pretty much recovered  Monday, June 13, 2011 at 9:18pm PDT  \n",
       "10  l'm surprised you aren't recovered  Monday, June 13, 2011 at 9:18pm PDT  "
      ]
     },
     "execution_count": 10,
     "metadata": {},
     "output_type": "execute_result"
    }
   ],
   "source": [
    "others.head()"
   ]
  },
  {
   "cell_type": "code",
   "execution_count": 11,
   "metadata": {
    "collapsed": true
   },
   "outputs": [],
   "source": [
    "from collections import Counter\n",
    "def make_words(df, case_sensitive = False):\n",
    "    words = Counter()\n",
    "    txt = df[\"text\"]\n",
    "    if case_sensitive == False:\n",
    "        txt = txt.str.lower()\n",
    "    #print(txt.str.split())\n",
    "    txt.str.split().apply(words.update)\n",
    "    return words"
   ]
  },
  {
   "cell_type": "code",
   "execution_count": 12,
   "metadata": {
    "collapsed": false
   },
   "outputs": [],
   "source": [
    "kevin = kevin[1:]"
   ]
  },
  {
   "cell_type": "code",
   "execution_count": 74,
   "metadata": {
    "collapsed": false,
    "scrolled": true
   },
   "outputs": [
    {
     "data": {
      "text/html": [
       "<div>\n",
       "<table border=\"1\" class=\"dataframe\">\n",
       "  <thead>\n",
       "    <tr style=\"text-align: right;\">\n",
       "      <th></th>\n",
       "      <th>members</th>\n",
       "      <th>sender</th>\n",
       "      <th>text</th>\n",
       "      <th>time</th>\n",
       "    </tr>\n",
       "  </thead>\n",
       "  <tbody>\n",
       "    <tr>\n",
       "      <th>293311</th>\n",
       "      <td>['Potragent Phuong', 'Kevin Wang', 'Arthur Or'...</td>\n",
       "      <td>Arthur Or</td>\n",
       "      <td>NaN</td>\n",
       "      <td>Thursday, May 8, 2014 at 3:23am PDT</td>\n",
       "    </tr>\n",
       "    <tr>\n",
       "      <th>342648</th>\n",
       "      <td>['Potragent Phuong', 'Kevin Wang', 'Arthur Or'...</td>\n",
       "      <td>Arthur Or</td>\n",
       "      <td>NaN</td>\n",
       "      <td>Monday, August 25, 2014 at 11:31pm PDT</td>\n",
       "    </tr>\n",
       "    <tr>\n",
       "      <th>432990</th>\n",
       "      <td>['Potragent Phuong', 'Kevin Wang', 'Arthur Or'...</td>\n",
       "      <td>Arthur Or</td>\n",
       "      <td>NaN</td>\n",
       "      <td>Wednesday, May 6, 2015 at 8:08pm PDT</td>\n",
       "    </tr>\n",
       "    <tr>\n",
       "      <th>506433</th>\n",
       "      <td>['Ivan Law', 'Jeremy Yang', 'Michelle Tjoa', '...</td>\n",
       "      <td>Royal Siu</td>\n",
       "      <td>NaN</td>\n",
       "      <td>Wednesday, November 11, 2015 at 11:25pm PST</td>\n",
       "    </tr>\n",
       "  </tbody>\n",
       "</table>\n",
       "</div>"
      ],
      "text/plain": [
       "                                                  members     sender text  \\\n",
       "293311  ['Potragent Phuong', 'Kevin Wang', 'Arthur Or'...  Arthur Or  NaN   \n",
       "342648  ['Potragent Phuong', 'Kevin Wang', 'Arthur Or'...  Arthur Or  NaN   \n",
       "432990  ['Potragent Phuong', 'Kevin Wang', 'Arthur Or'...  Arthur Or  NaN   \n",
       "506433  ['Ivan Law', 'Jeremy Yang', 'Michelle Tjoa', '...  Royal Siu  NaN   \n",
       "\n",
       "                                               time  \n",
       "293311          Thursday, May 8, 2014 at 3:23am PDT  \n",
       "342648       Monday, August 25, 2014 at 11:31pm PDT  \n",
       "432990         Wednesday, May 6, 2015 at 8:08pm PDT  \n",
       "506433  Wednesday, November 11, 2015 at 11:25pm PST  "
      ]
     },
     "execution_count": 74,
     "metadata": {},
     "output_type": "execute_result"
    }
   ],
   "source": [
    "others[others.text.isnull()]\n",
    "#kevin[kevin.text.isnull()]"
   ]
  },
  {
   "cell_type": "code",
   "execution_count": null,
   "metadata": {
    "collapsed": true
   },
   "outputs": [],
   "source": [
    "others[]"
   ]
  },
  {
   "cell_type": "code",
   "execution_count": 68,
   "metadata": {
    "collapsed": false
   },
   "outputs": [
    {
     "ename": "TypeError",
     "evalue": "'float' object is not iterable",
     "output_type": "error",
     "traceback": [
      "\u001b[1;31m---------------------------------------------------------------------------\u001b[0m",
      "\u001b[1;31mTypeError\u001b[0m                                 Traceback (most recent call last)",
      "\u001b[1;32m<ipython-input-68-9bb2affe770b>\u001b[0m in \u001b[0;36m<module>\u001b[1;34m()\u001b[0m\n\u001b[0;32m      1\u001b[0m \u001b[0mkwords\u001b[0m \u001b[1;33m=\u001b[0m \u001b[0mmake_words\u001b[0m\u001b[1;33m(\u001b[0m\u001b[0mkevin\u001b[0m\u001b[1;33m)\u001b[0m\u001b[1;33m\u001b[0m\u001b[0m\n\u001b[1;32m----> 2\u001b[1;33m \u001b[0mowords\u001b[0m \u001b[1;33m=\u001b[0m \u001b[0mmake_words\u001b[0m\u001b[1;33m(\u001b[0m\u001b[0mothers\u001b[0m\u001b[1;33m)\u001b[0m\u001b[1;33m\u001b[0m\u001b[0m\n\u001b[0m",
      "\u001b[1;32m<ipython-input-11-a447cfc10070>\u001b[0m in \u001b[0;36mmake_words\u001b[1;34m(df, case_sensitive)\u001b[0m\n\u001b[0;32m      6\u001b[0m         \u001b[0mtxt\u001b[0m \u001b[1;33m=\u001b[0m \u001b[0mtxt\u001b[0m\u001b[1;33m.\u001b[0m\u001b[0mstr\u001b[0m\u001b[1;33m.\u001b[0m\u001b[0mlower\u001b[0m\u001b[1;33m(\u001b[0m\u001b[1;33m)\u001b[0m\u001b[1;33m\u001b[0m\u001b[0m\n\u001b[0;32m      7\u001b[0m     \u001b[1;31m#print(txt.str.split())\u001b[0m\u001b[1;33m\u001b[0m\u001b[1;33m\u001b[0m\u001b[0m\n\u001b[1;32m----> 8\u001b[1;33m     \u001b[0mtxt\u001b[0m\u001b[1;33m.\u001b[0m\u001b[0mstr\u001b[0m\u001b[1;33m.\u001b[0m\u001b[0msplit\u001b[0m\u001b[1;33m(\u001b[0m\u001b[1;33m)\u001b[0m\u001b[1;33m.\u001b[0m\u001b[0mapply\u001b[0m\u001b[1;33m(\u001b[0m\u001b[0mwords\u001b[0m\u001b[1;33m.\u001b[0m\u001b[0mupdate\u001b[0m\u001b[1;33m)\u001b[0m\u001b[1;33m\u001b[0m\u001b[0m\n\u001b[0m\u001b[0;32m      9\u001b[0m     \u001b[1;32mreturn\u001b[0m \u001b[0mwords\u001b[0m\u001b[1;33m\u001b[0m\u001b[0m\n",
      "\u001b[1;32mC:\\Users\\kevin\\Anaconda3\\lib\\site-packages\\pandas\\core\\series.py\u001b[0m in \u001b[0;36mapply\u001b[1;34m(self, func, convert_dtype, args, **kwds)\u001b[0m\n\u001b[0;32m   2058\u001b[0m             \u001b[0mvalues\u001b[0m \u001b[1;33m=\u001b[0m \u001b[0mlib\u001b[0m\u001b[1;33m.\u001b[0m\u001b[0mmap_infer\u001b[0m\u001b[1;33m(\u001b[0m\u001b[0mvalues\u001b[0m\u001b[1;33m,\u001b[0m \u001b[0mlib\u001b[0m\u001b[1;33m.\u001b[0m\u001b[0mTimestamp\u001b[0m\u001b[1;33m)\u001b[0m\u001b[1;33m\u001b[0m\u001b[0m\n\u001b[0;32m   2059\u001b[0m \u001b[1;33m\u001b[0m\u001b[0m\n\u001b[1;32m-> 2060\u001b[1;33m         \u001b[0mmapped\u001b[0m \u001b[1;33m=\u001b[0m \u001b[0mlib\u001b[0m\u001b[1;33m.\u001b[0m\u001b[0mmap_infer\u001b[0m\u001b[1;33m(\u001b[0m\u001b[0mvalues\u001b[0m\u001b[1;33m,\u001b[0m \u001b[0mf\u001b[0m\u001b[1;33m,\u001b[0m \u001b[0mconvert\u001b[0m\u001b[1;33m=\u001b[0m\u001b[0mconvert_dtype\u001b[0m\u001b[1;33m)\u001b[0m\u001b[1;33m\u001b[0m\u001b[0m\n\u001b[0m\u001b[0;32m   2061\u001b[0m         \u001b[1;32mif\u001b[0m \u001b[0mlen\u001b[0m\u001b[1;33m(\u001b[0m\u001b[0mmapped\u001b[0m\u001b[1;33m)\u001b[0m \u001b[1;32mand\u001b[0m \u001b[0misinstance\u001b[0m\u001b[1;33m(\u001b[0m\u001b[0mmapped\u001b[0m\u001b[1;33m[\u001b[0m\u001b[1;36m0\u001b[0m\u001b[1;33m]\u001b[0m\u001b[1;33m,\u001b[0m \u001b[0mSeries\u001b[0m\u001b[1;33m)\u001b[0m\u001b[1;33m:\u001b[0m\u001b[1;33m\u001b[0m\u001b[0m\n\u001b[0;32m   2062\u001b[0m             \u001b[1;32mfrom\u001b[0m \u001b[0mpandas\u001b[0m\u001b[1;33m.\u001b[0m\u001b[0mcore\u001b[0m\u001b[1;33m.\u001b[0m\u001b[0mframe\u001b[0m \u001b[1;32mimport\u001b[0m \u001b[0mDataFrame\u001b[0m\u001b[1;33m\u001b[0m\u001b[0m\n",
      "\u001b[1;32mpandas\\src\\inference.pyx\u001b[0m in \u001b[0;36mpandas.lib.map_infer (pandas\\lib.c:58445)\u001b[1;34m()\u001b[0m\n",
      "\u001b[1;32mC:\\Users\\kevin\\Anaconda3\\lib\\collections\\__init__.py\u001b[0m in \u001b[0;36mupdate\u001b[1;34m(*args, **kwds)\u001b[0m\n\u001b[0;32m    560\u001b[0m                     \u001b[0msuper\u001b[0m\u001b[1;33m(\u001b[0m\u001b[0mCounter\u001b[0m\u001b[1;33m,\u001b[0m \u001b[0mself\u001b[0m\u001b[1;33m)\u001b[0m\u001b[1;33m.\u001b[0m\u001b[0mupdate\u001b[0m\u001b[1;33m(\u001b[0m\u001b[0miterable\u001b[0m\u001b[1;33m)\u001b[0m \u001b[1;31m# fast path when counter is empty\u001b[0m\u001b[1;33m\u001b[0m\u001b[0m\n\u001b[0;32m    561\u001b[0m             \u001b[1;32melse\u001b[0m\u001b[1;33m:\u001b[0m\u001b[1;33m\u001b[0m\u001b[0m\n\u001b[1;32m--> 562\u001b[1;33m                 \u001b[0m_count_elements\u001b[0m\u001b[1;33m(\u001b[0m\u001b[0mself\u001b[0m\u001b[1;33m,\u001b[0m \u001b[0miterable\u001b[0m\u001b[1;33m)\u001b[0m\u001b[1;33m\u001b[0m\u001b[0m\n\u001b[0m\u001b[0;32m    563\u001b[0m         \u001b[1;32mif\u001b[0m \u001b[0mkwds\u001b[0m\u001b[1;33m:\u001b[0m\u001b[1;33m\u001b[0m\u001b[0m\n\u001b[0;32m    564\u001b[0m             \u001b[0mself\u001b[0m\u001b[1;33m.\u001b[0m\u001b[0mupdate\u001b[0m\u001b[1;33m(\u001b[0m\u001b[0mkwds\u001b[0m\u001b[1;33m)\u001b[0m\u001b[1;33m\u001b[0m\u001b[0m\n",
      "\u001b[1;31mTypeError\u001b[0m: 'float' object is not iterable"
     ]
    }
   ],
   "source": [
    "kwords = make_words(kevin)\n",
    "owords = make_words(others)"
   ]
  },
  {
   "cell_type": "code",
   "execution_count": 16,
   "metadata": {
    "collapsed": false
   },
   "outputs": [],
   "source": [
    "#kwords"
   ]
  },
  {
   "cell_type": "code",
   "execution_count": null,
   "metadata": {
    "collapsed": true
   },
   "outputs": [],
   "source": []
  },
  {
   "cell_type": "code",
   "execution_count": 17,
   "metadata": {
    "collapsed": false
   },
   "outputs": [],
   "source": [
    "def laugh_words(words):\n",
    "    for word, amount in sorted(words.items(), key=lambda x: x[1], reverse = True):\n",
    "        if (set(word) in ({\"h\", \"a\"}, {\"l\", \"o\"})) or (word[:4] == \"rofl\"):\n",
    "            if word not in {'ah'}:\n",
    "                yield (word, amount)"
   ]
  },
  {
   "cell_type": "code",
   "execution_count": 49,
   "metadata": {
    "collapsed": false
   },
   "outputs": [],
   "source": [
    "lwords = pd.DataFrame(list(laugh_words(kwords)))"
   ]
  },
  {
   "cell_type": "code",
   "execution_count": 19,
   "metadata": {
    "collapsed": false
   },
   "outputs": [
    {
     "data": {
      "text/html": [
       "<div>\n",
       "<table border=\"1\" class=\"dataframe\">\n",
       "  <thead>\n",
       "    <tr style=\"text-align: right;\">\n",
       "      <th></th>\n",
       "      <th>0</th>\n",
       "      <th>1</th>\n",
       "    </tr>\n",
       "  </thead>\n",
       "  <tbody>\n",
       "    <tr>\n",
       "      <th>0</th>\n",
       "      <td>lol</td>\n",
       "      <td>7628</td>\n",
       "    </tr>\n",
       "    <tr>\n",
       "      <th>1</th>\n",
       "      <td>haha</td>\n",
       "      <td>1004</td>\n",
       "    </tr>\n",
       "    <tr>\n",
       "      <th>2</th>\n",
       "      <td>rofl</td>\n",
       "      <td>560</td>\n",
       "    </tr>\n",
       "    <tr>\n",
       "      <th>3</th>\n",
       "      <td>hahaha</td>\n",
       "      <td>342</td>\n",
       "    </tr>\n",
       "    <tr>\n",
       "      <th>4</th>\n",
       "      <td>hahahaha</td>\n",
       "      <td>267</td>\n",
       "    </tr>\n",
       "  </tbody>\n",
       "</table>\n",
       "</div>"
      ],
      "text/plain": [
       "          0     1\n",
       "0       lol  7628\n",
       "1      haha  1004\n",
       "2      rofl   560\n",
       "3    hahaha   342\n",
       "4  hahahaha   267"
      ]
     },
     "execution_count": 19,
     "metadata": {},
     "output_type": "execute_result"
    }
   ],
   "source": [
    "lwords.head()"
   ]
  },
  {
   "cell_type": "code",
   "execution_count": 20,
   "metadata": {
    "collapsed": false
   },
   "outputs": [
    {
     "data": {
      "text/plain": [
       "<matplotlib.axes._subplots.AxesSubplot at 0xab8bd30>"
      ]
     },
     "execution_count": 20,
     "metadata": {},
     "output_type": "execute_result"
    },
    {
     "data": {
      "image/png": "[encoded data removed]",
      "text/plain": [
       "<matplotlib.figure.Figure at 0xab8b7b8>"
      ]
     },
     "metadata": {},
     "output_type": "display_data"
    }
   ],
   "source": [
    "lwords.plot(kind=\"bar\")"
   ]
  },
  {
   "cell_type": "code",
   "execution_count": 21,
   "metadata": {
    "collapsed": false
   },
   "outputs": [
    {
     "data": {
      "text/html": [
       "<div>\n",
       "<table border=\"1\" class=\"dataframe\">\n",
       "  <thead>\n",
       "    <tr style=\"text-align: right;\">\n",
       "      <th></th>\n",
       "      <th>0</th>\n",
       "      <th>1</th>\n",
       "    </tr>\n",
       "  </thead>\n",
       "  <tbody>\n",
       "    <tr>\n",
       "      <th>0</th>\n",
       "      <td>lol</td>\n",
       "      <td>7628</td>\n",
       "    </tr>\n",
       "    <tr>\n",
       "      <th>1</th>\n",
       "      <td>haha</td>\n",
       "      <td>1004</td>\n",
       "    </tr>\n",
       "    <tr>\n",
       "      <th>2</th>\n",
       "      <td>rofl</td>\n",
       "      <td>560</td>\n",
       "    </tr>\n",
       "    <tr>\n",
       "      <th>3</th>\n",
       "      <td>hahaha</td>\n",
       "      <td>342</td>\n",
       "    </tr>\n",
       "    <tr>\n",
       "      <th>4</th>\n",
       "      <td>hahahaha</td>\n",
       "      <td>267</td>\n",
       "    </tr>\n",
       "    <tr>\n",
       "      <th>5</th>\n",
       "      <td>lololol</td>\n",
       "      <td>245</td>\n",
       "    </tr>\n",
       "    <tr>\n",
       "      <th>6</th>\n",
       "      <td>lolololol</td>\n",
       "      <td>206</td>\n",
       "    </tr>\n",
       "    <tr>\n",
       "      <th>7</th>\n",
       "      <td>hahahahah</td>\n",
       "      <td>168</td>\n",
       "    </tr>\n",
       "    <tr>\n",
       "      <th>8</th>\n",
       "      <td>hahahah</td>\n",
       "      <td>142</td>\n",
       "    </tr>\n",
       "    <tr>\n",
       "      <th>9</th>\n",
       "      <td>lollll</td>\n",
       "      <td>124</td>\n",
       "    </tr>\n",
       "    <tr>\n",
       "      <th>10</th>\n",
       "      <td>hahahahaha</td>\n",
       "      <td>121</td>\n",
       "    </tr>\n",
       "    <tr>\n",
       "      <th>11</th>\n",
       "      <td>lololololol</td>\n",
       "      <td>93</td>\n",
       "    </tr>\n",
       "    <tr>\n",
       "      <th>12</th>\n",
       "      <td>hahahahahah</td>\n",
       "      <td>92</td>\n",
       "    </tr>\n",
       "    <tr>\n",
       "      <th>13</th>\n",
       "      <td>lolllll</td>\n",
       "      <td>76</td>\n",
       "    </tr>\n",
       "    <tr>\n",
       "      <th>14</th>\n",
       "      <td>lolll</td>\n",
       "      <td>66</td>\n",
       "    </tr>\n",
       "    <tr>\n",
       "      <th>15</th>\n",
       "      <td>lolol</td>\n",
       "      <td>60</td>\n",
       "    </tr>\n",
       "    <tr>\n",
       "      <th>16</th>\n",
       "      <td>hahahahahaha</td>\n",
       "      <td>56</td>\n",
       "    </tr>\n",
       "    <tr>\n",
       "      <th>17</th>\n",
       "      <td>lollllll</td>\n",
       "      <td>53</td>\n",
       "    </tr>\n",
       "    <tr>\n",
       "      <th>18</th>\n",
       "      <td>lolololololol</td>\n",
       "      <td>37</td>\n",
       "    </tr>\n",
       "    <tr>\n",
       "      <th>19</th>\n",
       "      <td>hahahahahahah</td>\n",
       "      <td>34</td>\n",
       "    </tr>\n",
       "    <tr>\n",
       "      <th>20</th>\n",
       "      <td>lo</td>\n",
       "      <td>33</td>\n",
       "    </tr>\n",
       "    <tr>\n",
       "      <th>21</th>\n",
       "      <td>lollllllll</td>\n",
       "      <td>29</td>\n",
       "    </tr>\n",
       "    <tr>\n",
       "      <th>22</th>\n",
       "      <td>ahah</td>\n",
       "      <td>28</td>\n",
       "    </tr>\n",
       "    <tr>\n",
       "      <th>23</th>\n",
       "      <td>loll</td>\n",
       "      <td>27</td>\n",
       "    </tr>\n",
       "    <tr>\n",
       "      <th>24</th>\n",
       "      <td>lolllllll</td>\n",
       "      <td>27</td>\n",
       "    </tr>\n",
       "    <tr>\n",
       "      <th>25</th>\n",
       "      <td>ha</td>\n",
       "      <td>25</td>\n",
       "    </tr>\n",
       "    <tr>\n",
       "      <th>26</th>\n",
       "      <td>ahahahah</td>\n",
       "      <td>24</td>\n",
       "    </tr>\n",
       "    <tr>\n",
       "      <th>27</th>\n",
       "      <td>hah</td>\n",
       "      <td>22</td>\n",
       "    </tr>\n",
       "    <tr>\n",
       "      <th>28</th>\n",
       "      <td>lolllllllll</td>\n",
       "      <td>21</td>\n",
       "    </tr>\n",
       "    <tr>\n",
       "      <th>29</th>\n",
       "      <td>hahah</td>\n",
       "      <td>20</td>\n",
       "    </tr>\n",
       "    <tr>\n",
       "      <th>...</th>\n",
       "      <td>...</td>\n",
       "      <td>...</td>\n",
       "    </tr>\n",
       "    <tr>\n",
       "      <th>313</th>\n",
       "      <td>lolololllll</td>\n",
       "      <td>1</td>\n",
       "    </tr>\n",
       "    <tr>\n",
       "      <th>314</th>\n",
       "      <td>hahahahahahahahahahahaha</td>\n",
       "      <td>1</td>\n",
       "    </tr>\n",
       "    <tr>\n",
       "      <th>315</th>\n",
       "      <td>hahhahahahahhahahah</td>\n",
       "      <td>1</td>\n",
       "    </tr>\n",
       "    <tr>\n",
       "      <th>316</th>\n",
       "      <td>lolololollol</td>\n",
       "      <td>1</td>\n",
       "    </tr>\n",
       "    <tr>\n",
       "      <th>317</th>\n",
       "      <td>lollllllllllllllllllllllllllllllllllllllllllll</td>\n",
       "      <td>1</td>\n",
       "    </tr>\n",
       "    <tr>\n",
       "      <th>318</th>\n",
       "      <td>hahahhhhhhhhhhhhhhhhhhhhhhhhh</td>\n",
       "      <td>1</td>\n",
       "    </tr>\n",
       "    <tr>\n",
       "      <th>319</th>\n",
       "      <td>hahahaahaha</td>\n",
       "      <td>1</td>\n",
       "    </tr>\n",
       "    <tr>\n",
       "      <th>320</th>\n",
       "      <td>ahhhhhhhhhhhhhhhhhhhhhhhhhhhhhhhhhhhhhhhhhhhhh...</td>\n",
       "      <td>1</td>\n",
       "    </tr>\n",
       "    <tr>\n",
       "      <th>321</th>\n",
       "      <td>lololooool</td>\n",
       "      <td>1</td>\n",
       "    </tr>\n",
       "    <tr>\n",
       "      <th>322</th>\n",
       "      <td>hahahahaahahah</td>\n",
       "      <td>1</td>\n",
       "    </tr>\n",
       "    <tr>\n",
       "      <th>323</th>\n",
       "      <td>ahahahahahah</td>\n",
       "      <td>1</td>\n",
       "    </tr>\n",
       "    <tr>\n",
       "      <th>324</th>\n",
       "      <td>ahhhhhhhhhhhhhhhhhhhhhhhhhhhhhhhhhhhhhhhhhhhhh...</td>\n",
       "      <td>1</td>\n",
       "    </tr>\n",
       "    <tr>\n",
       "      <th>325</th>\n",
       "      <td>hahahahh</td>\n",
       "      <td>1</td>\n",
       "    </tr>\n",
       "    <tr>\n",
       "      <th>326</th>\n",
       "      <td>lollllllllllllllllllllllllllllllllllllll</td>\n",
       "      <td>1</td>\n",
       "    </tr>\n",
       "    <tr>\n",
       "      <th>327</th>\n",
       "      <td>hahahahhaahahahah</td>\n",
       "      <td>1</td>\n",
       "    </tr>\n",
       "    <tr>\n",
       "      <th>328</th>\n",
       "      <td>hahahahhahahahaahhahahahaha</td>\n",
       "      <td>1</td>\n",
       "    </tr>\n",
       "    <tr>\n",
       "      <th>329</th>\n",
       "      <td>lolololololololololololololololol</td>\n",
       "      <td>1</td>\n",
       "    </tr>\n",
       "    <tr>\n",
       "      <th>330</th>\n",
       "      <td>hahahahhaha</td>\n",
       "      <td>1</td>\n",
       "    </tr>\n",
       "    <tr>\n",
       "      <th>331</th>\n",
       "      <td>roflllll'</td>\n",
       "      <td>1</td>\n",
       "    </tr>\n",
       "    <tr>\n",
       "      <th>332</th>\n",
       "      <td>lollllllllllllllllllllllllllllllllllllllllllll...</td>\n",
       "      <td>1</td>\n",
       "    </tr>\n",
       "    <tr>\n",
       "      <th>333</th>\n",
       "      <td>hahahahahahahahahahahahahahah</td>\n",
       "      <td>1</td>\n",
       "    </tr>\n",
       "    <tr>\n",
       "      <th>334</th>\n",
       "      <td>olololol</td>\n",
       "      <td>1</td>\n",
       "    </tr>\n",
       "    <tr>\n",
       "      <th>335</th>\n",
       "      <td>lllolol</td>\n",
       "      <td>1</td>\n",
       "    </tr>\n",
       "    <tr>\n",
       "      <th>336</th>\n",
       "      <td>hahhaha</td>\n",
       "      <td>1</td>\n",
       "    </tr>\n",
       "    <tr>\n",
       "      <th>337</th>\n",
       "      <td>lololoolol</td>\n",
       "      <td>1</td>\n",
       "    </tr>\n",
       "    <tr>\n",
       "      <th>338</th>\n",
       "      <td>llo</td>\n",
       "      <td>1</td>\n",
       "    </tr>\n",
       "    <tr>\n",
       "      <th>339</th>\n",
       "      <td>hahahahahahahahahahahahahahahahahahahaahahahah</td>\n",
       "      <td>1</td>\n",
       "    </tr>\n",
       "    <tr>\n",
       "      <th>340</th>\n",
       "      <td>lolollolololol</td>\n",
       "      <td>1</td>\n",
       "    </tr>\n",
       "    <tr>\n",
       "      <th>341</th>\n",
       "      <td>ollololo</td>\n",
       "      <td>1</td>\n",
       "    </tr>\n",
       "    <tr>\n",
       "      <th>342</th>\n",
       "      <td>hahahahaahha</td>\n",
       "      <td>1</td>\n",
       "    </tr>\n",
       "  </tbody>\n",
       "</table>\n",
       "<p>343 rows × 2 columns</p>\n",
       "</div>"
      ],
      "text/plain": [
       "                                                     0     1\n",
       "0                                                  lol  7628\n",
       "1                                                 haha  1004\n",
       "2                                                 rofl   560\n",
       "3                                               hahaha   342\n",
       "4                                             hahahaha   267\n",
       "5                                              lololol   245\n",
       "6                                            lolololol   206\n",
       "7                                            hahahahah   168\n",
       "8                                              hahahah   142\n",
       "9                                               lollll   124\n",
       "10                                          hahahahaha   121\n",
       "11                                         lololololol    93\n",
       "12                                         hahahahahah    92\n",
       "13                                             lolllll    76\n",
       "14                                               lolll    66\n",
       "15                                               lolol    60\n",
       "16                                        hahahahahaha    56\n",
       "17                                            lollllll    53\n",
       "18                                       lolololololol    37\n",
       "19                                       hahahahahahah    34\n",
       "20                                                  lo    33\n",
       "21                                          lollllllll    29\n",
       "22                                                ahah    28\n",
       "23                                                loll    27\n",
       "24                                           lolllllll    27\n",
       "25                                                  ha    25\n",
       "26                                            ahahahah    24\n",
       "27                                                 hah    22\n",
       "28                                         lolllllllll    21\n",
       "29                                               hahah    20\n",
       "..                                                 ...   ...\n",
       "313                                        lolololllll     1\n",
       "314                           hahahahahahahahahahahaha     1\n",
       "315                                hahhahahahahhahahah     1\n",
       "316                                       lolololollol     1\n",
       "317     lollllllllllllllllllllllllllllllllllllllllllll     1\n",
       "318                      hahahhhhhhhhhhhhhhhhhhhhhhhhh     1\n",
       "319                                        hahahaahaha     1\n",
       "320  ahhhhhhhhhhhhhhhhhhhhhhhhhhhhhhhhhhhhhhhhhhhhh...     1\n",
       "321                                         lololooool     1\n",
       "322                                     hahahahaahahah     1\n",
       "323                                       ahahahahahah     1\n",
       "324  ahhhhhhhhhhhhhhhhhhhhhhhhhhhhhhhhhhhhhhhhhhhhh...     1\n",
       "325                                           hahahahh     1\n",
       "326           lollllllllllllllllllllllllllllllllllllll     1\n",
       "327                                  hahahahhaahahahah     1\n",
       "328                        hahahahhahahahaahhahahahaha     1\n",
       "329                  lolololololololololololololololol     1\n",
       "330                                        hahahahhaha     1\n",
       "331                                          roflllll'     1\n",
       "332  lollllllllllllllllllllllllllllllllllllllllllll...     1\n",
       "333                      hahahahahahahahahahahahahahah     1\n",
       "334                                           olololol     1\n",
       "335                                            lllolol     1\n",
       "336                                            hahhaha     1\n",
       "337                                         lololoolol     1\n",
       "338                                                llo     1\n",
       "339     hahahahahahahahahahahahahahahahahahahaahahahah     1\n",
       "340                                     lolollolololol     1\n",
       "341                                           ollololo     1\n",
       "342                                       hahahahaahha     1\n",
       "\n",
       "[343 rows x 2 columns]"
      ]
     },
     "execution_count": 21,
     "metadata": {},
     "output_type": "execute_result"
    }
   ],
   "source": [
    "lwords"
   ]
  },
  {
   "cell_type": "code",
   "execution_count": 22,
   "metadata": {
    "collapsed": false
   },
   "outputs": [],
   "source": [
    "def print_full(x):\n",
    "    pd.set_option('display.max_rows', len(x))\n",
    "    print(x)\n",
    "    pd.reset_option('display.max_rows')"
   ]
  },
  {
   "cell_type": "code",
   "execution_count": 23,
   "metadata": {
    "collapsed": false
   },
   "outputs": [
    {
     "name": "stdout",
     "output_type": "stream",
     "text": [
      "                                                     0     1\n",
      "0                                                  lol  7628\n",
      "1                                                 haha  1004\n",
      "2                                                 rofl   560\n",
      "3                                               hahaha   342\n",
      "4                                             hahahaha   267\n",
      "5                                              lololol   245\n",
      "6                                            lolololol   206\n",
      "7                                            hahahahah   168\n",
      "8                                              hahahah   142\n",
      "9                                               lollll   124\n",
      "10                                          hahahahaha   121\n",
      "11                                         lololololol    93\n",
      "12                                         hahahahahah    92\n",
      "13                                             lolllll    76\n",
      "14                                               lolll    66\n",
      "15                                               lolol    60\n",
      "16                                        hahahahahaha    56\n",
      "17                                            lollllll    53\n",
      "18                                       lolololololol    37\n",
      "19                                       hahahahahahah    34\n",
      "20                                                  lo    33\n",
      "21                                          lollllllll    29\n",
      "22                                                ahah    28\n",
      "23                                                loll    27\n",
      "24                                           lolllllll    27\n",
      "25                                                  ha    25\n",
      "26                                            ahahahah    24\n",
      "27                                                 hah    22\n",
      "28                                         lolllllllll    21\n",
      "29                                               hahah    20\n",
      "30                                              ahahah    20\n",
      "31                                     lololololololol    20\n",
      "32                                      hahahahahahaha    19\n",
      "33                                        lollllllllll    18\n",
      "34                                     hahahahahahahah    17\n",
      "35                                                 aha    16\n",
      "36                                      lollllllllllll    15\n",
      "37                                     lolllllllllllll    15\n",
      "38                                       lolllllllllll    14\n",
      "39                                            lolololo    14\n",
      "40                                                  ol    13\n",
      "41                                  lollllllllllllllll    13\n",
      "42                                    lollllllllllllll    11\n",
      "43                                        hahahahahaah    11\n",
      "44                                          ahahahahah    11\n",
      "45                                               ahhhh    10\n",
      "46                                        hahahahaahah     9\n",
      "47                                    hahahahahahahaha     9\n",
      "48                                              lolool     9\n",
      "49                                           hahahahaa     9\n",
      "50                                   lolllllllllllllll     9\n",
      "51                                             hahahaa     8\n",
      "52                                  hahahahahahahahaha     8\n",
      "53                                   lolololololololol     8\n",
      "54                                            lollolol     7\n",
      "55                                          ololololol     7\n",
      "56                                 lolllllllllllllllll     7\n",
      "57                                            lolololl     7\n",
      "58                                          hahahahaah     7\n",
      "59                                            loololol     6\n",
      "60                         lolllllllllllllllllllllllll     6\n",
      "61                              lollllllllllllllllllll     6\n",
      "62                                          lollololol     6\n",
      "63                                              ahhhhh     6\n",
      "64                                          loloololol     6\n",
      "65                                            lololool     6\n",
      "66                                              lololo     5\n",
      "67                                        roflroflrofl     5\n",
      "68                                             ahhhhhh     5\n",
      "69                                          lololololo     5\n",
      "70                            lollllllllllllllllllllll     5\n",
      "71                                   hahahahahahahahah     5\n",
      "72                                             ahahaha     5\n",
      "73                          lollllllllllllllllllllllll     5\n",
      "74                                       hahahahahahaa     4\n",
      "75                                              lollol     4\n",
      "76                                               hahaa     4\n",
      "77                           lolllllllllllllllllllllll     4\n",
      "78                                            ahhhhhhh     4\n",
      "79                                                olol     4\n",
      "80                                   ahhhhhhhhhhhhhhhh     4\n",
      "81                                      hahahahahahaah     4\n",
      "82                                lollllllllllllllllll     4\n",
      "83                                        lolololololo     4\n",
      "84                                                ahhh     4\n",
      "85                                          hahahahahh     3\n",
      "86                               hahahahahahahahahahah     3\n",
      "87                                              llolol     3\n",
      "88                                          lololololl     3\n",
      "89                                             hahahha     3\n",
      "90                               lolololololololololol     3\n",
      "91                                          lolololool     3\n",
      "92                                                llol     3\n",
      "93                               lolllllllllllllllllll     3\n",
      "94                             lolllllllllllllllllllll     3\n",
      "95                                         hahahahaahh     3\n",
      "96                                  hahahahahahahahaah     3\n",
      "97                                             rofllll     3\n",
      "98                                                lool     3\n",
      "99                                          lolollolol     3\n",
      "100                                      ahhhhhhhhhhhh     3\n",
      "101                                              loool     3\n",
      "102                                    ahahahahahahaha     2\n",
      "103                         ahhhhhhhhhhhhhhhhhhhhhhhhh     2\n",
      "104                   lollllllllllllllllllllllllllllll     2\n",
      "105                                          ahahaahah     2\n",
      "106                                     lololololololl     2\n",
      "107                        lololololololololololololol     2\n",
      "108                                            hhahaha     2\n",
      "109                                       lololoololol     2\n",
      "110                                     hahahahahaahah     2\n",
      "111                                             ololol     2\n",
      "112                                           loloolol     2\n",
      "113                                      rofllllllllll     2\n",
      "114                                        hhahahahaha     2\n",
      "115                                        hahahahahaa     2\n",
      "116                                           roflrofl     2\n",
      "117                                       hhahahahahah     2\n",
      "118                                           hhahahah     2\n",
      "119             lollllllllllllllllllllllllllllllllllll     2\n",
      "120                                          ahahahaha     2\n",
      "121                                             loolol     2\n",
      "122                                           hahahaah     2\n",
      "123  lollllllllllllllllllllllllllllllllllllllllllll...     2\n",
      "124                                hahahahahahahahahah     2\n",
      "125                                   lolololololololo     2\n",
      "126                               hahahahahahahahahaha     2\n",
      "127                                        ahahahahaha     2\n",
      "128                                             roflll     2\n",
      "129              lolllllllllllllllllllllllllllllllllll     2\n",
      "130                       lollllllllllllllllllllllllll     2\n",
      "131                                           ahhahahh     2\n",
      "132                                          hhahahaha     2\n",
      "133                                     lollololololol     2\n",
      "134                                             hahaah     2\n",
      "135                                        hhhahahahah     2\n",
      "136                                            rofling     2\n",
      "137                                             lololl     2\n",
      "138                                             ahhaha     2\n",
      "139                                     hahahahahhahah     1\n",
      "140                                        lololoooool     1\n",
      "141                                              rofl.     1\n",
      "142                            hahahahahahaahahahahaha     1\n",
      "143                                       haahahahahah     1\n",
      "144                                     loloololololol     1\n",
      "145                                        llololololl     1\n",
      "146                                       lollolololol     1\n",
      "147                                  hahahahahahahahaa     1\n",
      "148  lolllllllllllllllllllllllllllllllllllllllllllllll     1\n",
      "149                                        lololollolo     1\n",
      "150                                   lolololololololl     1\n",
      "151                     roflllllllllllllllllllllllllll     1\n",
      "152                                           ahhahaha     1\n",
      "153                              hahahahahahhaahahahah     1\n",
      "154                                       oolololollol     1\n",
      "155                                        hahahhahaah     1\n",
      "156                                          hahahaahh     1\n",
      "157                                     hahahahhahahah     1\n",
      "158                                       hahahahahahh     1\n",
      "159                                          lollololl     1\n",
      "160                                            lolooll     1\n",
      "161                                          hahahahha     1\n",
      "162                                                ahh     1\n",
      "163                                 hahahahahahaahahah     1\n",
      "164                                            lolllol     1\n",
      "165                                       lolooolololo     1\n",
      "166         lololololololololololololololololollololol     1\n",
      "167                                   hahahahahahaahah     1\n",
      "168                        ahhhhhhhhhhhhhhhhhhhhhhhhhh     1\n",
      "169                                          hahahaaha     1\n",
      "170               ahhhhhhhhhhhhhhhhhhhhhhhhhhhhhhhhhhh     1\n",
      "171       hahahahahahahahahahahahahahahahahahahahahaha     1\n",
      "172                                           lolollol     1\n",
      "173                                         lololollol     1\n",
      "174                               hahahahahahahahahahh     1\n",
      "175                                 hahahahhahahahahah     1\n",
      "176                       hahahahahahahahahahahahahaah     1\n",
      "177                            hahahahahahahahahahahah     1\n",
      "178                                        lollollllll     1\n",
      "179                                       llololololol     1\n",
      "180  lollllllllllllllllllllllllllllllllllllllllllll...     1\n",
      "181                                            loooool     1\n",
      "182  hahahahahahahahaahahahahahahahahahahahahahahah...     1\n",
      "183                             ahhhhhhhhhhhhhhhhhhhhh     1\n",
      "184                                           llolllll     1\n",
      "185                                   lollolololololol     1\n",
      "186                                      hahahahahaaha     1\n",
      "187                                   hahahahahaahahah     1\n",
      "188                                         roflcopter     1\n",
      "189                                               lolo     1\n",
      "190                                             looool     1\n",
      "191  lollllllllllllllllllllllllllllllllllllllllllll...     1\n",
      "192  llllllllllllllllllllllllllllllllllllllllllllll...     1\n",
      "193                                           ololllll     1\n",
      "194                                       haaaaahahaha     1\n",
      "195                                       lololololool     1\n",
      "196                                lololololololololol     1\n",
      "197                                         hahhahahah     1\n",
      "198                     lollllllllllllllllllllllllllll     1\n",
      "199                                   hahahahaahahahah     1\n",
      "200                              ahhhhhhhhhhhhhhhhhhhh     1\n",
      "201  lollllllllllllllllllllllllllllllllllllllllllll...     1\n",
      "202                              lololololololllllllll     1\n",
      "203                                             olllll     1\n",
      "204                                     lolololollolol     1\n",
      "205                     lolololololololollolololololol     1\n",
      "206                                       hahaahaahaha     1\n",
      "207                                    olooolololololo     1\n",
      "208                                   hahahahahahahahh     1\n",
      "209                                       lololooolool     1\n",
      "210                                       lolololooloo     1\n",
      "211                                    rofllllllllllll     1\n",
      "212                             hahahahahahahahahahahh     1\n",
      "213                                           rofltrap     1\n",
      "214                                              rofll     1\n",
      "215                                        ahahaahahah     1\n",
      "216                              hahhhahahahaahahahahh     1\n",
      "217                                      olololollolol     1\n",
      "218                                hahahhaahahahahahah     1\n",
      "219                                llolololollllllllll     1\n",
      "220                                            lloolll     1\n",
      "221                                     llolololololol     1\n",
      "222                                         loooooooll     1\n",
      "223  ahahahahahahahahahahahahahahahaahahahahahahaha...     1\n",
      "224    hahahahahahahaahhahahahahahhahahahahhahahahahha     1\n",
      "225                                          hahahhaha     1\n",
      "226                                 hahahahahahahahahh     1\n",
      "227                           hahahhahahahahahhahahaha     1\n",
      "228                                   lololollolololol     1\n",
      "229             lolololololololololololollolololololol     1\n",
      "230                                          ahhhhhhhh     1\n",
      "231                                     hahahhahahahah     1\n",
      "232                                      lolllolololol     1\n",
      "233                                         hahahaahah     1\n",
      "234                                       hahhhhhhhhhh     1\n",
      "235  lollllllllllllllllllllllllllllllllllllllllllll...     1\n",
      "236                                                ool     1\n",
      "237                                         loolololol     1\n",
      "238                                        loololollol     1\n",
      "239                   lolololololololollololololololol     1\n",
      "240                                           llololol     1\n",
      "241                                          rofllllll     1\n",
      "242                                           hhaahaha     1\n",
      "243                                    hhahahahaahahah     1\n",
      "244                                             roflok     1\n",
      "245                    hahahahahahahhahahahahahahahhaa     1\n",
      "246                                          lolollool     1\n",
      "247                                     hahahahahahahh     1\n",
      "248                             hahahahahahahahahahaha     1\n",
      "249                                  looooooololololol     1\n",
      "250                           hahahahahahahahaahahahah     1\n",
      "251                                         hhahahahah     1\n",
      "252                             lollololololololololol     1\n",
      "253                                          ahhahhhhh     1\n",
      "254                                          haahahaha     1\n",
      "255                                        lollolololo     1\n",
      "256                loloololollolololololololololololol     1\n",
      "257                                       lolollololol     1\n",
      "258                                       hahahahahhaa     1\n",
      "259                              llloooooooooooooooool     1\n",
      "260                                       hahahaahahah     1\n",
      "261                         hahahahahahahahaahahhaahah     1\n",
      "262                       hahahahahahahahahhahahahahah     1\n",
      "263                       hahahahahahahahahahahahahaha     1\n",
      "264                                    lolololoollolol     1\n",
      "265                                            loollll     1\n",
      "266                                         roflololol     1\n",
      "267     ahhhhhhhhhhhhhhhhhhhhhhhhhhhhhhhhhhhhhhhhhhhhh     1\n",
      "268                                      lolololoololo     1\n",
      "269                                   lolololoolloolol     1\n",
      "270                                         lollollolo     1\n",
      "271                                 hahahahahahahaahah     1\n",
      "272               lollllllllllllllllllllllllllllllllll     1\n",
      "273                                             hahahh     1\n",
      "274                                   hahahahahahhhhhh     1\n",
      "275   lollllllllllllllllllllllllllllllllllllllllllllll     1\n",
      "276                                    lololololooolol     1\n",
      "277                                     lololololollol     1\n",
      "278                                    hahahahahahhaha     1\n",
      "279                                         ahhhhhhhhh     1\n",
      "280                      hahahahahahahahahhahahahahaha     1\n",
      "281                          lolololololloloololololol     1\n",
      "282                                         lolollllll     1\n",
      "283                           lllllllllllollllllllllll     1\n",
      "284                                       hahahhahahah     1\n",
      "285                                      loooooooooool     1\n",
      "286                                 lolololololollolol     1\n",
      "287                                               olll     1\n",
      "288                                          ollololol     1\n",
      "289                                    lollollllllllll     1\n",
      "290                            lollololololollollollol     1\n",
      "291                                   hahahahahhahaahh     1\n",
      "292                            hahahahahahahahahahhaha     1\n",
      "293                                  hahahahahaahahaha     1\n",
      "294                                    lololololoooool     1\n",
      "295                                             hahhah     1\n",
      "296                               loloolololololololol     1\n",
      "297                                          looololol     1\n",
      "298                          hahahahahaahahahahahahaha     1\n",
      "299                      lolllllllllllllllllllllllllll     1\n",
      "300                                         llolololol     1\n",
      "301                                   ahhhhhhhhhhhhhhh     1\n",
      "302                 hahahahahahahahahahahahahhahahahah     1\n",
      "303                                              ollol     1\n",
      "304                                            ahhahah     1\n",
      "305               ahahahahahahahahahahahahahahahahahah     1\n",
      "306                              lolllolololooloololol     1\n",
      "307                                        ahahahahaah     1\n",
      "308                                     roflllllllllll     1\n",
      "309                                            hahhhhh     1\n",
      "310                                           looooool     1\n",
      "311                               roflroflroflroflrofl     1\n",
      "312                                  hahahhaahhahahaha     1\n",
      "313                                        lolololllll     1\n",
      "314                           hahahahahahahahahahahaha     1\n",
      "315                                hahhahahahahhahahah     1\n",
      "316                                       lolololollol     1\n",
      "317     lollllllllllllllllllllllllllllllllllllllllllll     1\n",
      "318                      hahahhhhhhhhhhhhhhhhhhhhhhhhh     1\n",
      "319                                        hahahaahaha     1\n",
      "320  ahhhhhhhhhhhhhhhhhhhhhhhhhhhhhhhhhhhhhhhhhhhhh...     1\n",
      "321                                         lololooool     1\n",
      "322                                     hahahahaahahah     1\n",
      "323                                       ahahahahahah     1\n",
      "324  ahhhhhhhhhhhhhhhhhhhhhhhhhhhhhhhhhhhhhhhhhhhhh...     1\n",
      "325                                           hahahahh     1\n",
      "326           lollllllllllllllllllllllllllllllllllllll     1\n",
      "327                                  hahahahhaahahahah     1\n",
      "328                        hahahahhahahahaahhahahahaha     1\n",
      "329                  lolololololololololololololololol     1\n",
      "330                                        hahahahhaha     1\n",
      "331                                          roflllll'     1\n",
      "332  lollllllllllllllllllllllllllllllllllllllllllll...     1\n",
      "333                      hahahahahahahahahahahahahahah     1\n",
      "334                                           olololol     1\n",
      "335                                            lllolol     1\n",
      "336                                            hahhaha     1\n",
      "337                                         lololoolol     1\n",
      "338                                                llo     1\n",
      "339     hahahahahahahahahahahahahahahahahahahaahahahah     1\n",
      "340                                     lolollolololol     1\n",
      "341                                           ollololo     1\n",
      "342                                       hahahahaahha     1\n"
     ]
    }
   ],
   "source": [
    "print_full(lwords)"
   ]
  },
  {
   "cell_type": "code",
   "execution_count": 24,
   "metadata": {
    "collapsed": false
   },
   "outputs": [
    {
     "data": {
      "text/plain": [
       "collections.Counter"
      ]
     },
     "execution_count": 24,
     "metadata": {},
     "output_type": "execute_result"
    }
   ],
   "source": [
    "type(kwords)"
   ]
  },
  {
   "cell_type": "code",
   "execution_count": 25,
   "metadata": {
    "collapsed": false
   },
   "outputs": [
    {
     "data": {
      "text/plain": [
       "594772"
      ]
     },
     "execution_count": 25,
     "metadata": {},
     "output_type": "execute_result"
    }
   ],
   "source": [
    "sum(kwords.values())"
   ]
  },
  {
   "cell_type": "code",
   "execution_count": 26,
   "metadata": {
    "collapsed": false
   },
   "outputs": [
    {
     "data": {
      "text/plain": [
       "12426"
      ]
     },
     "execution_count": 26,
     "metadata": {},
     "output_type": "execute_result"
    }
   ],
   "source": [
    "lwords[1].sum()"
   ]
  },
  {
   "cell_type": "code",
   "execution_count": 27,
   "metadata": {
    "collapsed": false
   },
   "outputs": [
    {
     "data": {
      "text/plain": [
       "0.020892039302455395"
      ]
     },
     "execution_count": 27,
     "metadata": {},
     "output_type": "execute_result"
    }
   ],
   "source": [
    "lwords[1].sum()/sum(kwords.values())\n",
    "#proportion of the words that I say that are laughter"
   ]
  },
  {
   "cell_type": "code",
   "execution_count": 65,
   "metadata": {
    "collapsed": false
   },
   "outputs": [
    {
     "data": {
      "text/plain": [
       "<matplotlib.axes._subplots.AxesSubplot at 0x10eb23c8>"
      ]
     },
     "execution_count": 65,
     "metadata": {},
     "output_type": "execute_result"
    },
    {
     "data": {
      "image/png": "[encoded data removed]",
      "text/plain": [
       "<matplotlib.figure.Figure at 0x10eaf6a0>"
      ]
     },
     "metadata": {},
     "output_type": "display_data"
    }
   ],
   "source": [
    "lwords = lwords.set_index(0)\n",
    "lwords[:20].plot(kind=\"bar\")"
   ]
  },
  {
   "cell_type": "code",
   "execution_count": 66,
   "metadata": {
    "collapsed": false
   },
   "outputs": [],
   "source": [
    "#x = lwords[:20].plot(kind=\"bar\")\n",
    "#x.set_xticklabels(lwords[0])"
   ]
  },
  {
   "cell_type": "code",
   "execution_count": 67,
   "metadata": {
    "collapsed": false
   },
   "outputs": [
    {
     "data": {
      "text/plain": [
       "6"
      ]
     },
     "execution_count": 67,
     "metadata": {},
     "output_type": "execute_result"
    }
   ],
   "source": [
    "kwords['lmao'], "
   ]
  },
  {
   "cell_type": "code",
   "execution_count": null,
   "metadata": {
    "collapsed": true
   },
   "outputs": [],
   "source": []
  }
 ],
 "metadata": {
  "kernelspec": {
   "display_name": "Python 3",
   "language": "python",
   "name": "python3"
  },
  "language_info": {
   "codemirror_mode": {
    "name": "ipython",
    "version": 3
   },
   "file_extension": ".py",
   "mimetype": "text/x-python",
   "name": "python",
   "nbconvert_exporter": "python",
   "pygments_lexer": "ipython3",
   "version": "3.4.3"
  }
 },
 "nbformat": 4,
 "nbformat_minor": 0
}
