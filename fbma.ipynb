{
 "cells": [
  {
   "cell_type": "code",
   "execution_count": 1,
   "metadata": {
    "collapsed": false
   },
   "outputs": [],
   "source": [
    "import fbma\n",
    "import pandas as pd"
   ]
  },
  {
   "cell_type": "code",
   "execution_count": 2,
   "metadata": {
    "collapsed": false
   },
   "outputs": [
    {
     "data": {
      "text/html": [
       "<div>\n",
       "<table border=\"1\" class=\"dataframe\">\n",
       "  <thead>\n",
       "    <tr style=\"text-align: right;\">\n",
       "      <th></th>\n",
       "      <th>Unnamed: 0</th>\n",
       "      <th>members</th>\n",
       "      <th>sender</th>\n",
       "      <th>text</th>\n",
       "      <th>time</th>\n",
       "    </tr>\n",
       "  </thead>\n",
       "  <tbody>\n",
       "    <tr>\n",
       "      <th>0</th>\n",
       "      <td>0</td>\n",
       "      <td>['Kevin Wang', 'Walton Wu']</td>\n",
       "      <td>Kevin Wang</td>\n",
       "      <td>don't take calcium supplements</td>\n",
       "      <td>2011-06-13 21:20:00</td>\n",
       "    </tr>\n",
       "    <tr>\n",
       "      <th>1</th>\n",
       "      <td>1</td>\n",
       "      <td>['Kevin Wang', 'Walton Wu']</td>\n",
       "      <td>Kevin Wang</td>\n",
       "      <td>my doctor was all</td>\n",
       "      <td>2011-06-13 21:20:00</td>\n",
       "    </tr>\n",
       "    <tr>\n",
       "      <th>2</th>\n",
       "      <td>2</td>\n",
       "      <td>['Kevin Wang', 'Walton Wu']</td>\n",
       "      <td>Kevin Wang</td>\n",
       "      <td>i dunno</td>\n",
       "      <td>2011-06-13 21:20:00</td>\n",
       "    </tr>\n",
       "    <tr>\n",
       "      <th>3</th>\n",
       "      <td>3</td>\n",
       "      <td>['Kevin Wang', 'Walton Wu']</td>\n",
       "      <td>Kevin Wang</td>\n",
       "      <td>asdf</td>\n",
       "      <td>2011-06-13 21:18:00</td>\n",
       "    </tr>\n",
       "    <tr>\n",
       "      <th>4</th>\n",
       "      <td>4</td>\n",
       "      <td>['Kevin Wang', 'Walton Wu']</td>\n",
       "      <td>Walton Wu</td>\n",
       "      <td>lol</td>\n",
       "      <td>2011-06-13 21:18:00</td>\n",
       "    </tr>\n",
       "  </tbody>\n",
       "</table>\n",
       "</div>"
      ],
      "text/plain": [
       "   Unnamed: 0                      members      sender  \\\n",
       "0           0  ['Kevin Wang', 'Walton Wu']  Kevin Wang   \n",
       "1           1  ['Kevin Wang', 'Walton Wu']  Kevin Wang   \n",
       "2           2  ['Kevin Wang', 'Walton Wu']  Kevin Wang   \n",
       "3           3  ['Kevin Wang', 'Walton Wu']  Kevin Wang   \n",
       "4           4  ['Kevin Wang', 'Walton Wu']   Walton Wu   \n",
       "\n",
       "                             text                time  \n",
       "0  don't take calcium supplements 2011-06-13 21:20:00  \n",
       "1               my doctor was all 2011-06-13 21:20:00  \n",
       "2                         i dunno 2011-06-13 21:20:00  \n",
       "3                            asdf 2011-06-13 21:18:00  \n",
       "4                             lol 2011-06-13 21:18:00  "
      ]
     },
     "execution_count": 2,
     "metadata": {},
     "output_type": "execute_result"
    }
   ],
   "source": [
    "fbma.msgs.head()"
   ]
  },
  {
   "cell_type": "code",
   "execution_count": 3,
   "metadata": {
    "collapsed": true
   },
   "outputs": [],
   "source": [
    "%matplotlib inline"
   ]
  },
  {
   "cell_type": "code",
   "execution_count": 4,
   "metadata": {
    "collapsed": true
   },
   "outputs": [],
   "source": [
    "msgs = fbma.msgs"
   ]
  },
  {
   "cell_type": "code",
   "execution_count": 67,
   "metadata": {
    "collapsed": true
   },
   "outputs": [],
   "source": [
    "kevin = msgs[msgs['sender'].isin((\"1847184391@facebook.com\", \"Kevin Wang\"))]"
   ]
  },
  {
   "cell_type": "code",
   "execution_count": 68,
   "metadata": {
    "collapsed": false
   },
   "outputs": [
    {
     "data": {
      "text/html": [
       "<div>\n",
       "<table border=\"1\" class=\"dataframe\">\n",
       "  <thead>\n",
       "    <tr style=\"text-align: right;\">\n",
       "      <th></th>\n",
       "      <th>Unnamed: 0</th>\n",
       "      <th>members</th>\n",
       "      <th>sender</th>\n",
       "      <th>text</th>\n",
       "      <th>time</th>\n",
       "    </tr>\n",
       "  </thead>\n",
       "  <tbody>\n",
       "    <tr>\n",
       "      <th>0</th>\n",
       "      <td>0</td>\n",
       "      <td>['Kevin Wang', 'Walton Wu']</td>\n",
       "      <td>Kevin Wang</td>\n",
       "      <td>don't take calcium supplements</td>\n",
       "      <td>2011-06-13 21:20:00</td>\n",
       "    </tr>\n",
       "    <tr>\n",
       "      <th>1</th>\n",
       "      <td>1</td>\n",
       "      <td>['Kevin Wang', 'Walton Wu']</td>\n",
       "      <td>Kevin Wang</td>\n",
       "      <td>my doctor was all</td>\n",
       "      <td>2011-06-13 21:20:00</td>\n",
       "    </tr>\n",
       "    <tr>\n",
       "      <th>2</th>\n",
       "      <td>2</td>\n",
       "      <td>['Kevin Wang', 'Walton Wu']</td>\n",
       "      <td>Kevin Wang</td>\n",
       "      <td>i dunno</td>\n",
       "      <td>2011-06-13 21:20:00</td>\n",
       "    </tr>\n",
       "    <tr>\n",
       "      <th>3</th>\n",
       "      <td>3</td>\n",
       "      <td>['Kevin Wang', 'Walton Wu']</td>\n",
       "      <td>Kevin Wang</td>\n",
       "      <td>asdf</td>\n",
       "      <td>2011-06-13 21:18:00</td>\n",
       "    </tr>\n",
       "    <tr>\n",
       "      <th>7</th>\n",
       "      <td>7</td>\n",
       "      <td>['Kevin Wang', 'Walton Wu']</td>\n",
       "      <td>Kevin Wang</td>\n",
       "      <td>lol</td>\n",
       "      <td>2011-06-13 21:18:00</td>\n",
       "    </tr>\n",
       "  </tbody>\n",
       "</table>\n",
       "</div>"
      ],
      "text/plain": [
       "   Unnamed: 0                      members      sender  \\\n",
       "0           0  ['Kevin Wang', 'Walton Wu']  Kevin Wang   \n",
       "1           1  ['Kevin Wang', 'Walton Wu']  Kevin Wang   \n",
       "2           2  ['Kevin Wang', 'Walton Wu']  Kevin Wang   \n",
       "3           3  ['Kevin Wang', 'Walton Wu']  Kevin Wang   \n",
       "7           7  ['Kevin Wang', 'Walton Wu']  Kevin Wang   \n",
       "\n",
       "                             text                time  \n",
       "0  don't take calcium supplements 2011-06-13 21:20:00  \n",
       "1               my doctor was all 2011-06-13 21:20:00  \n",
       "2                         i dunno 2011-06-13 21:20:00  \n",
       "3                            asdf 2011-06-13 21:18:00  \n",
       "7                             lol 2011-06-13 21:18:00  "
      ]
     },
     "execution_count": 68,
     "metadata": {},
     "output_type": "execute_result"
    }
   ],
   "source": [
    "kevin.head()"
   ]
  },
  {
   "cell_type": "code",
   "execution_count": 69,
   "metadata": {
    "collapsed": true
   },
   "outputs": [],
   "source": [
    "others = msgs[~msgs['sender'].isin((\"1847184391@facebook.com\", \"Kevin Wang\"))]"
   ]
  },
  {
   "cell_type": "code",
   "execution_count": 70,
   "metadata": {
    "collapsed": false
   },
   "outputs": [
    {
     "data": {
      "text/html": [
       "<div>\n",
       "<table border=\"1\" class=\"dataframe\">\n",
       "  <thead>\n",
       "    <tr style=\"text-align: right;\">\n",
       "      <th></th>\n",
       "      <th>Unnamed: 0</th>\n",
       "      <th>members</th>\n",
       "      <th>sender</th>\n",
       "      <th>text</th>\n",
       "      <th>time</th>\n",
       "    </tr>\n",
       "  </thead>\n",
       "  <tbody>\n",
       "    <tr>\n",
       "      <th>4</th>\n",
       "      <td>4</td>\n",
       "      <td>['Kevin Wang', 'Walton Wu']</td>\n",
       "      <td>Walton Wu</td>\n",
       "      <td>lol</td>\n",
       "      <td>2011-06-13 21:18:00</td>\n",
       "    </tr>\n",
       "    <tr>\n",
       "      <th>5</th>\n",
       "      <td>5</td>\n",
       "      <td>['Kevin Wang', 'Walton Wu']</td>\n",
       "      <td>Walton Wu</td>\n",
       "      <td>lt helps</td>\n",
       "      <td>2011-06-13 21:18:00</td>\n",
       "    </tr>\n",
       "    <tr>\n",
       "      <th>6</th>\n",
       "      <td>6</td>\n",
       "      <td>['Kevin Wang', 'Walton Wu']</td>\n",
       "      <td>Walton Wu</td>\n",
       "      <td>want some calcium pills?</td>\n",
       "      <td>2011-06-13 21:18:00</td>\n",
       "    </tr>\n",
       "    <tr>\n",
       "      <th>9</th>\n",
       "      <td>9</td>\n",
       "      <td>['Kevin Wang', 'Walton Wu']</td>\n",
       "      <td>Walton Wu</td>\n",
       "      <td>l'm pretty much recovered</td>\n",
       "      <td>2011-06-13 21:18:00</td>\n",
       "    </tr>\n",
       "    <tr>\n",
       "      <th>10</th>\n",
       "      <td>10</td>\n",
       "      <td>['Kevin Wang', 'Walton Wu']</td>\n",
       "      <td>Walton Wu</td>\n",
       "      <td>l'm surprised you aren't recovered</td>\n",
       "      <td>2011-06-13 21:18:00</td>\n",
       "    </tr>\n",
       "  </tbody>\n",
       "</table>\n",
       "</div>"
      ],
      "text/plain": [
       "    Unnamed: 0                      members     sender  \\\n",
       "4            4  ['Kevin Wang', 'Walton Wu']  Walton Wu   \n",
       "5            5  ['Kevin Wang', 'Walton Wu']  Walton Wu   \n",
       "6            6  ['Kevin Wang', 'Walton Wu']  Walton Wu   \n",
       "9            9  ['Kevin Wang', 'Walton Wu']  Walton Wu   \n",
       "10          10  ['Kevin Wang', 'Walton Wu']  Walton Wu   \n",
       "\n",
       "                                  text                time  \n",
       "4                                  lol 2011-06-13 21:18:00  \n",
       "5                             lt helps 2011-06-13 21:18:00  \n",
       "6            want some calcium pills?  2011-06-13 21:18:00  \n",
       "9            l'm pretty much recovered 2011-06-13 21:18:00  \n",
       "10  l'm surprised you aren't recovered 2011-06-13 21:18:00  "
      ]
     },
     "execution_count": 70,
     "metadata": {},
     "output_type": "execute_result"
    }
   ],
   "source": [
    "others.head()"
   ]
  },
  {
   "cell_type": "code",
   "execution_count": 9,
   "metadata": {
    "collapsed": true
   },
   "outputs": [],
   "source": [
    "from collections import Counter\n",
    "def make_words(df, case_sensitive = False):\n",
    "    words = Counter()\n",
    "    txt = df[\"text\"]\n",
    "    if case_sensitive == False:\n",
    "        txt = txt.str.lower()\n",
    "    #print(txt.str.split())\n",
    "    txt.str.split().apply(words.update)\n",
    "    return words"
   ]
  },
  {
   "cell_type": "code",
   "execution_count": 10,
   "metadata": {
    "collapsed": false
   },
   "outputs": [],
   "source": [
    "kevin = kevin[1:]"
   ]
  },
  {
   "cell_type": "code",
   "execution_count": 11,
   "metadata": {
    "collapsed": false,
    "scrolled": true
   },
   "outputs": [
    {
     "data": {
      "text/html": [
       "<div>\n",
       "<table border=\"1\" class=\"dataframe\">\n",
       "  <thead>\n",
       "    <tr style=\"text-align: right;\">\n",
       "      <th></th>\n",
       "      <th>Unnamed: 0</th>\n",
       "      <th>members</th>\n",
       "      <th>sender</th>\n",
       "      <th>text</th>\n",
       "      <th>time</th>\n",
       "    </tr>\n",
       "  </thead>\n",
       "  <tbody>\n",
       "  </tbody>\n",
       "</table>\n",
       "</div>"
      ],
      "text/plain": [
       "Empty DataFrame\n",
       "Columns: [Unnamed: 0, members, sender, text, time]\n",
       "Index: []"
      ]
     },
     "execution_count": 11,
     "metadata": {},
     "output_type": "execute_result"
    }
   ],
   "source": [
    "others[others.text.isnull()]\n",
    "#kevin[kevin.text.isnull()]"
   ]
  },
  {
   "cell_type": "code",
   "execution_count": 12,
   "metadata": {
    "collapsed": false
   },
   "outputs": [],
   "source": [
    "kwords = make_words(kevin)\n",
    "owords = make_words(others)"
   ]
  },
  {
   "cell_type": "code",
   "execution_count": 13,
   "metadata": {
    "collapsed": false
   },
   "outputs": [],
   "source": [
    "#kwords"
   ]
  },
  {
   "cell_type": "code",
   "execution_count": null,
   "metadata": {
    "collapsed": true
   },
   "outputs": [],
   "source": []
  },
  {
   "cell_type": "code",
   "execution_count": 14,
   "metadata": {
    "collapsed": false
   },
   "outputs": [],
   "source": [
    "def laugh_words(words):\n",
    "    for word, amount in sorted(words.items(), key=lambda x: x[1], reverse = True):\n",
    "        if (set(word) in ({\"h\", \"a\"}, {\"l\", \"o\"})) or (word[:4] == \"rofl\"):\n",
    "            if word not in {'ah'}:\n",
    "                yield (word, amount)"
   ]
  },
  {
   "cell_type": "code",
   "execution_count": 15,
   "metadata": {
    "collapsed": false
   },
   "outputs": [],
   "source": [
    "lwords = pd.DataFrame(list(laugh_words(kwords)))"
   ]
  },
  {
   "cell_type": "code",
   "execution_count": 16,
   "metadata": {
    "collapsed": false
   },
   "outputs": [
    {
     "data": {
      "text/html": [
       "<div>\n",
       "<table border=\"1\" class=\"dataframe\">\n",
       "  <thead>\n",
       "    <tr style=\"text-align: right;\">\n",
       "      <th></th>\n",
       "      <th>0</th>\n",
       "      <th>1</th>\n",
       "    </tr>\n",
       "  </thead>\n",
       "  <tbody>\n",
       "    <tr>\n",
       "      <th>0</th>\n",
       "      <td>lol</td>\n",
       "      <td>7628</td>\n",
       "    </tr>\n",
       "    <tr>\n",
       "      <th>1</th>\n",
       "      <td>haha</td>\n",
       "      <td>1004</td>\n",
       "    </tr>\n",
       "    <tr>\n",
       "      <th>2</th>\n",
       "      <td>rofl</td>\n",
       "      <td>560</td>\n",
       "    </tr>\n",
       "    <tr>\n",
       "      <th>3</th>\n",
       "      <td>hahaha</td>\n",
       "      <td>342</td>\n",
       "    </tr>\n",
       "    <tr>\n",
       "      <th>4</th>\n",
       "      <td>hahahaha</td>\n",
       "      <td>267</td>\n",
       "    </tr>\n",
       "  </tbody>\n",
       "</table>\n",
       "</div>"
      ],
      "text/plain": [
       "          0     1\n",
       "0       lol  7628\n",
       "1      haha  1004\n",
       "2      rofl   560\n",
       "3    hahaha   342\n",
       "4  hahahaha   267"
      ]
     },
     "execution_count": 16,
     "metadata": {},
     "output_type": "execute_result"
    }
   ],
   "source": [
    "lwords.head()"
   ]
  },
  {
   "cell_type": "code",
   "execution_count": 17,
   "metadata": {
    "collapsed": false
   },
   "outputs": [
    {
     "data": {
      "text/plain": [
       "<matplotlib.axes._subplots.AxesSubplot at 0xe0d1550>"
      ]
     },
     "execution_count": 17,
     "metadata": {},
     "output_type": "execute_result"
    },
    {
     "data": {
      "image/png": "[encoded data removed]",
      "text/plain": [
       "<matplotlib.figure.Figure at 0xe0cf9b0>"
      ]
     },
     "metadata": {},
     "output_type": "display_data"
    }
   ],
   "source": [
    "lwords.plot(kind=\"bar\")"
   ]
  },
  {
   "cell_type": "code",
   "execution_count": 18,
   "metadata": {
    "collapsed": false
   },
   "outputs": [
    {
     "data": {
      "text/html": [
       "<div>\n",
       "<table border=\"1\" class=\"dataframe\">\n",
       "  <thead>\n",
       "    <tr style=\"text-align: right;\">\n",
       "      <th></th>\n",
       "      <th>0</th>\n",
       "      <th>1</th>\n",
       "    </tr>\n",
       "  </thead>\n",
       "  <tbody>\n",
       "    <tr>\n",
       "      <th>0</th>\n",
       "      <td>lol</td>\n",
       "      <td>7628</td>\n",
       "    </tr>\n",
       "    <tr>\n",
       "      <th>1</th>\n",
       "      <td>haha</td>\n",
       "      <td>1004</td>\n",
       "    </tr>\n",
       "    <tr>\n",
       "      <th>2</th>\n",
       "      <td>rofl</td>\n",
       "      <td>560</td>\n",
       "    </tr>\n",
       "    <tr>\n",
       "      <th>3</th>\n",
       "      <td>hahaha</td>\n",
       "      <td>342</td>\n",
       "    </tr>\n",
       "    <tr>\n",
       "      <th>4</th>\n",
       "      <td>hahahaha</td>\n",
       "      <td>267</td>\n",
       "    </tr>\n",
       "    <tr>\n",
       "      <th>5</th>\n",
       "      <td>lololol</td>\n",
       "      <td>245</td>\n",
       "    </tr>\n",
       "    <tr>\n",
       "      <th>6</th>\n",
       "      <td>lolololol</td>\n",
       "      <td>206</td>\n",
       "    </tr>\n",
       "    <tr>\n",
       "      <th>7</th>\n",
       "      <td>hahahahah</td>\n",
       "      <td>168</td>\n",
       "    </tr>\n",
       "    <tr>\n",
       "      <th>8</th>\n",
       "      <td>hahahah</td>\n",
       "      <td>142</td>\n",
       "    </tr>\n",
       "    <tr>\n",
       "      <th>9</th>\n",
       "      <td>lollll</td>\n",
       "      <td>124</td>\n",
       "    </tr>\n",
       "    <tr>\n",
       "      <th>10</th>\n",
       "      <td>hahahahaha</td>\n",
       "      <td>121</td>\n",
       "    </tr>\n",
       "    <tr>\n",
       "      <th>11</th>\n",
       "      <td>lololololol</td>\n",
       "      <td>93</td>\n",
       "    </tr>\n",
       "    <tr>\n",
       "      <th>12</th>\n",
       "      <td>hahahahahah</td>\n",
       "      <td>92</td>\n",
       "    </tr>\n",
       "    <tr>\n",
       "      <th>13</th>\n",
       "      <td>lolllll</td>\n",
       "      <td>76</td>\n",
       "    </tr>\n",
       "    <tr>\n",
       "      <th>14</th>\n",
       "      <td>lolll</td>\n",
       "      <td>66</td>\n",
       "    </tr>\n",
       "    <tr>\n",
       "      <th>15</th>\n",
       "      <td>lolol</td>\n",
       "      <td>60</td>\n",
       "    </tr>\n",
       "    <tr>\n",
       "      <th>16</th>\n",
       "      <td>hahahahahaha</td>\n",
       "      <td>56</td>\n",
       "    </tr>\n",
       "    <tr>\n",
       "      <th>17</th>\n",
       "      <td>lollllll</td>\n",
       "      <td>53</td>\n",
       "    </tr>\n",
       "    <tr>\n",
       "      <th>18</th>\n",
       "      <td>lolololololol</td>\n",
       "      <td>37</td>\n",
       "    </tr>\n",
       "    <tr>\n",
       "      <th>19</th>\n",
       "      <td>hahahahahahah</td>\n",
       "      <td>34</td>\n",
       "    </tr>\n",
       "    <tr>\n",
       "      <th>20</th>\n",
       "      <td>lo</td>\n",
       "      <td>33</td>\n",
       "    </tr>\n",
       "    <tr>\n",
       "      <th>21</th>\n",
       "      <td>lollllllll</td>\n",
       "      <td>29</td>\n",
       "    </tr>\n",
       "    <tr>\n",
       "      <th>22</th>\n",
       "      <td>ahah</td>\n",
       "      <td>28</td>\n",
       "    </tr>\n",
       "    <tr>\n",
       "      <th>23</th>\n",
       "      <td>lolllllll</td>\n",
       "      <td>27</td>\n",
       "    </tr>\n",
       "    <tr>\n",
       "      <th>24</th>\n",
       "      <td>loll</td>\n",
       "      <td>27</td>\n",
       "    </tr>\n",
       "    <tr>\n",
       "      <th>25</th>\n",
       "      <td>ha</td>\n",
       "      <td>25</td>\n",
       "    </tr>\n",
       "    <tr>\n",
       "      <th>26</th>\n",
       "      <td>ahahahah</td>\n",
       "      <td>24</td>\n",
       "    </tr>\n",
       "    <tr>\n",
       "      <th>27</th>\n",
       "      <td>hah</td>\n",
       "      <td>22</td>\n",
       "    </tr>\n",
       "    <tr>\n",
       "      <th>28</th>\n",
       "      <td>lolllllllll</td>\n",
       "      <td>21</td>\n",
       "    </tr>\n",
       "    <tr>\n",
       "      <th>29</th>\n",
       "      <td>lololololololol</td>\n",
       "      <td>20</td>\n",
       "    </tr>\n",
       "    <tr>\n",
       "      <th>...</th>\n",
       "      <td>...</td>\n",
       "      <td>...</td>\n",
       "    </tr>\n",
       "    <tr>\n",
       "      <th>313</th>\n",
       "      <td>hhahahahaahahah</td>\n",
       "      <td>1</td>\n",
       "    </tr>\n",
       "    <tr>\n",
       "      <th>314</th>\n",
       "      <td>hahahhaahhahahaha</td>\n",
       "      <td>1</td>\n",
       "    </tr>\n",
       "    <tr>\n",
       "      <th>315</th>\n",
       "      <td>haahahaha</td>\n",
       "      <td>1</td>\n",
       "    </tr>\n",
       "    <tr>\n",
       "      <th>316</th>\n",
       "      <td>hahahahahahahahahahahahahahahahahahahahahaha</td>\n",
       "      <td>1</td>\n",
       "    </tr>\n",
       "    <tr>\n",
       "      <th>317</th>\n",
       "      <td>lollollllll</td>\n",
       "      <td>1</td>\n",
       "    </tr>\n",
       "    <tr>\n",
       "      <th>318</th>\n",
       "      <td>lolooll</td>\n",
       "      <td>1</td>\n",
       "    </tr>\n",
       "    <tr>\n",
       "      <th>319</th>\n",
       "      <td>olll</td>\n",
       "      <td>1</td>\n",
       "    </tr>\n",
       "    <tr>\n",
       "      <th>320</th>\n",
       "      <td>hahahahahahahahahahh</td>\n",
       "      <td>1</td>\n",
       "    </tr>\n",
       "    <tr>\n",
       "      <th>321</th>\n",
       "      <td>hahahahahahahahaahahhaahah</td>\n",
       "      <td>1</td>\n",
       "    </tr>\n",
       "    <tr>\n",
       "      <th>322</th>\n",
       "      <td>roflololol</td>\n",
       "      <td>1</td>\n",
       "    </tr>\n",
       "    <tr>\n",
       "      <th>323</th>\n",
       "      <td>ahhahaha</td>\n",
       "      <td>1</td>\n",
       "    </tr>\n",
       "    <tr>\n",
       "      <th>324</th>\n",
       "      <td>lllllllllllollllllllllll</td>\n",
       "      <td>1</td>\n",
       "    </tr>\n",
       "    <tr>\n",
       "      <th>325</th>\n",
       "      <td>lollollllllllll</td>\n",
       "      <td>1</td>\n",
       "    </tr>\n",
       "    <tr>\n",
       "      <th>326</th>\n",
       "      <td>hahahaahah</td>\n",
       "      <td>1</td>\n",
       "    </tr>\n",
       "    <tr>\n",
       "      <th>327</th>\n",
       "      <td>lolooolololo</td>\n",
       "      <td>1</td>\n",
       "    </tr>\n",
       "    <tr>\n",
       "      <th>328</th>\n",
       "      <td>ahahaahahah</td>\n",
       "      <td>1</td>\n",
       "    </tr>\n",
       "    <tr>\n",
       "      <th>329</th>\n",
       "      <td>hahahahahahahahahahahahahahah</td>\n",
       "      <td>1</td>\n",
       "    </tr>\n",
       "    <tr>\n",
       "      <th>330</th>\n",
       "      <td>hahhhhh</td>\n",
       "      <td>1</td>\n",
       "    </tr>\n",
       "    <tr>\n",
       "      <th>331</th>\n",
       "      <td>lolololololololololololollolololololol</td>\n",
       "      <td>1</td>\n",
       "    </tr>\n",
       "    <tr>\n",
       "      <th>332</th>\n",
       "      <td>lolllol</td>\n",
       "      <td>1</td>\n",
       "    </tr>\n",
       "    <tr>\n",
       "      <th>333</th>\n",
       "      <td>hahahahahahhaahahahah</td>\n",
       "      <td>1</td>\n",
       "    </tr>\n",
       "    <tr>\n",
       "      <th>334</th>\n",
       "      <td>roflcopter</td>\n",
       "      <td>1</td>\n",
       "    </tr>\n",
       "    <tr>\n",
       "      <th>335</th>\n",
       "      <td>loooooooooool</td>\n",
       "      <td>1</td>\n",
       "    </tr>\n",
       "    <tr>\n",
       "      <th>336</th>\n",
       "      <td>hahahahahahahahh</td>\n",
       "      <td>1</td>\n",
       "    </tr>\n",
       "    <tr>\n",
       "      <th>337</th>\n",
       "      <td>looololol</td>\n",
       "      <td>1</td>\n",
       "    </tr>\n",
       "    <tr>\n",
       "      <th>338</th>\n",
       "      <td>hahahahaahahah</td>\n",
       "      <td>1</td>\n",
       "    </tr>\n",
       "    <tr>\n",
       "      <th>339</th>\n",
       "      <td>lollolololo</td>\n",
       "      <td>1</td>\n",
       "    </tr>\n",
       "    <tr>\n",
       "      <th>340</th>\n",
       "      <td>hahahaaha</td>\n",
       "      <td>1</td>\n",
       "    </tr>\n",
       "    <tr>\n",
       "      <th>341</th>\n",
       "      <td>hahahahhaha</td>\n",
       "      <td>1</td>\n",
       "    </tr>\n",
       "    <tr>\n",
       "      <th>342</th>\n",
       "      <td>lololololooolol</td>\n",
       "      <td>1</td>\n",
       "    </tr>\n",
       "  </tbody>\n",
       "</table>\n",
       "<p>343 rows × 2 columns</p>\n",
       "</div>"
      ],
      "text/plain": [
       "                                                0     1\n",
       "0                                             lol  7628\n",
       "1                                            haha  1004\n",
       "2                                            rofl   560\n",
       "3                                          hahaha   342\n",
       "4                                        hahahaha   267\n",
       "5                                         lololol   245\n",
       "6                                       lolololol   206\n",
       "7                                       hahahahah   168\n",
       "8                                         hahahah   142\n",
       "9                                          lollll   124\n",
       "10                                     hahahahaha   121\n",
       "11                                    lololololol    93\n",
       "12                                    hahahahahah    92\n",
       "13                                        lolllll    76\n",
       "14                                          lolll    66\n",
       "15                                          lolol    60\n",
       "16                                   hahahahahaha    56\n",
       "17                                       lollllll    53\n",
       "18                                  lolololololol    37\n",
       "19                                  hahahahahahah    34\n",
       "20                                             lo    33\n",
       "21                                     lollllllll    29\n",
       "22                                           ahah    28\n",
       "23                                      lolllllll    27\n",
       "24                                           loll    27\n",
       "25                                             ha    25\n",
       "26                                       ahahahah    24\n",
       "27                                            hah    22\n",
       "28                                    lolllllllll    21\n",
       "29                                lololololololol    20\n",
       "..                                            ...   ...\n",
       "313                               hhahahahaahahah     1\n",
       "314                             hahahhaahhahahaha     1\n",
       "315                                     haahahaha     1\n",
       "316  hahahahahahahahahahahahahahahahahahahahahaha     1\n",
       "317                                   lollollllll     1\n",
       "318                                       lolooll     1\n",
       "319                                          olll     1\n",
       "320                          hahahahahahahahahahh     1\n",
       "321                    hahahahahahahahaahahhaahah     1\n",
       "322                                    roflololol     1\n",
       "323                                      ahhahaha     1\n",
       "324                      lllllllllllollllllllllll     1\n",
       "325                               lollollllllllll     1\n",
       "326                                    hahahaahah     1\n",
       "327                                  lolooolololo     1\n",
       "328                                   ahahaahahah     1\n",
       "329                 hahahahahahahahahahahahahahah     1\n",
       "330                                       hahhhhh     1\n",
       "331        lolololololololololololollolololololol     1\n",
       "332                                       lolllol     1\n",
       "333                         hahahahahahhaahahahah     1\n",
       "334                                    roflcopter     1\n",
       "335                                 loooooooooool     1\n",
       "336                              hahahahahahahahh     1\n",
       "337                                     looololol     1\n",
       "338                                hahahahaahahah     1\n",
       "339                                   lollolololo     1\n",
       "340                                     hahahaaha     1\n",
       "341                                   hahahahhaha     1\n",
       "342                               lololololooolol     1\n",
       "\n",
       "[343 rows x 2 columns]"
      ]
     },
     "execution_count": 18,
     "metadata": {},
     "output_type": "execute_result"
    }
   ],
   "source": [
    "lwords"
   ]
  },
  {
   "cell_type": "code",
   "execution_count": 19,
   "metadata": {
    "collapsed": false
   },
   "outputs": [],
   "source": [
    "def print_full(x):\n",
    "    pd.set_option('display.max_rows', len(x))\n",
    "    print(x)\n",
    "    pd.reset_option('display.max_rows')"
   ]
  },
  {
   "cell_type": "code",
   "execution_count": 20,
   "metadata": {
    "collapsed": false
   },
   "outputs": [
    {
     "name": "stdout",
     "output_type": "stream",
     "text": [
      "                                                     0     1\n",
      "0                                                  lol  7628\n",
      "1                                                 haha  1004\n",
      "2                                                 rofl   560\n",
      "3                                               hahaha   342\n",
      "4                                             hahahaha   267\n",
      "5                                              lololol   245\n",
      "6                                            lolololol   206\n",
      "7                                            hahahahah   168\n",
      "8                                              hahahah   142\n",
      "9                                               lollll   124\n",
      "10                                          hahahahaha   121\n",
      "11                                         lololololol    93\n",
      "12                                         hahahahahah    92\n",
      "13                                             lolllll    76\n",
      "14                                               lolll    66\n",
      "15                                               lolol    60\n",
      "16                                        hahahahahaha    56\n",
      "17                                            lollllll    53\n",
      "18                                       lolololololol    37\n",
      "19                                       hahahahahahah    34\n",
      "20                                                  lo    33\n",
      "21                                          lollllllll    29\n",
      "22                                                ahah    28\n",
      "23                                           lolllllll    27\n",
      "24                                                loll    27\n",
      "25                                                  ha    25\n",
      "26                                            ahahahah    24\n",
      "27                                                 hah    22\n",
      "28                                         lolllllllll    21\n",
      "29                                     lololololololol    20\n",
      "30                                              ahahah    20\n",
      "31                                               hahah    20\n",
      "32                                      hahahahahahaha    19\n",
      "33                                        lollllllllll    18\n",
      "34                                     hahahahahahahah    17\n",
      "35                                                 aha    16\n",
      "36                                     lolllllllllllll    15\n",
      "37                                      lollllllllllll    15\n",
      "38                                            lolololo    14\n",
      "39                                       lolllllllllll    14\n",
      "40                                  lollllllllllllllll    13\n",
      "41                                                  ol    13\n",
      "42                                    lollllllllllllll    11\n",
      "43                                          ahahahahah    11\n",
      "44                                        hahahahahaah    11\n",
      "45                                               ahhhh    10\n",
      "46                                    hahahahahahahaha     9\n",
      "47                                           hahahahaa     9\n",
      "48                                              lolool     9\n",
      "49                                        hahahahaahah     9\n",
      "50                                   lolllllllllllllll     9\n",
      "51                                   lolololololololol     8\n",
      "52                                             hahahaa     8\n",
      "53                                  hahahahahahahahaha     8\n",
      "54                                 lolllllllllllllllll     7\n",
      "55                                            lolololl     7\n",
      "56                                          hahahahaah     7\n",
      "57                                          ololololol     7\n",
      "58                                            lollolol     7\n",
      "59                              lollllllllllllllllllll     6\n",
      "60                         lolllllllllllllllllllllllll     6\n",
      "61                                              ahhhhh     6\n",
      "62                                            loololol     6\n",
      "63                                          loloololol     6\n",
      "64                                          lollololol     6\n",
      "65                                            lololool     6\n",
      "66                                   hahahahahahahahah     5\n",
      "67                                             ahahaha     5\n",
      "68                                             ahhhhhh     5\n",
      "69                                          lololololo     5\n",
      "70                                        roflroflrofl     5\n",
      "71                                              lololo     5\n",
      "72                          lollllllllllllllllllllllll     5\n",
      "73                            lollllllllllllllllllllll     5\n",
      "74                                   ahhhhhhhhhhhhhhhh     4\n",
      "75                                      hahahahahahaah     4\n",
      "76                                                ahhh     4\n",
      "77                                               hahaa     4\n",
      "78                                                olol     4\n",
      "79                                       hahahahahahaa     4\n",
      "80                                            ahhhhhhh     4\n",
      "81                                              lollol     4\n",
      "82                           lolllllllllllllllllllllll     4\n",
      "83                                lollllllllllllllllll     4\n",
      "84                                        lolololololo     4\n",
      "85                                         hahahahaahh     3\n",
      "86                               lolololololololololol     3\n",
      "87                                          hahahahahh     3\n",
      "88                                  hahahahahahahahaah     3\n",
      "89                                          lololololl     3\n",
      "90                                               loool     3\n",
      "91                                                llol     3\n",
      "92                                                lool     3\n",
      "93                                              llolol     3\n",
      "94                               hahahahahahahahahahah     3\n",
      "95                                          lolololool     3\n",
      "96                                             hahahha     3\n",
      "97                                             rofllll     3\n",
      "98                                       ahhhhhhhhhhhh     3\n",
      "99                             lolllllllllllllllllllll     3\n",
      "100                              lolllllllllllllllllll     3\n",
      "101                                         lolollolol     3\n",
      "102                                             ahhaha     2\n",
      "103                                             roflll     2\n",
      "104                                        hhahahahaha     2\n",
      "105                                       lololoololol     2\n",
      "106                                             hahaah     2\n",
      "107              lolllllllllllllllllllllllllllllllllll     2\n",
      "108                       lollllllllllllllllllllllllll     2\n",
      "109                                            hhahaha     2\n",
      "110                                      rofllllllllll     2\n",
      "111                                             ololol     2\n",
      "112  lollllllllllllllllllllllllllllllllllllllllllll...     2\n",
      "113                   lollllllllllllllllllllllllllllll     2\n",
      "114                                           ahhahahh     2\n",
      "115                                             lololl     2\n",
      "116                                           hhahahah     2\n",
      "117                         ahhhhhhhhhhhhhhhhhhhhhhhhh     2\n",
      "118                                             loolol     2\n",
      "119                                       hhahahahahah     2\n",
      "120                                          ahahaahah     2\n",
      "121                                     lololololololl     2\n",
      "122                                   lolololololololo     2\n",
      "123                                           loloolol     2\n",
      "124                                          hhahahaha     2\n",
      "125             lollllllllllllllllllllllllllllllllllll     2\n",
      "126                                        hahahahahaa     2\n",
      "127                                     lollololololol     2\n",
      "128                        lololololololololololololol     2\n",
      "129                                hahahahahahahahahah     2\n",
      "130                                        hhhahahahah     2\n",
      "131                                        ahahahahaha     2\n",
      "132                                           hahahaah     2\n",
      "133                                            rofling     2\n",
      "134                                          ahahahaha     2\n",
      "135                                     hahahahahaahah     2\n",
      "136                                           roflrofl     2\n",
      "137                                    ahahahahahahaha     2\n",
      "138                               hahahahahahahahahaha     2\n",
      "139                                              rofl.     1\n",
      "140                                       llololololol     1\n",
      "141                               loloolololololololol     1\n",
      "142                                lololololololololol     1\n",
      "143                                       hahhhhhhhhhh     1\n",
      "144                                       oolololollol     1\n",
      "145                                   hahahahahaahahah     1\n",
      "146                                        lolololllll     1\n",
      "147                                       hahahahahahh     1\n",
      "148                                                llo     1\n",
      "149  lollllllllllllllllllllllllllllllllllllllllllll...     1\n",
      "150                                           llololol     1\n",
      "151                                       haahahahahah     1\n",
      "152                           hahahahahahahahahahahaha     1\n",
      "153                                 hahahahhahahahahah     1\n",
      "154                                   lolololoolloolol     1\n",
      "155                                 hahahahahahahaahah     1\n",
      "156                              ahhhhhhhhhhhhhhhhhhhh     1\n",
      "157                                   hahahahahhahaahh     1\n",
      "158                                  hahahahhaahahahah     1\n",
      "159                                            ahhahah     1\n",
      "160                                     hahahhahahahah     1\n",
      "161                                          hahahaahh     1\n",
      "162                                           hahahahh     1\n",
      "163                                       lolololollol     1\n",
      "164                               roflroflroflroflrofl     1\n",
      "165                                       hahahahahhaa     1\n",
      "166                                       lololololool     1\n",
      "167                           hahahahahahahahaahahahah     1\n",
      "168                                   hahahahahahaahah     1\n",
      "169                                              ollol     1\n",
      "170                              llloooooooooooooooool     1\n",
      "171                                               lolo     1\n",
      "172                                           ololllll     1\n",
      "173                                   ahhhhhhhhhhhhhhh     1\n",
      "174                  lolololololololololololololololol     1\n",
      "175                                           looooool     1\n",
      "176                          hahahahahaahahahahahahaha     1\n",
      "177                                      lolllolololol     1\n",
      "178    hahahahahahahaahhahahahahahhahahahahhahahahahha     1\n",
      "179                                              rofll     1\n",
      "180                                       haaaaahahaha     1\n",
      "181                loloololollolololololololololololol     1\n",
      "182                                    olooolololololo     1\n",
      "183                                           ollololo     1\n",
      "184                                           olololol     1\n",
      "185                                          hahahhaha     1\n",
      "186                                       hahahhahahah     1\n",
      "187                                     llolololololol     1\n",
      "188                                         loolololol     1\n",
      "189                                 hahahahahahaahahah     1\n",
      "190                                     lolollolololol     1\n",
      "191                             hahahahahahahahahahaha     1\n",
      "192  lolllllllllllllllllllllllllllllllllllllllllllllll     1\n",
      "193                                          ahhhhhhhh     1\n",
      "194                                            lllolol     1\n",
      "195                                    lololololoooool     1\n",
      "196                              lololololololllllllll     1\n",
      "197                                                ahh     1\n",
      "198                             ahhhhhhhhhhhhhhhhhhhhh     1\n",
      "199                                          roflllll'     1\n",
      "200                                         hhahahahah     1\n",
      "201                                          lollololl     1\n",
      "202                                        llololololl     1\n",
      "203                       hahahahahahahahahahahahahaha     1\n",
      "204                                    rofllllllllllll     1\n",
      "205                     lollllllllllllllllllllllllllll     1\n",
      "206                                       hahahaahahah     1\n",
      "207                              lolllolololooloololol     1\n",
      "208                                            hahhaha     1\n",
      "209   lollllllllllllllllllllllllllllllllllllllllllllll     1\n",
      "210                                hahahhaahahahahahah     1\n",
      "211                                        loololollol     1\n",
      "212                                            loollll     1\n",
      "213                                         lollollolo     1\n",
      "214                                     hahahahahahahh     1\n",
      "215                                   hahahahahahhhhhh     1\n",
      "216           lollllllllllllllllllllllllllllllllllllll     1\n",
      "217                                    lolololoollolol     1\n",
      "218                                       hahaahaahaha     1\n",
      "219                                         loooooooll     1\n",
      "220                                         lolollllll     1\n",
      "221  llllllllllllllllllllllllllllllllllllllllllllll...     1\n",
      "222                                       lolollololol     1\n",
      "223                                        lololollolo     1\n",
      "224                                          rofllllll     1\n",
      "225  lollllllllllllllllllllllllllllllllllllllllllll...     1\n",
      "226                    hahahahahahahhahahahahahahahhaa     1\n",
      "227                   lolololololololollololololololol     1\n",
      "228                                         lololoolol     1\n",
      "229  lollllllllllllllllllllllllllllllllllllllllllll...     1\n",
      "230                                      lolololoololo     1\n",
      "231     ahhhhhhhhhhhhhhhhhhhhhhhhhhhhhhhhhhhhhhhhhhhhh     1\n",
      "232                             hahahahahahahahahahahh     1\n",
      "233                          lolololololloloololololol     1\n",
      "234                                          lolollool     1\n",
      "235               ahhhhhhhhhhhhhhhhhhhhhhhhhhhhhhhhhhh     1\n",
      "236                     lolololololololollolololololol     1\n",
      "237                            hahahahahahaahahahahaha     1\n",
      "238  lollllllllllllllllllllllllllllllllllllllllllll...     1\n",
      "239                                   lollolololololol     1\n",
      "240                      lolllllllllllllllllllllllllll     1\n",
      "241                                             olllll     1\n",
      "242                                         lololooool     1\n",
      "243                              hahhhahahahaahahahahh     1\n",
      "244                                          ahhahhhhh     1\n",
      "245  hahahahahahahahaahahahahahahahahahahahahahahah...     1\n",
      "246                                           hhaahaha     1\n",
      "247                                          hahahahha     1\n",
      "248                                      hahahahahaaha     1\n",
      "249                                        ahahahahaah     1\n",
      "250  ahhhhhhhhhhhhhhhhhhhhhhhhhhhhhhhhhhhhhhhhhhhhh...     1\n",
      "251                       hahahahahahahahahhahahahahah     1\n",
      "252                                       lololooolool     1\n",
      "253                                      olololollolol     1\n",
      "254                                  looooooololololol     1\n",
      "255                                            lloolll     1\n",
      "256                                hahhahahahahhahahah     1\n",
      "257                            lollololololollollollol     1\n",
      "258                                   lolololololololl     1\n",
      "259     hahahahahahahahahahahahahahahahahahahaahahahah     1\n",
      "260                                  hahahahahaahahaha     1\n",
      "261                        ahhhhhhhhhhhhhhhhhhhhhhhhhh     1\n",
      "262                                        hahahaahaha     1\n",
      "263               lollllllllllllllllllllllllllllllllll     1\n",
      "264                                             hahhah     1\n",
      "265  ahahahahahahahahahahahahahahahaahahahahahahaha...     1\n",
      "266                                   lololollolololol     1\n",
      "267                                 lolololololollolol     1\n",
      "268                                     lolololollolol     1\n",
      "269                      hahahhhhhhhhhhhhhhhhhhhhhhhhh     1\n",
      "270                                           llolllll     1\n",
      "271                                     loloololololol     1\n",
      "272                                llolololollllllllll     1\n",
      "273                 hahahahahahahahahahahahahhahahahah     1\n",
      "274                                             looool     1\n",
      "275                                       ahahahahahah     1\n",
      "276                                         lololollol     1\n",
      "277                             lollololololololololol     1\n",
      "278                                        lololoooool     1\n",
      "279                                         llolololol     1\n",
      "280                                           lolollol     1\n",
      "281                                             hahahh     1\n",
      "282                                          ollololol     1\n",
      "283                                     lololololollol     1\n",
      "284                     roflllllllllllllllllllllllllll     1\n",
      "285                                  hahahahahahahahaa     1\n",
      "286                                     roflllllllllll     1\n",
      "287                       hahahahahahahahahahahahahaah     1\n",
      "288                                         hahhahahah     1\n",
      "289                                             roflok     1\n",
      "290                            hahahahahahahahahahhaha     1\n",
      "291                                       lolololooloo     1\n",
      "292                      hahahahahahahahahhahahahahaha     1\n",
      "293               ahahahahahahahahahahahahahahahahahah     1\n",
      "294                                        hahahhahaah     1\n",
      "295         lololololololololololololololololollololol     1\n",
      "296                                       lollolololol     1\n",
      "297                                       hahahahaahha     1\n",
      "298                                     hahahahhahahah     1\n",
      "299                                   hahahahaahahahah     1\n",
      "300     lollllllllllllllllllllllllllllllllllllllllllll     1\n",
      "301  lollllllllllllllllllllllllllllllllllllllllllll...     1\n",
      "302                                     hahahahahhahah     1\n",
      "303                            hahahahahahahahahahahah     1\n",
      "304                                         ahhhhhhhhh     1\n",
      "305                                           rofltrap     1\n",
      "306  ahhhhhhhhhhhhhhhhhhhhhhhhhhhhhhhhhhhhhhhhhhhhh...     1\n",
      "307                                 hahahahahahahahahh     1\n",
      "308                                                ool     1\n",
      "309                        hahahahhahahahaahhahahahaha     1\n",
      "310                                            loooool     1\n",
      "311                                    hahahahahahhaha     1\n",
      "312                           hahahhahahahahahhahahaha     1\n",
      "313                                    hhahahahaahahah     1\n",
      "314                                  hahahhaahhahahaha     1\n",
      "315                                          haahahaha     1\n",
      "316       hahahahahahahahahahahahahahahahahahahahahaha     1\n",
      "317                                        lollollllll     1\n",
      "318                                            lolooll     1\n",
      "319                                               olll     1\n",
      "320                               hahahahahahahahahahh     1\n",
      "321                         hahahahahahahahaahahhaahah     1\n",
      "322                                         roflololol     1\n",
      "323                                           ahhahaha     1\n",
      "324                           lllllllllllollllllllllll     1\n",
      "325                                    lollollllllllll     1\n",
      "326                                         hahahaahah     1\n",
      "327                                       lolooolololo     1\n",
      "328                                        ahahaahahah     1\n",
      "329                      hahahahahahahahahahahahahahah     1\n",
      "330                                            hahhhhh     1\n",
      "331             lolololololololololololollolololololol     1\n",
      "332                                            lolllol     1\n",
      "333                              hahahahahahhaahahahah     1\n",
      "334                                         roflcopter     1\n",
      "335                                      loooooooooool     1\n",
      "336                                   hahahahahahahahh     1\n",
      "337                                          looololol     1\n",
      "338                                     hahahahaahahah     1\n",
      "339                                        lollolololo     1\n",
      "340                                          hahahaaha     1\n",
      "341                                        hahahahhaha     1\n",
      "342                                    lololololooolol     1\n"
     ]
    }
   ],
   "source": [
    "print_full(lwords)"
   ]
  },
  {
   "cell_type": "code",
   "execution_count": 21,
   "metadata": {
    "collapsed": false
   },
   "outputs": [
    {
     "data": {
      "text/plain": [
       "collections.Counter"
      ]
     },
     "execution_count": 21,
     "metadata": {},
     "output_type": "execute_result"
    }
   ],
   "source": [
    "type(kwords)"
   ]
  },
  {
   "cell_type": "code",
   "execution_count": 22,
   "metadata": {
    "collapsed": false
   },
   "outputs": [
    {
     "data": {
      "text/plain": [
       "594772"
      ]
     },
     "execution_count": 22,
     "metadata": {},
     "output_type": "execute_result"
    }
   ],
   "source": [
    "sum(kwords.values())"
   ]
  },
  {
   "cell_type": "code",
   "execution_count": 23,
   "metadata": {
    "collapsed": false
   },
   "outputs": [
    {
     "data": {
      "text/plain": [
       "12426"
      ]
     },
     "execution_count": 23,
     "metadata": {},
     "output_type": "execute_result"
    }
   ],
   "source": [
    "lwords[1].sum()"
   ]
  },
  {
   "cell_type": "code",
   "execution_count": 24,
   "metadata": {
    "collapsed": false
   },
   "outputs": [
    {
     "data": {
      "text/plain": [
       "0.020892039302455395"
      ]
     },
     "execution_count": 24,
     "metadata": {},
     "output_type": "execute_result"
    }
   ],
   "source": [
    "lwords[1].sum()/sum(kwords.values())\n",
    "#proportion of the words that I say that are laughter"
   ]
  },
  {
   "cell_type": "code",
   "execution_count": 25,
   "metadata": {
    "collapsed": false
   },
   "outputs": [
    {
     "data": {
      "text/plain": [
       "<matplotlib.axes._subplots.AxesSubplot at 0xe23e8d0>"
      ]
     },
     "execution_count": 25,
     "metadata": {},
     "output_type": "execute_result"
    },
    {
     "data": {
      "image/png": "[encoded data removed]",
      "text/plain": [
       "<matplotlib.figure.Figure at 0xe22d8d0>"
      ]
     },
     "metadata": {},
     "output_type": "display_data"
    }
   ],
   "source": [
    "lwords = lwords.set_index(0)\n",
    "lwords[:20].plot(kind=\"bar\")"
   ]
  },
  {
   "cell_type": "code",
   "execution_count": 26,
   "metadata": {
    "collapsed": false
   },
   "outputs": [],
   "source": [
    "#x = lwords[:20].plot(kind=\"bar\")\n",
    "#x.set_xticklabels(lwords[0])"
   ]
  },
  {
   "cell_type": "code",
   "execution_count": 27,
   "metadata": {
    "collapsed": false
   },
   "outputs": [],
   "source": [
    "their_lwords = pd.DataFrame(list(laugh_words(owords))).set_index(0)"
   ]
  },
  {
   "cell_type": "code",
   "execution_count": 28,
   "metadata": {
    "collapsed": false
   },
   "outputs": [
    {
     "data": {
      "text/html": [
       "<div>\n",
       "<table border=\"1\" class=\"dataframe\">\n",
       "  <thead>\n",
       "    <tr style=\"text-align: right;\">\n",
       "      <th></th>\n",
       "      <th>1</th>\n",
       "    </tr>\n",
       "    <tr>\n",
       "      <th>0</th>\n",
       "      <th></th>\n",
       "    </tr>\n",
       "  </thead>\n",
       "  <tbody>\n",
       "    <tr>\n",
       "      <th>lol</th>\n",
       "      <td>29162</td>\n",
       "    </tr>\n",
       "    <tr>\n",
       "      <th>haha</th>\n",
       "      <td>3299</td>\n",
       "    </tr>\n",
       "    <tr>\n",
       "      <th>hahaha</th>\n",
       "      <td>979</td>\n",
       "    </tr>\n",
       "    <tr>\n",
       "      <th>lololol</th>\n",
       "      <td>854</td>\n",
       "    </tr>\n",
       "    <tr>\n",
       "      <th>lolol</th>\n",
       "      <td>798</td>\n",
       "    </tr>\n",
       "  </tbody>\n",
       "</table>\n",
       "</div>"
      ],
      "text/plain": [
       "             1\n",
       "0             \n",
       "lol      29162\n",
       "haha      3299\n",
       "hahaha     979\n",
       "lololol    854\n",
       "lolol      798"
      ]
     },
     "execution_count": 28,
     "metadata": {},
     "output_type": "execute_result"
    }
   ],
   "source": [
    "their_lwords.head()"
   ]
  },
  {
   "cell_type": "code",
   "execution_count": 29,
   "metadata": {
    "collapsed": false
   },
   "outputs": [
    {
     "data": {
      "text/html": [
       "<div>\n",
       "<table border=\"1\" class=\"dataframe\">\n",
       "  <thead>\n",
       "    <tr style=\"text-align: right;\">\n",
       "      <th></th>\n",
       "      <th>1</th>\n",
       "    </tr>\n",
       "    <tr>\n",
       "      <th>0</th>\n",
       "      <th></th>\n",
       "    </tr>\n",
       "  </thead>\n",
       "  <tbody>\n",
       "    <tr>\n",
       "      <th>lol</th>\n",
       "      <td>29162</td>\n",
       "    </tr>\n",
       "    <tr>\n",
       "      <th>haha</th>\n",
       "      <td>3299</td>\n",
       "    </tr>\n",
       "    <tr>\n",
       "      <th>hahaha</th>\n",
       "      <td>979</td>\n",
       "    </tr>\n",
       "    <tr>\n",
       "      <th>lololol</th>\n",
       "      <td>854</td>\n",
       "    </tr>\n",
       "    <tr>\n",
       "      <th>lolol</th>\n",
       "      <td>798</td>\n",
       "    </tr>\n",
       "    <tr>\n",
       "      <th>rofl</th>\n",
       "      <td>458</td>\n",
       "    </tr>\n",
       "    <tr>\n",
       "      <th>hahah</th>\n",
       "      <td>399</td>\n",
       "    </tr>\n",
       "    <tr>\n",
       "      <th>hahahaha</th>\n",
       "      <td>323</td>\n",
       "    </tr>\n",
       "    <tr>\n",
       "      <th>lolololol</th>\n",
       "      <td>312</td>\n",
       "    </tr>\n",
       "    <tr>\n",
       "      <th>lool</th>\n",
       "      <td>306</td>\n",
       "    </tr>\n",
       "    <tr>\n",
       "      <th>ahaha</th>\n",
       "      <td>211</td>\n",
       "    </tr>\n",
       "    <tr>\n",
       "      <th>loool</th>\n",
       "      <td>193</td>\n",
       "    </tr>\n",
       "    <tr>\n",
       "      <th>hahahah</th>\n",
       "      <td>189</td>\n",
       "    </tr>\n",
       "    <tr>\n",
       "      <th>lo</th>\n",
       "      <td>153</td>\n",
       "    </tr>\n",
       "    <tr>\n",
       "      <th>looool</th>\n",
       "      <td>153</td>\n",
       "    </tr>\n",
       "    <tr>\n",
       "      <th>ha</th>\n",
       "      <td>152</td>\n",
       "    </tr>\n",
       "    <tr>\n",
       "      <th>ahahaha</th>\n",
       "      <td>121</td>\n",
       "    </tr>\n",
       "    <tr>\n",
       "      <th>aha</th>\n",
       "      <td>107</td>\n",
       "    </tr>\n",
       "    <tr>\n",
       "      <th>hahahahaha</th>\n",
       "      <td>96</td>\n",
       "    </tr>\n",
       "    <tr>\n",
       "      <th>lololololol</th>\n",
       "      <td>89</td>\n",
       "    </tr>\n",
       "    <tr>\n",
       "      <th>lololo</th>\n",
       "      <td>69</td>\n",
       "    </tr>\n",
       "    <tr>\n",
       "      <th>loooool</th>\n",
       "      <td>68</td>\n",
       "    </tr>\n",
       "    <tr>\n",
       "      <th>ahh</th>\n",
       "      <td>63</td>\n",
       "    </tr>\n",
       "    <tr>\n",
       "      <th>lolo</th>\n",
       "      <td>59</td>\n",
       "    </tr>\n",
       "    <tr>\n",
       "      <th>hahha</th>\n",
       "      <td>56</td>\n",
       "    </tr>\n",
       "    <tr>\n",
       "      <th>loll</th>\n",
       "      <td>55</td>\n",
       "    </tr>\n",
       "    <tr>\n",
       "      <th>hahahha</th>\n",
       "      <td>53</td>\n",
       "    </tr>\n",
       "    <tr>\n",
       "      <th>hah</th>\n",
       "      <td>50</td>\n",
       "    </tr>\n",
       "    <tr>\n",
       "      <th>llol</th>\n",
       "      <td>49</td>\n",
       "    </tr>\n",
       "    <tr>\n",
       "      <th>loolol</th>\n",
       "      <td>48</td>\n",
       "    </tr>\n",
       "    <tr>\n",
       "      <th>...</th>\n",
       "      <td>...</td>\n",
       "    </tr>\n",
       "    <tr>\n",
       "      <th>ahahhahhaahhahhhaha</th>\n",
       "      <td>1</td>\n",
       "    </tr>\n",
       "    <tr>\n",
       "      <th>ahahahahahhhahaah</th>\n",
       "      <td>1</td>\n",
       "    </tr>\n",
       "    <tr>\n",
       "      <th>llololo</th>\n",
       "      <td>1</td>\n",
       "    </tr>\n",
       "    <tr>\n",
       "      <th>haahahahah</th>\n",
       "      <td>1</td>\n",
       "    </tr>\n",
       "    <tr>\n",
       "      <th>hahahaahahahah</th>\n",
       "      <td>1</td>\n",
       "    </tr>\n",
       "    <tr>\n",
       "      <th>llolololol</th>\n",
       "      <td>1</td>\n",
       "    </tr>\n",
       "    <tr>\n",
       "      <th>haahahahahaahahhaahahahahha</th>\n",
       "      <td>1</td>\n",
       "    </tr>\n",
       "    <tr>\n",
       "      <th>lolololoo</th>\n",
       "      <td>1</td>\n",
       "    </tr>\n",
       "    <tr>\n",
       "      <th>ahahahahhahaha</th>\n",
       "      <td>1</td>\n",
       "    </tr>\n",
       "    <tr>\n",
       "      <th>ahahhhaha</th>\n",
       "      <td>1</td>\n",
       "    </tr>\n",
       "    <tr>\n",
       "      <th>lloollol</th>\n",
       "      <td>1</td>\n",
       "    </tr>\n",
       "    <tr>\n",
       "      <th>oloolol</th>\n",
       "      <td>1</td>\n",
       "    </tr>\n",
       "    <tr>\n",
       "      <th>ahhhhhhhhhhhh</th>\n",
       "      <td>1</td>\n",
       "    </tr>\n",
       "    <tr>\n",
       "      <th>ahhahahahahaha</th>\n",
       "      <td>1</td>\n",
       "    </tr>\n",
       "    <tr>\n",
       "      <th>hahhahahah</th>\n",
       "      <td>1</td>\n",
       "    </tr>\n",
       "    <tr>\n",
       "      <th>lllllllllllllllllllllllllllllllllllllol</th>\n",
       "      <td>1</td>\n",
       "    </tr>\n",
       "    <tr>\n",
       "      <th>hahahahhahahahahah</th>\n",
       "      <td>1</td>\n",
       "    </tr>\n",
       "    <tr>\n",
       "      <th>loololololololololololololol</th>\n",
       "      <td>1</td>\n",
       "    </tr>\n",
       "    <tr>\n",
       "      <th>loolll</th>\n",
       "      <td>1</td>\n",
       "    </tr>\n",
       "    <tr>\n",
       "      <th>lololoololl</th>\n",
       "      <td>1</td>\n",
       "    </tr>\n",
       "    <tr>\n",
       "      <th>looollll</th>\n",
       "      <td>1</td>\n",
       "    </tr>\n",
       "    <tr>\n",
       "      <th>hahahahahahhaha</th>\n",
       "      <td>1</td>\n",
       "    </tr>\n",
       "    <tr>\n",
       "      <th>ahahaaha</th>\n",
       "      <td>1</td>\n",
       "    </tr>\n",
       "    <tr>\n",
       "      <th>loooooooooooooooooooooooooooooooooooooooooooooooooooooooooooooooool</th>\n",
       "      <td>1</td>\n",
       "    </tr>\n",
       "    <tr>\n",
       "      <th>ahahhahahahahahahah</th>\n",
       "      <td>1</td>\n",
       "    </tr>\n",
       "    <tr>\n",
       "      <th>lololololololololololol</th>\n",
       "      <td>1</td>\n",
       "    </tr>\n",
       "    <tr>\n",
       "      <th>hahaahahhaha</th>\n",
       "      <td>1</td>\n",
       "    </tr>\n",
       "    <tr>\n",
       "      <th>ahaahhaa</th>\n",
       "      <td>1</td>\n",
       "    </tr>\n",
       "    <tr>\n",
       "      <th>hahahahhahahahahhaha</th>\n",
       "      <td>1</td>\n",
       "    </tr>\n",
       "    <tr>\n",
       "      <th>hhahahahha</th>\n",
       "      <td>1</td>\n",
       "    </tr>\n",
       "  </tbody>\n",
       "</table>\n",
       "<p>584 rows × 1 columns</p>\n",
       "</div>"
      ],
      "text/plain": [
       "                                                        1\n",
       "0                                                        \n",
       "lol                                                 29162\n",
       "haha                                                 3299\n",
       "hahaha                                                979\n",
       "lololol                                               854\n",
       "lolol                                                 798\n",
       "rofl                                                  458\n",
       "hahah                                                 399\n",
       "hahahaha                                              323\n",
       "lolololol                                             312\n",
       "lool                                                  306\n",
       "ahaha                                                 211\n",
       "loool                                                 193\n",
       "hahahah                                               189\n",
       "lo                                                    153\n",
       "looool                                                153\n",
       "ha                                                    152\n",
       "ahahaha                                               121\n",
       "aha                                                   107\n",
       "hahahahaha                                             96\n",
       "lololololol                                            89\n",
       "lololo                                                 69\n",
       "loooool                                                68\n",
       "ahh                                                    63\n",
       "lolo                                                   59\n",
       "hahha                                                  56\n",
       "loll                                                   55\n",
       "hahahha                                                53\n",
       "hah                                                    50\n",
       "llol                                                   49\n",
       "loolol                                                 48\n",
       "...                                                   ...\n",
       "ahahhahhaahhahhhaha                                     1\n",
       "ahahahahahhhahaah                                       1\n",
       "llololo                                                 1\n",
       "haahahahah                                              1\n",
       "hahahaahahahah                                          1\n",
       "llolololol                                              1\n",
       "haahahahahaahahhaahahahahha                             1\n",
       "lolololoo                                               1\n",
       "ahahahahhahaha                                          1\n",
       "ahahhhaha                                               1\n",
       "lloollol                                                1\n",
       "oloolol                                                 1\n",
       "ahhhhhhhhhhhh                                           1\n",
       "ahhahahahahaha                                          1\n",
       "hahhahahah                                              1\n",
       "lllllllllllllllllllllllllllllllllllllol                 1\n",
       "hahahahhahahahahah                                      1\n",
       "loololololololololololololol                            1\n",
       "loolll                                                  1\n",
       "lololoololl                                             1\n",
       "looollll                                                1\n",
       "hahahahahahhaha                                         1\n",
       "ahahaaha                                                1\n",
       "loooooooooooooooooooooooooooooooooooooooooooooo...      1\n",
       "ahahhahahahahahahah                                     1\n",
       "lololololololololololol                                 1\n",
       "hahaahahhaha                                            1\n",
       "ahaahhaa                                                1\n",
       "hahahahhahahahahhaha                                    1\n",
       "hhahahahha                                              1\n",
       "\n",
       "[584 rows x 1 columns]"
      ]
     },
     "execution_count": 29,
     "metadata": {},
     "output_type": "execute_result"
    }
   ],
   "source": [
    "their_lwords"
   ]
  },
  {
   "cell_type": "code",
   "execution_count": 30,
   "metadata": {
    "collapsed": false
   },
   "outputs": [
    {
     "data": {
      "text/plain": [
       "False"
      ]
     },
     "execution_count": 30,
     "metadata": {},
     "output_type": "execute_result"
    }
   ],
   "source": [
    "\"lol\" in lwords"
   ]
  },
  {
   "cell_type": "code",
   "execution_count": 31,
   "metadata": {
    "collapsed": false
   },
   "outputs": [
    {
     "data": {
      "text/plain": [
       "True"
      ]
     },
     "execution_count": 31,
     "metadata": {},
     "output_type": "execute_result"
    }
   ],
   "source": [
    "\"lol\" in lwords.index"
   ]
  },
  {
   "cell_type": "code",
   "execution_count": 32,
   "metadata": {
    "collapsed": false
   },
   "outputs": [
    {
     "data": {
      "text/plain": [
       "420"
      ]
     },
     "execution_count": 32,
     "metadata": {},
     "output_type": "execute_result"
    }
   ],
   "source": [
    "only_others_laugh = their_lwords[~their_lwords.index.isin(lwords.index)]\n",
    "len(only_others_laugh)"
   ]
  },
  {
   "cell_type": "code",
   "execution_count": 33,
   "metadata": {
    "collapsed": false
   },
   "outputs": [
    {
     "data": {
      "text/plain": [
       "179"
      ]
     },
     "execution_count": 33,
     "metadata": {},
     "output_type": "execute_result"
    }
   ],
   "source": [
    "only_me_laugh = lwords[~lwords.index.isin(their_lwords.index)]\n",
    "len(only_me_laugh)"
   ]
  },
  {
   "cell_type": "code",
   "execution_count": 34,
   "metadata": {
    "collapsed": false
   },
   "outputs": [
    {
     "data": {
      "text/plain": [
       "(164, 164)"
      ]
     },
     "execution_count": 34,
     "metadata": {},
     "output_type": "execute_result"
    }
   ],
   "source": [
    "both_laugh = lwords[lwords.index.isin(their_lwords.index)]\n",
    "len(lwords[lwords.index.isin(their_lwords.index)]), len(their_lwords[their_lwords.index.isin(lwords.index)])"
   ]
  },
  {
   "cell_type": "code",
   "execution_count": 35,
   "metadata": {
    "collapsed": false
   },
   "outputs": [
    {
     "data": {
      "text/html": [
       "<div>\n",
       "<table border=\"1\" class=\"dataframe\">\n",
       "  <thead>\n",
       "    <tr style=\"text-align: right;\">\n",
       "      <th></th>\n",
       "      <th>1</th>\n",
       "    </tr>\n",
       "    <tr>\n",
       "      <th>0</th>\n",
       "      <th></th>\n",
       "    </tr>\n",
       "  </thead>\n",
       "  <tbody>\n",
       "    <tr>\n",
       "      <th>lollllllllllllll</th>\n",
       "      <td>11</td>\n",
       "    </tr>\n",
       "    <tr>\n",
       "      <th>hahahahaahah</th>\n",
       "      <td>9</td>\n",
       "    </tr>\n",
       "    <tr>\n",
       "      <th>lolllllllllllllllll</th>\n",
       "      <td>7</td>\n",
       "    </tr>\n",
       "    <tr>\n",
       "      <th>ololololol</th>\n",
       "      <td>7</td>\n",
       "    </tr>\n",
       "    <tr>\n",
       "      <th>lollllllllllllllllllll</th>\n",
       "      <td>6</td>\n",
       "    </tr>\n",
       "    <tr>\n",
       "      <th>lolllllllllllllllllllllllll</th>\n",
       "      <td>6</td>\n",
       "    </tr>\n",
       "    <tr>\n",
       "      <th>hahahahahahahahah</th>\n",
       "      <td>5</td>\n",
       "    </tr>\n",
       "    <tr>\n",
       "      <th>roflroflrofl</th>\n",
       "      <td>5</td>\n",
       "    </tr>\n",
       "    <tr>\n",
       "      <th>lollllllllllllllllllllllll</th>\n",
       "      <td>5</td>\n",
       "    </tr>\n",
       "    <tr>\n",
       "      <th>lollllllllllllllllllllll</th>\n",
       "      <td>5</td>\n",
       "    </tr>\n",
       "    <tr>\n",
       "      <th>hahahahahahaah</th>\n",
       "      <td>4</td>\n",
       "    </tr>\n",
       "    <tr>\n",
       "      <th>lolllllllllllllllllllllll</th>\n",
       "      <td>4</td>\n",
       "    </tr>\n",
       "    <tr>\n",
       "      <th>lollllllllllllllllll</th>\n",
       "      <td>4</td>\n",
       "    </tr>\n",
       "    <tr>\n",
       "      <th>hahahahaahh</th>\n",
       "      <td>3</td>\n",
       "    </tr>\n",
       "    <tr>\n",
       "      <th>hahahahahahahahaah</th>\n",
       "      <td>3</td>\n",
       "    </tr>\n",
       "    <tr>\n",
       "      <th>hahahahahahahahahahah</th>\n",
       "      <td>3</td>\n",
       "    </tr>\n",
       "    <tr>\n",
       "      <th>lolllllllllllllllllll</th>\n",
       "      <td>3</td>\n",
       "    </tr>\n",
       "    <tr>\n",
       "      <th>hhahahahaha</th>\n",
       "      <td>2</td>\n",
       "    </tr>\n",
       "    <tr>\n",
       "      <th>lololoololol</th>\n",
       "      <td>2</td>\n",
       "    </tr>\n",
       "    <tr>\n",
       "      <th>lolllllllllllllllllllllllllllllllllll</th>\n",
       "      <td>2</td>\n",
       "    </tr>\n",
       "    <tr>\n",
       "      <th>lollllllllllllllllllllllllll</th>\n",
       "      <td>2</td>\n",
       "    </tr>\n",
       "    <tr>\n",
       "      <th>lolllllllllllllllllllllllllllllllllllllllllllllllllllllllllll</th>\n",
       "      <td>2</td>\n",
       "    </tr>\n",
       "    <tr>\n",
       "      <th>lollllllllllllllllllllllllllllll</th>\n",
       "      <td>2</td>\n",
       "    </tr>\n",
       "    <tr>\n",
       "      <th>ahhahahh</th>\n",
       "      <td>2</td>\n",
       "    </tr>\n",
       "    <tr>\n",
       "      <th>hhahahahahah</th>\n",
       "      <td>2</td>\n",
       "    </tr>\n",
       "    <tr>\n",
       "      <th>ahahaahah</th>\n",
       "      <td>2</td>\n",
       "    </tr>\n",
       "    <tr>\n",
       "      <th>lololololololl</th>\n",
       "      <td>2</td>\n",
       "    </tr>\n",
       "    <tr>\n",
       "      <th>lolololololololo</th>\n",
       "      <td>2</td>\n",
       "    </tr>\n",
       "    <tr>\n",
       "      <th>lollllllllllllllllllllllllllllllllllll</th>\n",
       "      <td>2</td>\n",
       "    </tr>\n",
       "    <tr>\n",
       "      <th>hahahahahaa</th>\n",
       "      <td>2</td>\n",
       "    </tr>\n",
       "    <tr>\n",
       "      <th>...</th>\n",
       "      <td>...</td>\n",
       "    </tr>\n",
       "    <tr>\n",
       "      <th>lolllllllllllllllllllllllllllllllllllllllllllllllllllllllll</th>\n",
       "      <td>1</td>\n",
       "    </tr>\n",
       "    <tr>\n",
       "      <th>hahahahahhahah</th>\n",
       "      <td>1</td>\n",
       "    </tr>\n",
       "    <tr>\n",
       "      <th>hahahahahahahahahahahah</th>\n",
       "      <td>1</td>\n",
       "    </tr>\n",
       "    <tr>\n",
       "      <th>rofltrap</th>\n",
       "      <td>1</td>\n",
       "    </tr>\n",
       "    <tr>\n",
       "      <th>ahhhhhhhhhhhhhhhhhhhhhhhhhhhhhhhhhhhhhhhhhhhhhhhhhhhhhhhhhhhhhhhhhhhhh</th>\n",
       "      <td>1</td>\n",
       "    </tr>\n",
       "    <tr>\n",
       "      <th>hahahahahahahahahh</th>\n",
       "      <td>1</td>\n",
       "    </tr>\n",
       "    <tr>\n",
       "      <th>hahahahhahahahaahhahahahaha</th>\n",
       "      <td>1</td>\n",
       "    </tr>\n",
       "    <tr>\n",
       "      <th>hahahhahahahahahhahahaha</th>\n",
       "      <td>1</td>\n",
       "    </tr>\n",
       "    <tr>\n",
       "      <th>hhahahahaahahah</th>\n",
       "      <td>1</td>\n",
       "    </tr>\n",
       "    <tr>\n",
       "      <th>hahahhaahhahahaha</th>\n",
       "      <td>1</td>\n",
       "    </tr>\n",
       "    <tr>\n",
       "      <th>hahahahahahahahahahahahahahahahahahahahahaha</th>\n",
       "      <td>1</td>\n",
       "    </tr>\n",
       "    <tr>\n",
       "      <th>lollollllll</th>\n",
       "      <td>1</td>\n",
       "    </tr>\n",
       "    <tr>\n",
       "      <th>olll</th>\n",
       "      <td>1</td>\n",
       "    </tr>\n",
       "    <tr>\n",
       "      <th>hahahahahahahahahahh</th>\n",
       "      <td>1</td>\n",
       "    </tr>\n",
       "    <tr>\n",
       "      <th>hahahahahahahahaahahhaahah</th>\n",
       "      <td>1</td>\n",
       "    </tr>\n",
       "    <tr>\n",
       "      <th>roflololol</th>\n",
       "      <td>1</td>\n",
       "    </tr>\n",
       "    <tr>\n",
       "      <th>lllllllllllollllllllllll</th>\n",
       "      <td>1</td>\n",
       "    </tr>\n",
       "    <tr>\n",
       "      <th>lollollllllllll</th>\n",
       "      <td>1</td>\n",
       "    </tr>\n",
       "    <tr>\n",
       "      <th>lolooolololo</th>\n",
       "      <td>1</td>\n",
       "    </tr>\n",
       "    <tr>\n",
       "      <th>ahahaahahah</th>\n",
       "      <td>1</td>\n",
       "    </tr>\n",
       "    <tr>\n",
       "      <th>hahahahahahahahahahahahahahah</th>\n",
       "      <td>1</td>\n",
       "    </tr>\n",
       "    <tr>\n",
       "      <th>hahhhhh</th>\n",
       "      <td>1</td>\n",
       "    </tr>\n",
       "    <tr>\n",
       "      <th>lolololololololololololollolololololol</th>\n",
       "      <td>1</td>\n",
       "    </tr>\n",
       "    <tr>\n",
       "      <th>lolllol</th>\n",
       "      <td>1</td>\n",
       "    </tr>\n",
       "    <tr>\n",
       "      <th>hahahahahahhaahahahah</th>\n",
       "      <td>1</td>\n",
       "    </tr>\n",
       "    <tr>\n",
       "      <th>hahahahahahahahh</th>\n",
       "      <td>1</td>\n",
       "    </tr>\n",
       "    <tr>\n",
       "      <th>hahahahaahahah</th>\n",
       "      <td>1</td>\n",
       "    </tr>\n",
       "    <tr>\n",
       "      <th>lollolololo</th>\n",
       "      <td>1</td>\n",
       "    </tr>\n",
       "    <tr>\n",
       "      <th>hahahaaha</th>\n",
       "      <td>1</td>\n",
       "    </tr>\n",
       "    <tr>\n",
       "      <th>lololololooolol</th>\n",
       "      <td>1</td>\n",
       "    </tr>\n",
       "  </tbody>\n",
       "</table>\n",
       "<p>179 rows × 1 columns</p>\n",
       "</div>"
      ],
      "text/plain": [
       "                                                     1\n",
       "0                                                     \n",
       "lollllllllllllll                                    11\n",
       "hahahahaahah                                         9\n",
       "lolllllllllllllllll                                  7\n",
       "ololololol                                           7\n",
       "lollllllllllllllllllll                               6\n",
       "lolllllllllllllllllllllllll                          6\n",
       "hahahahahahahahah                                    5\n",
       "roflroflrofl                                         5\n",
       "lollllllllllllllllllllllll                           5\n",
       "lollllllllllllllllllllll                             5\n",
       "hahahahahahaah                                       4\n",
       "lolllllllllllllllllllllll                            4\n",
       "lollllllllllllllllll                                 4\n",
       "hahahahaahh                                          3\n",
       "hahahahahahahahaah                                   3\n",
       "hahahahahahahahahahah                                3\n",
       "lolllllllllllllllllll                                3\n",
       "hhahahahaha                                          2\n",
       "lololoololol                                         2\n",
       "lolllllllllllllllllllllllllllllllllll                2\n",
       "lollllllllllllllllllllllllll                         2\n",
       "lolllllllllllllllllllllllllllllllllllllllllllll...   2\n",
       "lollllllllllllllllllllllllllllll                     2\n",
       "ahhahahh                                             2\n",
       "hhahahahahah                                         2\n",
       "ahahaahah                                            2\n",
       "lololololololl                                       2\n",
       "lolololololololo                                     2\n",
       "lollllllllllllllllllllllllllllllllllll               2\n",
       "hahahahahaa                                          2\n",
       "...                                                 ..\n",
       "lolllllllllllllllllllllllllllllllllllllllllllll...   1\n",
       "hahahahahhahah                                       1\n",
       "hahahahahahahahahahahah                              1\n",
       "rofltrap                                             1\n",
       "ahhhhhhhhhhhhhhhhhhhhhhhhhhhhhhhhhhhhhhhhhhhhhh...   1\n",
       "hahahahahahahahahh                                   1\n",
       "hahahahhahahahaahhahahahaha                          1\n",
       "hahahhahahahahahhahahaha                             1\n",
       "hhahahahaahahah                                      1\n",
       "hahahhaahhahahaha                                    1\n",
       "hahahahahahahahahahahahahahahahahahahahahaha         1\n",
       "lollollllll                                          1\n",
       "olll                                                 1\n",
       "hahahahahahahahahahh                                 1\n",
       "hahahahahahahahaahahhaahah                           1\n",
       "roflololol                                           1\n",
       "lllllllllllollllllllllll                             1\n",
       "lollollllllllll                                      1\n",
       "lolooolololo                                         1\n",
       "ahahaahahah                                          1\n",
       "hahahahahahahahahahahahahahah                        1\n",
       "hahhhhh                                              1\n",
       "lolololololololololololollolololololol               1\n",
       "lolllol                                              1\n",
       "hahahahahahhaahahahah                                1\n",
       "hahahahahahahahh                                     1\n",
       "hahahahaahahah                                       1\n",
       "lollolololo                                          1\n",
       "hahahaaha                                            1\n",
       "lololololooolol                                      1\n",
       "\n",
       "[179 rows x 1 columns]"
      ]
     },
     "execution_count": 35,
     "metadata": {},
     "output_type": "execute_result"
    }
   ],
   "source": [
    "only_me_laugh"
   ]
  },
  {
   "cell_type": "code",
   "execution_count": 36,
   "metadata": {
    "collapsed": false
   },
   "outputs": [
    {
     "data": {
      "text/html": [
       "<div>\n",
       "<table border=\"1\" class=\"dataframe\">\n",
       "  <thead>\n",
       "    <tr style=\"text-align: right;\">\n",
       "      <th></th>\n",
       "      <th>1</th>\n",
       "    </tr>\n",
       "    <tr>\n",
       "      <th>0</th>\n",
       "      <th></th>\n",
       "    </tr>\n",
       "  </thead>\n",
       "  <tbody>\n",
       "    <tr>\n",
       "      <th>ahaha</th>\n",
       "      <td>211</td>\n",
       "    </tr>\n",
       "    <tr>\n",
       "      <th>hahha</th>\n",
       "      <td>56</td>\n",
       "    </tr>\n",
       "    <tr>\n",
       "      <th>looll</th>\n",
       "      <td>28</td>\n",
       "    </tr>\n",
       "    <tr>\n",
       "      <th>loollo</th>\n",
       "      <td>26</td>\n",
       "    </tr>\n",
       "    <tr>\n",
       "      <th>ahha</th>\n",
       "      <td>21</td>\n",
       "    </tr>\n",
       "    <tr>\n",
       "      <th>looooooool</th>\n",
       "      <td>20</td>\n",
       "    </tr>\n",
       "    <tr>\n",
       "      <th>loooooool</th>\n",
       "      <td>18</td>\n",
       "    </tr>\n",
       "    <tr>\n",
       "      <th>ahahha</th>\n",
       "      <td>16</td>\n",
       "    </tr>\n",
       "    <tr>\n",
       "      <th>hahahhaa</th>\n",
       "      <td>16</td>\n",
       "    </tr>\n",
       "    <tr>\n",
       "      <th>loololl</th>\n",
       "      <td>16</td>\n",
       "    </tr>\n",
       "    <tr>\n",
       "      <th>loo</th>\n",
       "      <td>14</td>\n",
       "    </tr>\n",
       "    <tr>\n",
       "      <th>haah</th>\n",
       "      <td>13</td>\n",
       "    </tr>\n",
       "    <tr>\n",
       "      <th>haa</th>\n",
       "      <td>13</td>\n",
       "    </tr>\n",
       "    <tr>\n",
       "      <th>loooooooool</th>\n",
       "      <td>13</td>\n",
       "    </tr>\n",
       "    <tr>\n",
       "      <th>oll</th>\n",
       "      <td>13</td>\n",
       "    </tr>\n",
       "    <tr>\n",
       "      <th>ahahahahahaha</th>\n",
       "      <td>12</td>\n",
       "    </tr>\n",
       "    <tr>\n",
       "      <th>hahhaa</th>\n",
       "      <td>12</td>\n",
       "    </tr>\n",
       "    <tr>\n",
       "      <th>haaha</th>\n",
       "      <td>12</td>\n",
       "    </tr>\n",
       "    <tr>\n",
       "      <th>loollol</th>\n",
       "      <td>12</td>\n",
       "    </tr>\n",
       "    <tr>\n",
       "      <th>hahaaha</th>\n",
       "      <td>10</td>\n",
       "    </tr>\n",
       "    <tr>\n",
       "      <th>hahhahaha</th>\n",
       "      <td>10</td>\n",
       "    </tr>\n",
       "    <tr>\n",
       "      <th>looolll</th>\n",
       "      <td>8</td>\n",
       "    </tr>\n",
       "    <tr>\n",
       "      <th>ahahhaha</th>\n",
       "      <td>8</td>\n",
       "    </tr>\n",
       "    <tr>\n",
       "      <th>hhaha</th>\n",
       "      <td>8</td>\n",
       "    </tr>\n",
       "    <tr>\n",
       "      <th>hahahahahha</th>\n",
       "      <td>7</td>\n",
       "    </tr>\n",
       "    <tr>\n",
       "      <th>hahahahhahaha</th>\n",
       "      <td>7</td>\n",
       "    </tr>\n",
       "    <tr>\n",
       "      <th>loolololl</th>\n",
       "      <td>6</td>\n",
       "    </tr>\n",
       "    <tr>\n",
       "      <th>llolo</th>\n",
       "      <td>6</td>\n",
       "    </tr>\n",
       "    <tr>\n",
       "      <th>loololololol</th>\n",
       "      <td>6</td>\n",
       "    </tr>\n",
       "    <tr>\n",
       "      <th>loloo</th>\n",
       "      <td>6</td>\n",
       "    </tr>\n",
       "    <tr>\n",
       "      <th>...</th>\n",
       "      <td>...</td>\n",
       "    </tr>\n",
       "    <tr>\n",
       "      <th>hhaahhahaha</th>\n",
       "      <td>1</td>\n",
       "    </tr>\n",
       "    <tr>\n",
       "      <th>hahahhhaa</th>\n",
       "      <td>1</td>\n",
       "    </tr>\n",
       "    <tr>\n",
       "      <th>lolololololololololololololololololololol</th>\n",
       "      <td>1</td>\n",
       "    </tr>\n",
       "    <tr>\n",
       "      <th>hhahahahahaa</th>\n",
       "      <td>1</td>\n",
       "    </tr>\n",
       "    <tr>\n",
       "      <th>hahahaaaa</th>\n",
       "      <td>1</td>\n",
       "    </tr>\n",
       "    <tr>\n",
       "      <th>ahahhahhaahhahhhaha</th>\n",
       "      <td>1</td>\n",
       "    </tr>\n",
       "    <tr>\n",
       "      <th>ahahahahahhhahaah</th>\n",
       "      <td>1</td>\n",
       "    </tr>\n",
       "    <tr>\n",
       "      <th>llololo</th>\n",
       "      <td>1</td>\n",
       "    </tr>\n",
       "    <tr>\n",
       "      <th>haahahahah</th>\n",
       "      <td>1</td>\n",
       "    </tr>\n",
       "    <tr>\n",
       "      <th>hahahaahahahah</th>\n",
       "      <td>1</td>\n",
       "    </tr>\n",
       "    <tr>\n",
       "      <th>haahahahahaahahhaahahahahha</th>\n",
       "      <td>1</td>\n",
       "    </tr>\n",
       "    <tr>\n",
       "      <th>lolololoo</th>\n",
       "      <td>1</td>\n",
       "    </tr>\n",
       "    <tr>\n",
       "      <th>ahahahahhahaha</th>\n",
       "      <td>1</td>\n",
       "    </tr>\n",
       "    <tr>\n",
       "      <th>ahahhhaha</th>\n",
       "      <td>1</td>\n",
       "    </tr>\n",
       "    <tr>\n",
       "      <th>lloollol</th>\n",
       "      <td>1</td>\n",
       "    </tr>\n",
       "    <tr>\n",
       "      <th>oloolol</th>\n",
       "      <td>1</td>\n",
       "    </tr>\n",
       "    <tr>\n",
       "      <th>ahhahahahahaha</th>\n",
       "      <td>1</td>\n",
       "    </tr>\n",
       "    <tr>\n",
       "      <th>lllllllllllllllllllllllllllllllllllllol</th>\n",
       "      <td>1</td>\n",
       "    </tr>\n",
       "    <tr>\n",
       "      <th>loololololololololololololol</th>\n",
       "      <td>1</td>\n",
       "    </tr>\n",
       "    <tr>\n",
       "      <th>loolll</th>\n",
       "      <td>1</td>\n",
       "    </tr>\n",
       "    <tr>\n",
       "      <th>lololoololl</th>\n",
       "      <td>1</td>\n",
       "    </tr>\n",
       "    <tr>\n",
       "      <th>looollll</th>\n",
       "      <td>1</td>\n",
       "    </tr>\n",
       "    <tr>\n",
       "      <th>ahahaaha</th>\n",
       "      <td>1</td>\n",
       "    </tr>\n",
       "    <tr>\n",
       "      <th>loooooooooooooooooooooooooooooooooooooooooooooooooooooooooooooooool</th>\n",
       "      <td>1</td>\n",
       "    </tr>\n",
       "    <tr>\n",
       "      <th>ahahhahahahahahahah</th>\n",
       "      <td>1</td>\n",
       "    </tr>\n",
       "    <tr>\n",
       "      <th>lololololololololololol</th>\n",
       "      <td>1</td>\n",
       "    </tr>\n",
       "    <tr>\n",
       "      <th>hahaahahhaha</th>\n",
       "      <td>1</td>\n",
       "    </tr>\n",
       "    <tr>\n",
       "      <th>ahaahhaa</th>\n",
       "      <td>1</td>\n",
       "    </tr>\n",
       "    <tr>\n",
       "      <th>hahahahhahahahahhaha</th>\n",
       "      <td>1</td>\n",
       "    </tr>\n",
       "    <tr>\n",
       "      <th>hhahahahha</th>\n",
       "      <td>1</td>\n",
       "    </tr>\n",
       "  </tbody>\n",
       "</table>\n",
       "<p>420 rows × 1 columns</p>\n",
       "</div>"
      ],
      "text/plain": [
       "                                                      1\n",
       "0                                                      \n",
       "ahaha                                               211\n",
       "hahha                                                56\n",
       "looll                                                28\n",
       "loollo                                               26\n",
       "ahha                                                 21\n",
       "looooooool                                           20\n",
       "loooooool                                            18\n",
       "ahahha                                               16\n",
       "hahahhaa                                             16\n",
       "loololl                                              16\n",
       "loo                                                  14\n",
       "haah                                                 13\n",
       "haa                                                  13\n",
       "loooooooool                                          13\n",
       "oll                                                  13\n",
       "ahahahahahaha                                        12\n",
       "hahhaa                                               12\n",
       "haaha                                                12\n",
       "loollol                                              12\n",
       "hahaaha                                              10\n",
       "hahhahaha                                            10\n",
       "looolll                                               8\n",
       "ahahhaha                                              8\n",
       "hhaha                                                 8\n",
       "hahahahahha                                           7\n",
       "hahahahhahaha                                         7\n",
       "loolololl                                             6\n",
       "llolo                                                 6\n",
       "loololololol                                          6\n",
       "loloo                                                 6\n",
       "...                                                 ...\n",
       "hhaahhahaha                                           1\n",
       "hahahhhaa                                             1\n",
       "lolololololololololololololololololololol             1\n",
       "hhahahahahaa                                          1\n",
       "hahahaaaa                                             1\n",
       "ahahhahhaahhahhhaha                                   1\n",
       "ahahahahahhhahaah                                     1\n",
       "llololo                                               1\n",
       "haahahahah                                            1\n",
       "hahahaahahahah                                        1\n",
       "haahahahahaahahhaahahahahha                           1\n",
       "lolololoo                                             1\n",
       "ahahahahhahaha                                        1\n",
       "ahahhhaha                                             1\n",
       "lloollol                                              1\n",
       "oloolol                                               1\n",
       "ahhahahahahaha                                        1\n",
       "lllllllllllllllllllllllllllllllllllllol               1\n",
       "loololololololololololololol                          1\n",
       "loolll                                                1\n",
       "lololoololl                                           1\n",
       "looollll                                              1\n",
       "ahahaaha                                              1\n",
       "loooooooooooooooooooooooooooooooooooooooooooooo...    1\n",
       "ahahhahahahahahahah                                   1\n",
       "lololololololololololol                               1\n",
       "hahaahahhaha                                          1\n",
       "ahaahhaa                                              1\n",
       "hahahahhahahahahhaha                                  1\n",
       "hhahahahha                                            1\n",
       "\n",
       "[420 rows x 1 columns]"
      ]
     },
     "execution_count": 36,
     "metadata": {},
     "output_type": "execute_result"
    }
   ],
   "source": [
    "only_others_laugh"
   ]
  },
  {
   "cell_type": "code",
   "execution_count": 37,
   "metadata": {
    "collapsed": false
   },
   "outputs": [
    {
     "data": {
      "text/html": [
       "<div>\n",
       "<table border=\"1\" class=\"dataframe\">\n",
       "  <thead>\n",
       "    <tr style=\"text-align: right;\">\n",
       "      <th></th>\n",
       "      <th>1_x</th>\n",
       "      <th>1_y</th>\n",
       "    </tr>\n",
       "    <tr>\n",
       "      <th>0</th>\n",
       "      <th></th>\n",
       "      <th></th>\n",
       "    </tr>\n",
       "  </thead>\n",
       "  <tbody>\n",
       "    <tr>\n",
       "      <th>lol</th>\n",
       "      <td>7628</td>\n",
       "      <td>29162</td>\n",
       "    </tr>\n",
       "    <tr>\n",
       "      <th>haha</th>\n",
       "      <td>1004</td>\n",
       "      <td>3299</td>\n",
       "    </tr>\n",
       "    <tr>\n",
       "      <th>hahaha</th>\n",
       "      <td>342</td>\n",
       "      <td>979</td>\n",
       "    </tr>\n",
       "    <tr>\n",
       "      <th>lololol</th>\n",
       "      <td>245</td>\n",
       "      <td>854</td>\n",
       "    </tr>\n",
       "    <tr>\n",
       "      <th>lolol</th>\n",
       "      <td>60</td>\n",
       "      <td>798</td>\n",
       "    </tr>\n",
       "    <tr>\n",
       "      <th>rofl</th>\n",
       "      <td>560</td>\n",
       "      <td>458</td>\n",
       "    </tr>\n",
       "    <tr>\n",
       "      <th>hahah</th>\n",
       "      <td>20</td>\n",
       "      <td>399</td>\n",
       "    </tr>\n",
       "    <tr>\n",
       "      <th>hahahaha</th>\n",
       "      <td>267</td>\n",
       "      <td>323</td>\n",
       "    </tr>\n",
       "    <tr>\n",
       "      <th>lolololol</th>\n",
       "      <td>206</td>\n",
       "      <td>312</td>\n",
       "    </tr>\n",
       "    <tr>\n",
       "      <th>lool</th>\n",
       "      <td>3</td>\n",
       "      <td>306</td>\n",
       "    </tr>\n",
       "    <tr>\n",
       "      <th>loool</th>\n",
       "      <td>3</td>\n",
       "      <td>193</td>\n",
       "    </tr>\n",
       "    <tr>\n",
       "      <th>hahahah</th>\n",
       "      <td>142</td>\n",
       "      <td>189</td>\n",
       "    </tr>\n",
       "    <tr>\n",
       "      <th>lo</th>\n",
       "      <td>33</td>\n",
       "      <td>153</td>\n",
       "    </tr>\n",
       "    <tr>\n",
       "      <th>looool</th>\n",
       "      <td>1</td>\n",
       "      <td>153</td>\n",
       "    </tr>\n",
       "    <tr>\n",
       "      <th>ha</th>\n",
       "      <td>25</td>\n",
       "      <td>152</td>\n",
       "    </tr>\n",
       "    <tr>\n",
       "      <th>ahahaha</th>\n",
       "      <td>5</td>\n",
       "      <td>121</td>\n",
       "    </tr>\n",
       "    <tr>\n",
       "      <th>aha</th>\n",
       "      <td>16</td>\n",
       "      <td>107</td>\n",
       "    </tr>\n",
       "    <tr>\n",
       "      <th>hahahahaha</th>\n",
       "      <td>121</td>\n",
       "      <td>96</td>\n",
       "    </tr>\n",
       "    <tr>\n",
       "      <th>lololololol</th>\n",
       "      <td>93</td>\n",
       "      <td>89</td>\n",
       "    </tr>\n",
       "    <tr>\n",
       "      <th>lololo</th>\n",
       "      <td>5</td>\n",
       "      <td>69</td>\n",
       "    </tr>\n",
       "    <tr>\n",
       "      <th>loooool</th>\n",
       "      <td>1</td>\n",
       "      <td>68</td>\n",
       "    </tr>\n",
       "    <tr>\n",
       "      <th>ahh</th>\n",
       "      <td>1</td>\n",
       "      <td>63</td>\n",
       "    </tr>\n",
       "    <tr>\n",
       "      <th>lolo</th>\n",
       "      <td>1</td>\n",
       "      <td>59</td>\n",
       "    </tr>\n",
       "    <tr>\n",
       "      <th>loll</th>\n",
       "      <td>27</td>\n",
       "      <td>55</td>\n",
       "    </tr>\n",
       "    <tr>\n",
       "      <th>hahahha</th>\n",
       "      <td>3</td>\n",
       "      <td>53</td>\n",
       "    </tr>\n",
       "    <tr>\n",
       "      <th>hah</th>\n",
       "      <td>22</td>\n",
       "      <td>50</td>\n",
       "    </tr>\n",
       "    <tr>\n",
       "      <th>llol</th>\n",
       "      <td>3</td>\n",
       "      <td>49</td>\n",
       "    </tr>\n",
       "    <tr>\n",
       "      <th>loolol</th>\n",
       "      <td>2</td>\n",
       "      <td>48</td>\n",
       "    </tr>\n",
       "    <tr>\n",
       "      <th>hahahahah</th>\n",
       "      <td>168</td>\n",
       "      <td>47</td>\n",
       "    </tr>\n",
       "    <tr>\n",
       "      <th>hahahahahaha</th>\n",
       "      <td>56</td>\n",
       "      <td>43</td>\n",
       "    </tr>\n",
       "    <tr>\n",
       "      <th>...</th>\n",
       "      <td>...</td>\n",
       "      <td>...</td>\n",
       "    </tr>\n",
       "    <tr>\n",
       "      <th>ahahahahaah</th>\n",
       "      <td>1</td>\n",
       "      <td>1</td>\n",
       "    </tr>\n",
       "    <tr>\n",
       "      <th>haahahaha</th>\n",
       "      <td>1</td>\n",
       "      <td>1</td>\n",
       "    </tr>\n",
       "    <tr>\n",
       "      <th>lllolol</th>\n",
       "      <td>1</td>\n",
       "      <td>1</td>\n",
       "    </tr>\n",
       "    <tr>\n",
       "      <th>hahahahahh</th>\n",
       "      <td>3</td>\n",
       "      <td>1</td>\n",
       "    </tr>\n",
       "    <tr>\n",
       "      <th>rofllllll</th>\n",
       "      <td>1</td>\n",
       "      <td>1</td>\n",
       "    </tr>\n",
       "    <tr>\n",
       "      <th>ahhhhhhhhhhhhhhhhhhhhhhhhhhhhhhhhhhh</th>\n",
       "      <td>1</td>\n",
       "      <td>1</td>\n",
       "    </tr>\n",
       "    <tr>\n",
       "      <th>hahahahahahahahahah</th>\n",
       "      <td>2</td>\n",
       "      <td>1</td>\n",
       "    </tr>\n",
       "    <tr>\n",
       "      <th>ahhhhhhhhhhhhhhh</th>\n",
       "      <td>1</td>\n",
       "      <td>1</td>\n",
       "    </tr>\n",
       "    <tr>\n",
       "      <th>roflrofl</th>\n",
       "      <td>2</td>\n",
       "      <td>1</td>\n",
       "    </tr>\n",
       "    <tr>\n",
       "      <th>hahahhahaah</th>\n",
       "      <td>1</td>\n",
       "      <td>1</td>\n",
       "    </tr>\n",
       "    <tr>\n",
       "      <th>lolololllll</th>\n",
       "      <td>1</td>\n",
       "      <td>1</td>\n",
       "    </tr>\n",
       "    <tr>\n",
       "      <th>hahahahhaahahahah</th>\n",
       "      <td>1</td>\n",
       "      <td>1</td>\n",
       "    </tr>\n",
       "    <tr>\n",
       "      <th>hahahahahaah</th>\n",
       "      <td>11</td>\n",
       "      <td>1</td>\n",
       "    </tr>\n",
       "    <tr>\n",
       "      <th>rofllllllllll</th>\n",
       "      <td>2</td>\n",
       "      <td>1</td>\n",
       "    </tr>\n",
       "    <tr>\n",
       "      <th>hahahhahahah</th>\n",
       "      <td>1</td>\n",
       "      <td>1</td>\n",
       "    </tr>\n",
       "    <tr>\n",
       "      <th>lolololololololl</th>\n",
       "      <td>1</td>\n",
       "      <td>1</td>\n",
       "    </tr>\n",
       "    <tr>\n",
       "      <th>ahhhhhhhhhhhhhhhhhhhhhhhhhh</th>\n",
       "      <td>1</td>\n",
       "      <td>1</td>\n",
       "    </tr>\n",
       "    <tr>\n",
       "      <th>lolllllllllllllllllllll</th>\n",
       "      <td>3</td>\n",
       "      <td>1</td>\n",
       "    </tr>\n",
       "    <tr>\n",
       "      <th>hahahaahah</th>\n",
       "      <td>1</td>\n",
       "      <td>1</td>\n",
       "    </tr>\n",
       "    <tr>\n",
       "      <th>hhahahah</th>\n",
       "      <td>2</td>\n",
       "      <td>1</td>\n",
       "    </tr>\n",
       "    <tr>\n",
       "      <th>lollllllllllllllll</th>\n",
       "      <td>13</td>\n",
       "      <td>1</td>\n",
       "    </tr>\n",
       "    <tr>\n",
       "      <th>hahahahahahahahahahaha</th>\n",
       "      <td>1</td>\n",
       "      <td>1</td>\n",
       "    </tr>\n",
       "    <tr>\n",
       "      <th>hahahaahahah</th>\n",
       "      <td>1</td>\n",
       "      <td>1</td>\n",
       "    </tr>\n",
       "    <tr>\n",
       "      <th>ahhhhhhhhhhhhhhhhhhhhhhhhh</th>\n",
       "      <td>2</td>\n",
       "      <td>1</td>\n",
       "    </tr>\n",
       "    <tr>\n",
       "      <th>haahahahahah</th>\n",
       "      <td>1</td>\n",
       "      <td>1</td>\n",
       "    </tr>\n",
       "    <tr>\n",
       "      <th>llolololol</th>\n",
       "      <td>1</td>\n",
       "      <td>1</td>\n",
       "    </tr>\n",
       "    <tr>\n",
       "      <th>ahhhhhhhhhhhh</th>\n",
       "      <td>3</td>\n",
       "      <td>1</td>\n",
       "    </tr>\n",
       "    <tr>\n",
       "      <th>hahhahahah</th>\n",
       "      <td>1</td>\n",
       "      <td>1</td>\n",
       "    </tr>\n",
       "    <tr>\n",
       "      <th>hahahahhahahahahah</th>\n",
       "      <td>1</td>\n",
       "      <td>1</td>\n",
       "    </tr>\n",
       "    <tr>\n",
       "      <th>hahahahahahhaha</th>\n",
       "      <td>1</td>\n",
       "      <td>1</td>\n",
       "    </tr>\n",
       "  </tbody>\n",
       "</table>\n",
       "<p>164 rows × 2 columns</p>\n",
       "</div>"
      ],
      "text/plain": [
       "                                       1_x    1_y\n",
       "0                                                \n",
       "lol                                   7628  29162\n",
       "haha                                  1004   3299\n",
       "hahaha                                 342    979\n",
       "lololol                                245    854\n",
       "lolol                                   60    798\n",
       "rofl                                   560    458\n",
       "hahah                                   20    399\n",
       "hahahaha                               267    323\n",
       "lolololol                              206    312\n",
       "lool                                     3    306\n",
       "loool                                    3    193\n",
       "hahahah                                142    189\n",
       "lo                                      33    153\n",
       "looool                                   1    153\n",
       "ha                                      25    152\n",
       "ahahaha                                  5    121\n",
       "aha                                     16    107\n",
       "hahahahaha                             121     96\n",
       "lololololol                             93     89\n",
       "lololo                                   5     69\n",
       "loooool                                  1     68\n",
       "ahh                                      1     63\n",
       "lolo                                     1     59\n",
       "loll                                    27     55\n",
       "hahahha                                  3     53\n",
       "hah                                     22     50\n",
       "llol                                     3     49\n",
       "loolol                                   2     48\n",
       "hahahahah                              168     47\n",
       "hahahahahaha                            56     43\n",
       "...                                    ...    ...\n",
       "ahahahahaah                              1      1\n",
       "haahahaha                                1      1\n",
       "lllolol                                  1      1\n",
       "hahahahahh                               3      1\n",
       "rofllllll                                1      1\n",
       "ahhhhhhhhhhhhhhhhhhhhhhhhhhhhhhhhhhh     1      1\n",
       "hahahahahahahahahah                      2      1\n",
       "ahhhhhhhhhhhhhhh                         1      1\n",
       "roflrofl                                 2      1\n",
       "hahahhahaah                              1      1\n",
       "lolololllll                              1      1\n",
       "hahahahhaahahahah                        1      1\n",
       "hahahahahaah                            11      1\n",
       "rofllllllllll                            2      1\n",
       "hahahhahahah                             1      1\n",
       "lolololololololl                         1      1\n",
       "ahhhhhhhhhhhhhhhhhhhhhhhhhh              1      1\n",
       "lolllllllllllllllllllll                  3      1\n",
       "hahahaahah                               1      1\n",
       "hhahahah                                 2      1\n",
       "lollllllllllllllll                      13      1\n",
       "hahahahahahahahahahaha                   1      1\n",
       "hahahaahahah                             1      1\n",
       "ahhhhhhhhhhhhhhhhhhhhhhhhh               2      1\n",
       "haahahahahah                             1      1\n",
       "llolololol                               1      1\n",
       "ahhhhhhhhhhhh                            3      1\n",
       "hahhahahah                               1      1\n",
       "hahahahhahahahahah                       1      1\n",
       "hahahahahahhaha                          1      1\n",
       "\n",
       "[164 rows x 2 columns]"
      ]
     },
     "execution_count": 37,
     "metadata": {},
     "output_type": "execute_result"
    }
   ],
   "source": [
    "res = lwords[lwords.index.isin(their_lwords.index)].merge(their_lwords[their_lwords.index.isin(lwords.index)], left_index=True, right_index=True)\n",
    "res"
   ]
  },
  {
   "cell_type": "code",
   "execution_count": 38,
   "metadata": {
    "collapsed": false
   },
   "outputs": [
    {
     "data": {
      "text/plain": [
       "<matplotlib.axes._subplots.AxesSubplot at 0xe180f98>"
      ]
     },
     "execution_count": 38,
     "metadata": {},
     "output_type": "execute_result"
    },
    {
     "data": {
      "image/png": "[encoded data removed]",
      "text/plain": [
       "<matplotlib.figure.Figure at 0xe42e630>"
      ]
     },
     "metadata": {},
     "output_type": "display_data"
    }
   ],
   "source": [
    "res[1:10].plot(kind=\"bar\")"
   ]
  },
  {
   "cell_type": "code",
   "execution_count": 39,
   "metadata": {
    "collapsed": false
   },
   "outputs": [],
   "source": [
    "#kwords"
   ]
  },
  {
   "cell_type": "code",
   "execution_count": 40,
   "metadata": {
    "collapsed": false
   },
   "outputs": [
    {
     "data": {
      "text/plain": [
       "39356"
      ]
     },
     "execution_count": 40,
     "metadata": {},
     "output_type": "execute_result"
    }
   ],
   "source": [
    "len(kwords)"
   ]
  },
  {
   "cell_type": "code",
   "execution_count": null,
   "metadata": {
    "collapsed": false
   },
   "outputs": [
    {
     "data": {
      "text/plain": [
       "107485"
      ]
     },
     "execution_count": 41,
     "metadata": {},
     "output_type": "execute_result"
    }
   ],
   "source": [
    "len(owords)"
   ]
  },
  {
   "cell_type": "code",
   "execution_count": null,
   "metadata": {
    "collapsed": false
   },
   "outputs": [],
   "source": [
    "%%time\n",
    "#b = DataFrame(msgs.text.str.split(',').tolist(), index=a.var2).stack()\n",
    "wordlist = []\n",
    "for index, row in msgs.iterrows(): #itertuples is faster so use it instead\n",
    "    for word in row.text.split():\n",
    "        wordlist.append({\"word\": word, \"sender\": row.sender, \"members\": row.members, \"time\": row.time})"
   ]
  },
  {
   "cell_type": "code",
   "execution_count": 45,
   "metadata": {
    "collapsed": true
   },
   "outputs": [],
   "source": [
    "words = pd.DataFrame(wordlist)\n",
    "#del wordlist"
   ]
  },
  {
   "cell_type": "code",
   "execution_count": 46,
   "metadata": {
    "collapsed": false
   },
   "outputs": [
    {
     "data": {
      "text/plain": [
       "www.youtube.com     414\n",
       "www.facebook.com    225\n",
       "i.imgur.com         163\n",
       "pastebin.com         88\n",
       "docs.google.com      80\n",
       "dtype: int64"
      ]
     },
     "execution_count": 46,
     "metadata": {},
     "output_type": "execute_result"
    }
   ],
   "source": [
    "urls = words[words.word.str.startswith(\"http\")]\n",
    "urlbases = urls.copy()\n",
    "urlbases.word = urlbases.word.str.split(\"/\").apply(lambda x: x[2] if len(x) >= 3 else None)\n",
    "myurlbases = urlbases[urls.sender == \"Kevin Wang\"]\n",
    "otherurlbases = urlbases[urls.sender != \"Kevin Wang\"]\n",
    "myurlbases.word.value_counts().head()"
   ]
  },
  {
   "cell_type": "code",
   "execution_count": 47,
   "metadata": {
    "collapsed": false
   },
   "outputs": [
    {
     "data": {
      "text/plain": [
       "1453387    https://www.youtube.com/watch?v=VoUR3FEV4d4\n",
       "Name: word, dtype: object"
      ]
     },
     "execution_count": 47,
     "metadata": {},
     "output_type": "execute_result"
    }
   ],
   "source": [
    "urls.word.sample()"
   ]
  },
  {
   "cell_type": "code",
   "execution_count": 48,
   "metadata": {
    "collapsed": false
   },
   "outputs": [
    {
     "data": {
      "text/plain": [
       "<matplotlib.axes._subplots.AxesSubplot at 0x538ff630>"
      ]
     },
     "execution_count": 48,
     "metadata": {},
     "output_type": "execute_result"
    },
    {
     "data": {
      "image/png": "[encoded data removed]",
      "text/plain": [
       "<matplotlib.figure.Figure at 0x526a9940>"
      ]
     },
     "metadata": {},
     "output_type": "display_data"
    }
   ],
   "source": [
    "myurlbases.word.value_counts()[:10].plot(kind=\"bar\")"
   ]
  },
  {
   "cell_type": "code",
   "execution_count": 49,
   "metadata": {
    "collapsed": false
   },
   "outputs": [],
   "source": [
    "laughs = words[words.word.str.startswith(\"lol\") | words.word.str.startswith(\"rofl\")]"
   ]
  },
  {
   "cell_type": "code",
   "execution_count": 50,
   "metadata": {
    "collapsed": true
   },
   "outputs": [],
   "source": [
    "def is_laugh_word(word):\n",
    "    word = word.lower()\n",
    "    if ((set(word) in ({\"h\", \"a\"}, {\"l\", \"o\"})) or (word[:4] == \"rofl\")) and word not in {'ah'}:\n",
    "        return True\n",
    "    return False"
   ]
  },
  {
   "cell_type": "code",
   "execution_count": 51,
   "metadata": {
    "collapsed": false
   },
   "outputs": [
    {
     "data": {
      "text/plain": [
       "lol       21173\n",
       "LOL       11824\n",
       "haha       3584\n",
       "Lol        3268\n",
       "hahaha      919\n",
       "dtype: int64"
      ]
     },
     "execution_count": 51,
     "metadata": {},
     "output_type": "execute_result"
    }
   ],
   "source": [
    "laughs = words[words.word.apply(is_laugh_word)]\n",
    "laughs.word.value_counts().head()"
   ]
  },
  {
   "cell_type": "code",
   "execution_count": 52,
   "metadata": {
    "collapsed": true
   },
   "outputs": [],
   "source": [
    "def laugh_words(words):\n",
    "    return words[words.word.apply(is_laugh_word)]"
   ]
  },
  {
   "cell_type": "code",
   "execution_count": 53,
   "metadata": {
    "collapsed": false
   },
   "outputs": [
    {
     "data": {
      "text/plain": [
       "lol                                                                7628\n",
       "haha                                                               1004\n",
       "rofl                                                                560\n",
       "hahaha                                                              342\n",
       "hahahaha                                                            267\n",
       "lololol                                                             245\n",
       "lolololol                                                           206\n",
       "hahahahah                                                           168\n",
       "hahahah                                                             142\n",
       "lollll                                                              124\n",
       "hahahahaha                                                          121\n",
       "lololololol                                                          93\n",
       "hahahahahah                                                          92\n",
       "lolllll                                                              76\n",
       "lolll                                                                66\n",
       "lolol                                                                60\n",
       "hahahahahaha                                                         56\n",
       "lollllll                                                             53\n",
       "lolololololol                                                        37\n",
       "hahahahahahah                                                        34\n",
       "lo                                                                   33\n",
       "lollllllll                                                           29\n",
       "ahah                                                                 28\n",
       "loll                                                                 27\n",
       "lolllllll                                                            27\n",
       "ha                                                                   25\n",
       "ahahahah                                                             24\n",
       "hah                                                                  22\n",
       "lolllllllll                                                          21\n",
       "hahah                                                                20\n",
       "                                                                   ... \n",
       "hahahahahahahahahahahaha                                              1\n",
       "lolllllllllllllllllllllllllllllllllllllllllllllllllllllllll           1\n",
       "loooooooooool                                                         1\n",
       "hahahahahahahahaa                                                     1\n",
       "hahahahahahahahahahaha                                                1\n",
       "llolololololol                                                        1\n",
       "lolllllllllllllllllllllllllllllllllllllllllllllll                     1\n",
       "hahahahaahahah                                                        1\n",
       "loololollol                                                           1\n",
       "lollololl                                                             1\n",
       "ahh                                                                   1\n",
       "lololololololllllllll                                                 1\n",
       "lololololololololol                                                   1\n",
       "looooooololololol                                                     1\n",
       "rofltrap                                                              1\n",
       "llololololol                                                          1\n",
       "ahhhhhhhhhhhhhhhhhhhhhhhhhh                                           1\n",
       "hahhhhhhhhhh                                                          1\n",
       "rofllllll                                                             1\n",
       "loooooooll                                                            1\n",
       "hahhaha                                                               1\n",
       "lolololollol                                                          1\n",
       "lolololoollolol                                                       1\n",
       "ahahahahahah                                                          1\n",
       "hhaahaha                                                              1\n",
       "haahahahahah                                                          1\n",
       "hahahhaahahahahahah                                                   1\n",
       "hahahahahahahahh                                                      1\n",
       "lollolololol                                                          1\n",
       "lolllllllllllllllllllllllllllllllllllllllllllllllllllllllllllll       1\n",
       "dtype: int64"
      ]
     },
     "execution_count": 53,
     "metadata": {},
     "output_type": "execute_result"
    }
   ],
   "source": [
    "laugh_words(words[words.sender == \"Kevin Wang\"]).word.str.lower().value_counts()"
   ]
  },
  {
   "cell_type": "code",
   "execution_count": 54,
   "metadata": {
    "collapsed": true
   },
   "outputs": [],
   "source": [
    "my_laugh_words = laugh_words(words[words.sender == \"Kevin Wang\"])"
   ]
  },
  {
   "cell_type": "code",
   "execution_count": 55,
   "metadata": {
    "collapsed": false
   },
   "outputs": [
    {
     "data": {
      "text/plain": [
       "      word                                                                              \n",
       "2011  AHA                                       AHA                                           1\n",
       "      AHAHAAHAH                                 AHAHAAHAH                                     1\n",
       "      AHAHAHAHAH                                AHAHAHAHAH                                    1\n",
       "      AHHAhHhhh                                 AHHAhHhhh                                     1\n",
       "      AHHHH                                     AHHHH                                         2\n",
       "      AHHHHHHHHH                                AHHHHHHHHH                                    1\n",
       "      AHHHHHHHHHHHH                             AHHHHHHHHHHHH                                 1\n",
       "      AHHHHHHHHHHHHHHHH                         AHHHHHHHHHHHHHHHH                             1\n",
       "      AHHHHHHHHHHHHHHHHHHHHH                    AHHHHHHHHHHHHHHHHHHHHH                        1\n",
       "      AHHHHHHHHHHHHHHHHHHHHHHHHHHHHHHHHHHH      AHHHHHHHHHHHHHHHHHHHHHHHHHHHHHHHHHHH          1\n",
       "      AHahahahah                                AHahahahah                                    1\n",
       "      HA                                        HA                                           11\n",
       "      HAH                                       HAH                                           4\n",
       "      HAHA                                      HAHA                                          4\n",
       "      HAHAHA                                    HAHAHA                                        1\n",
       "      HAHAHAAH                                  HAHAHAAH                                      1\n",
       "      HAHAHAH                                   HAHAHAH                                      11\n",
       "      HAHAHAHA                                  HAHAHAHA                                      4\n",
       "      HAHAHAHAAH                                HAHAHAHAAH                                    1\n",
       "      HAHAHAHAAHAHAH                            HAHAHAHAAHAHAH                                1\n",
       "      HAHAHAHAAHH                               HAHAHAHAAHH                                   1\n",
       "      HAHAHAHAAHHA                              HAHAHAHAAHHA                                  1\n",
       "      HAHAHAHAH                                 HAHAHAHAH                                    18\n",
       "      HAHAHAHAHA                                HAHAHAHAHA                                    2\n",
       "      HAHAHAHAHAAHAH                            HAHAHAHAHAAHAH                                1\n",
       "      HAHAHAHAHAH                               HAHAHAHAHAH                                  15\n",
       "      HAHAHAHAHAHA                              HAHAHAHAHAHA                                  2\n",
       "      HAHAHAHAHAHAAHAHAHAHAHA                   HAHAHAHAHAHAAHAHAHAHAHA                       1\n",
       "      HAHAHAHAHAHAH                             HAHAHAHAHAHAH                                 5\n",
       "      HAHAHAHAHAHAHA                            HAHAHAHAHAHAHA                                2\n",
       "                                                                                           ... \n",
       "2015  lo                                        lo                                            6\n",
       "      lol                                       lol                                         542\n",
       "      loll                                      loll                                          4\n",
       "      lolll                                     lolll                                        16\n",
       "      lollll                                    lollll                                       19\n",
       "      lolllll                                   lolllll                                      14\n",
       "      lollllll                                  lollllll                                      5\n",
       "      lolllllll                                 lolllllll                                     1\n",
       "      lolllllllll                               lolllllllll                                   1\n",
       "      lolllllllllll                             lolllllllllll                                 2\n",
       "      lollllllllllll                            lollllllllllll                                2\n",
       "      lolllllllllllll                           lolllllllllllll                               1\n",
       "      lolllllllllllllllll                       lolllllllllllllllll                           1\n",
       "      lolllllllllllllllllll                     lolllllllllllllllllll                         1\n",
       "      lolllllllllllllllllllllll                 lolllllllllllllllllllllll                     1\n",
       "      lollllllllllllllllllllllllllll            lollllllllllllllllllllllllllll                1\n",
       "      lollllllllllllllllllllllllllllllllllllll  lollllllllllllllllllllllllllllllllllllll      1\n",
       "      lolo                                      lolo                                          1\n",
       "      lolololol                                 lolololol                                     1\n",
       "      lololololo                                lololololo                                    1\n",
       "      lololololol                               lololololol                                   2\n",
       "      loololol                                  loololol                                      1\n",
       "      ol                                        ol                                            1\n",
       "      olllll                                    olllll                                        1\n",
       "      ool                                       ool                                           1\n",
       "      rOFL                                      rOFL                                          1\n",
       "      rofl                                      rofl                                        121\n",
       "      roflll                                    roflll                                        1\n",
       "      roflllll'                                 roflllll'                                     1\n",
       "      roflroflrofl                              roflroflrofl                                  1\n",
       "dtype: int64"
      ]
     },
     "execution_count": 55,
     "metadata": {},
     "output_type": "execute_result"
    }
   ],
   "source": [
    "my_laugh_words.groupby([my_laugh_words.time.dt.year, my_laugh_words.word]).word.value_counts()"
   ]
  },
  {
   "cell_type": "code",
   "execution_count": 56,
   "metadata": {
    "collapsed": false
   },
   "outputs": [
    {
     "data": {
      "text/plain": [
       "      word                                                                              \n",
       "2011  aha                                       aha                                           9\n",
       "                                                AHA                                           1\n",
       "      ahah                                      ahah                                         18\n",
       "      ahahaahah                                 AHAHAAHAH                                     1\n",
       "      ahahaahahah                               ahahaahahah                                   1\n",
       "      ahahah                                    ahahah                                       17\n",
       "      ahahaha                                   ahahaha                                       4\n",
       "      ahahahah                                  ahahahah                                     20\n",
       "      ahahahaha                                 ahahahaha                                     1\n",
       "      ahahahahaah                               ahahahahaah                                   1\n",
       "      ahahahahah                                ahahahahah                                    8\n",
       "                                                AHahahahah                                    1\n",
       "                                                AHAHAHAHAH                                    1\n",
       "      ahahahahaha                               ahahahahaha                                   1\n",
       "      ahahahahahah                              ahahahahahah                                  1\n",
       "      ahahahahahahaha                           ahahahahahahaha                               1\n",
       "      ahhahahh                                  ahhahahh                                      2\n",
       "      ahhahhhhh                                 AHHAhHhhh                                     1\n",
       "      ahhh                                      ahhh                                          2\n",
       "      ahhhh                                     AHHHH                                         2\n",
       "                                                ahhhh                                         2\n",
       "      ahhhhh                                    ahhhhh                                        1\n",
       "      ahhhhhh                                   ahhhhhh                                       4\n",
       "      ahhhhhhh                                  ahhhhhhh                                      1\n",
       "      ahhhhhhhhh                                AHHHHHHHHH                                    1\n",
       "      ahhhhhhhhhhhh                             AHHHHHHHHHHHH                                 1\n",
       "      ahhhhhhhhhhhhhhhh                         AHHHHHHHHHHHHHHHH                             1\n",
       "      ahhhhhhhhhhhhhhhhhhhhh                    AHHHHHHHHHHHHHHHHHHHHH                        1\n",
       "      ahhhhhhhhhhhhhhhhhhhhhhhhhhhhhhhhhhh      AHHHHHHHHHHHHHHHHHHHHHHHHHHHHHHHHHHH          1\n",
       "      ha                                        HA                                           11\n",
       "                                                                                           ... \n",
       "2015  lolllllllllll                             lolllllllllll                                 2\n",
       "      lollllllllllll                            lollllllllllll                                2\n",
       "      lolllllllllllll                           lolllllllllllll                               1\n",
       "      lolllllllllllllllll                       lolllllllllllllllll                           1\n",
       "      lolllllllllllllllllll                     lolllllllllllllllllll                         1\n",
       "      lolllllllllllllllllllllll                 lolllllllllllllllllllllll                     1\n",
       "      lollllllllllllllllllllllllllll            lollllllllllllllllllllllllllll                1\n",
       "      lollllllllllllllllllllllllllllllllllllll  lollllllllllllllllllllllllllllllllllllll      1\n",
       "      lolo                                      lolo                                          1\n",
       "      lolololol                                 lolololol                                     1\n",
       "      lololololo                                lololololo                                    1\n",
       "      lololololol                               lololololol                                   2\n",
       "      lolololool                                Lolololool                                    1\n",
       "      loololol                                  loololol                                      1\n",
       "      ol                                        OL                                            1\n",
       "                                                ol                                            1\n",
       "      olllll                                    olllll                                        1\n",
       "      ool                                       ool                                           1\n",
       "      rofl                                      rofl                                        121\n",
       "                                                Rofl                                         36\n",
       "                                                ROFL                                          7\n",
       "                                                rOFL                                          1\n",
       "                                                ROFl                                          1\n",
       "      rofll                                     Rofll                                         1\n",
       "      roflll                                    Roflll                                        1\n",
       "                                                roflll                                        1\n",
       "      rofllll                                   Rofllll                                       1\n",
       "      roflllll'                                 roflllll'                                     1\n",
       "      roflok                                    Roflok                                        1\n",
       "      roflroflrofl                              roflroflrofl                                  1\n",
       "dtype: int64"
      ]
     },
     "execution_count": 56,
     "metadata": {},
     "output_type": "execute_result"
    }
   ],
   "source": [
    "my_laugh_words.groupby([my_laugh_words.time.dt.year, my_laugh_words.word.str.lower()]).word.value_counts()"
   ]
  },
  {
   "cell_type": "code",
   "execution_count": 57,
   "metadata": {
    "collapsed": false
   },
   "outputs": [
    {
     "data": {
      "text/html": [
       "<div>\n",
       "<table border=\"1\" class=\"dataframe\">\n",
       "  <thead>\n",
       "    <tr style=\"text-align: right;\">\n",
       "      <th></th>\n",
       "      <th>members</th>\n",
       "      <th>sender</th>\n",
       "      <th>time</th>\n",
       "      <th>word</th>\n",
       "    </tr>\n",
       "  </thead>\n",
       "  <tbody>\n",
       "    <tr>\n",
       "      <th>18</th>\n",
       "      <td>['Kevin Wang', 'Walton Wu']</td>\n",
       "      <td>Kevin Wang</td>\n",
       "      <td>2011-06-13 21:18:00</td>\n",
       "      <td>lol</td>\n",
       "    </tr>\n",
       "    <tr>\n",
       "      <th>66</th>\n",
       "      <td>['Kevin Wang', 'Walton Wu']</td>\n",
       "      <td>Kevin Wang</td>\n",
       "      <td>2011-06-13 21:17:00</td>\n",
       "      <td>lol</td>\n",
       "    </tr>\n",
       "    <tr>\n",
       "      <th>77</th>\n",
       "      <td>['Kevin Wang', 'Walton Wu']</td>\n",
       "      <td>Kevin Wang</td>\n",
       "      <td>2011-06-13 21:16:00</td>\n",
       "      <td>lol</td>\n",
       "    </tr>\n",
       "    <tr>\n",
       "      <th>85</th>\n",
       "      <td>['Kevin Wang', 'Walton Wu']</td>\n",
       "      <td>Kevin Wang</td>\n",
       "      <td>2011-06-13 20:27:00</td>\n",
       "      <td>lol</td>\n",
       "    </tr>\n",
       "    <tr>\n",
       "      <th>220</th>\n",
       "      <td>['Kevin Wang', 'Walton Wu']</td>\n",
       "      <td>Kevin Wang</td>\n",
       "      <td>2011-06-12 21:43:00</td>\n",
       "      <td>lolol</td>\n",
       "    </tr>\n",
       "  </tbody>\n",
       "</table>\n",
       "</div>"
      ],
      "text/plain": [
       "                         members      sender                time   word\n",
       "18   ['Kevin Wang', 'Walton Wu']  Kevin Wang 2011-06-13 21:18:00    lol\n",
       "66   ['Kevin Wang', 'Walton Wu']  Kevin Wang 2011-06-13 21:17:00    lol\n",
       "77   ['Kevin Wang', 'Walton Wu']  Kevin Wang 2011-06-13 21:16:00    lol\n",
       "85   ['Kevin Wang', 'Walton Wu']  Kevin Wang 2011-06-13 20:27:00    lol\n",
       "220  ['Kevin Wang', 'Walton Wu']  Kevin Wang 2011-06-12 21:43:00  lolol"
      ]
     },
     "execution_count": 57,
     "metadata": {},
     "output_type": "execute_result"
    }
   ],
   "source": [
    "my_laugh_words.word = my_laugh_words.word.str.lower()\n",
    "my_laugh_words.head()"
   ]
  },
  {
   "cell_type": "code",
   "execution_count": 58,
   "metadata": {
    "collapsed": false
   },
   "outputs": [
    {
     "data": {
      "text/plain": [
       "<matplotlib.axes._subplots.AxesSubplot at 0x536f1898>"
      ]
     },
     "execution_count": 58,
     "metadata": {},
     "output_type": "execute_result"
    },
    {
     "data": {
      "image/png": "[encoded data removed]",
      "text/plain": [
       "<matplotlib.figure.Figure at 0x536fb128>"
      ]
     },
     "metadata": {},
     "output_type": "display_data"
    }
   ],
   "source": [
    "my_laugh_words.groupby([my_laugh_words.time.dt.year]).word.nunique().plot(kind=\"bar\", title=\"unique laughs per year\")"
   ]
  },
  {
   "cell_type": "code",
   "execution_count": 59,
   "metadata": {
    "collapsed": false
   },
   "outputs": [
    {
     "data": {
      "text/plain": [
       "2011    203\n",
       "2012     98\n",
       "2013     94\n",
       "2014    122\n",
       "2015     53\n",
       "Name: word, dtype: int64"
      ]
     },
     "execution_count": 59,
     "metadata": {},
     "output_type": "execute_result"
    }
   ],
   "source": [
    "my_laugh_words.groupby([my_laugh_words.time.dt.year]).word.nunique()"
   ]
  },
  {
   "cell_type": "code",
   "execution_count": 60,
   "metadata": {
    "collapsed": false
   },
   "outputs": [
    {
     "data": {
      "text/plain": [
       "2011  lol    3146\n",
       "2012  lol    1055\n",
       "2013  lol     972\n",
       "2014  lol    1630\n",
       "2015  lol     825\n",
       "dtype: int64"
      ]
     },
     "execution_count": 60,
     "metadata": {},
     "output_type": "execute_result"
    }
   ],
   "source": [
    "my_laugh_words.groupby([my_laugh_words.word, my_laugh_words.time.dt.year]).word.value_counts().lol"
   ]
  },
  {
   "cell_type": "code",
   "execution_count": 61,
   "metadata": {
    "collapsed": false
   },
   "outputs": [
    {
     "data": {
      "text/plain": [
       "2011    4656\n",
       "2012    1708\n",
       "2013    1792\n",
       "2014    2981\n",
       "2015    1289\n",
       "dtype: int64"
      ]
     },
     "execution_count": 61,
     "metadata": {},
     "output_type": "execute_result"
    }
   ],
   "source": [
    "my_laugh_words.groupby([my_laugh_words.time.dt.year]).word.value_counts().sum(level=[0])"
   ]
  },
  {
   "cell_type": "code",
   "execution_count": 62,
   "metadata": {
    "collapsed": false
   },
   "outputs": [
    {
     "data": {
      "text/plain": [
       "2011    172907\n",
       "2012     87299\n",
       "2013    112175\n",
       "2014    134189\n",
       "2015     88206\n",
       "Name: word, dtype: int64"
      ]
     },
     "execution_count": 62,
     "metadata": {},
     "output_type": "execute_result"
    }
   ],
   "source": [
    "my_words = words[words.sender == \"Kevin Wang\"]\n",
    "my_words.groupby(my_words.time.dt.year).word.count()"
   ]
  },
  {
   "cell_type": "code",
   "execution_count": 88,
   "metadata": {
    "collapsed": false
   },
   "outputs": [
    {
     "data": {
      "text/plain": [
       "2011-05-23 20:39:00    22\n",
       "2013-05-29 00:34:00    23\n",
       "2013-11-22 22:52:00    24\n",
       "2012-05-10 18:56:00    24\n",
       "2013-04-12 19:17:00    28\n",
       "dtype: int64"
      ]
     },
     "execution_count": 88,
     "metadata": {},
     "output_type": "execute_result"
    }
   ],
   "source": [
    "kevin.time.value_counts().order().tail()"
   ]
  },
  {
   "cell_type": "code",
   "execution_count": 64,
   "metadata": {
    "collapsed": false
   },
   "outputs": [
    {
     "data": {
      "text/html": [
       "<div>\n",
       "<table border=\"1\" class=\"dataframe\">\n",
       "  <thead>\n",
       "    <tr style=\"text-align: right;\">\n",
       "      <th></th>\n",
       "      <th>Unnamed: 0</th>\n",
       "      <th>members</th>\n",
       "      <th>sender</th>\n",
       "      <th>text</th>\n",
       "      <th>time</th>\n",
       "    </tr>\n",
       "  </thead>\n",
       "  <tbody>\n",
       "    <tr>\n",
       "      <th>621933</th>\n",
       "      <td>621933</td>\n",
       "      <td>['1282059499@facebook.com', '1847184391@facebo...</td>\n",
       "      <td>1847184391@facebook.com</td>\n",
       "      <td>Click the link below to be Kevin Wang's neighb...</td>\n",
       "      <td>2009-10-12 20:18:00</td>\n",
       "    </tr>\n",
       "    <tr>\n",
       "      <th>563584</th>\n",
       "      <td>563584</td>\n",
       "      <td>['Ryan Saeta', 'Kevin Wang']</td>\n",
       "      <td>1847184391@facebook.com</td>\n",
       "      <td>Click the link below to be Kevin Wang's neighb...</td>\n",
       "      <td>2009-10-13 19:21:00</td>\n",
       "    </tr>\n",
       "    <tr>\n",
       "      <th>597191</th>\n",
       "      <td>597191</td>\n",
       "      <td>['100000186486871@facebook.com', '1847184391@f...</td>\n",
       "      <td>1847184391@facebook.com</td>\n",
       "      <td>Click the link below to be Kevin Wang's neighb...</td>\n",
       "      <td>2009-10-13 22:24:00</td>\n",
       "    </tr>\n",
       "    <tr>\n",
       "      <th>166598</th>\n",
       "      <td>166598</td>\n",
       "      <td>['1162066448@facebook.com', '1847184391@facebo...</td>\n",
       "      <td>1847184391@facebook.com</td>\n",
       "      <td>Click the link below to be Kevin Wang's neighb...</td>\n",
       "      <td>2009-10-13 22:24:00</td>\n",
       "    </tr>\n",
       "    <tr>\n",
       "      <th>597190</th>\n",
       "      <td>597190</td>\n",
       "      <td>['100000186486871@facebook.com', '1847184391@f...</td>\n",
       "      <td>1847184391@facebook.com</td>\n",
       "      <td>Click the link below to be Kevin Wang's neighb...</td>\n",
       "      <td>2009-10-14 16:47:00</td>\n",
       "    </tr>\n",
       "  </tbody>\n",
       "</table>\n",
       "</div>"
      ],
      "text/plain": [
       "        Unnamed: 0                                            members  \\\n",
       "621933      621933  ['1282059499@facebook.com', '1847184391@facebo...   \n",
       "563584      563584                       ['Ryan Saeta', 'Kevin Wang']   \n",
       "597191      597191  ['100000186486871@facebook.com', '1847184391@f...   \n",
       "166598      166598  ['1162066448@facebook.com', '1847184391@facebo...   \n",
       "597190      597190  ['100000186486871@facebook.com', '1847184391@f...   \n",
       "\n",
       "                         sender  \\\n",
       "621933  1847184391@facebook.com   \n",
       "563584  1847184391@facebook.com   \n",
       "597191  1847184391@facebook.com   \n",
       "166598  1847184391@facebook.com   \n",
       "597190  1847184391@facebook.com   \n",
       "\n",
       "                                                     text                time  \n",
       "621933  Click the link below to be Kevin Wang's neighb... 2009-10-12 20:18:00  \n",
       "563584  Click the link below to be Kevin Wang's neighb... 2009-10-13 19:21:00  \n",
       "597191  Click the link below to be Kevin Wang's neighb... 2009-10-13 22:24:00  \n",
       "166598  Click the link below to be Kevin Wang's neighb... 2009-10-13 22:24:00  \n",
       "597190  Click the link below to be Kevin Wang's neighb... 2009-10-14 16:47:00  "
      ]
     },
     "execution_count": 64,
     "metadata": {},
     "output_type": "execute_result"
    }
   ],
   "source": [
    "msgs.sort('time').head()\n",
    "#rofl"
   ]
  },
  {
   "cell_type": "code",
   "execution_count": 117,
   "metadata": {
    "collapsed": false
   },
   "outputs": [
    {
     "data": {
      "text/plain": [
       "<matplotlib.axes._subplots.AxesSubplot at 0x2d3813c8>"
      ]
     },
     "execution_count": 117,
     "metadata": {},
     "output_type": "execute_result"
    },
    {
     "data": {
      "image/png": "[encoded data removed]",
      "text/plain": [
       "<matplotlib.figure.Figure at 0x361286a0>"
      ]
     },
     "metadata": {},
     "output_type": "display_data"
    }
   ],
   "source": [
    "my_laugh_words[my_laugh_words.word == \"lol\"].groupby([my_laugh_words.time.dt.to_period(\"M\")]).word.value_counts().plot()"
   ]
  },
  {
   "cell_type": "code",
   "execution_count": 118,
   "metadata": {
    "collapsed": false
   },
   "outputs": [
    {
     "data": {
      "text/plain": [
       "<matplotlib.axes._subplots.AxesSubplot at 0x52379358>"
      ]
     },
     "execution_count": 118,
     "metadata": {},
     "output_type": "execute_result"
    },
    {
     "data": {
      "image/png": "[encoded data removed]",
      "text/plain": [
       "<matplotlib.figure.Figure at 0x2a523fd0>"
      ]
     },
     "metadata": {},
     "output_type": "display_data"
    }
   ],
   "source": [
    "my_laugh_words[my_laugh_words.word == \"rofl\"].groupby([my_laugh_words.time.dt.to_period(\"M\")]).word.value_counts().plot()"
   ]
  },
  {
   "cell_type": "code",
   "execution_count": 123,
   "metadata": {
    "collapsed": false
   },
   "outputs": [
    {
     "data": {
      "text/plain": [
       "<matplotlib.axes._subplots.AxesSubplot at 0x29408518>"
      ]
     },
     "execution_count": 123,
     "metadata": {},
     "output_type": "execute_result"
    },
    {
     "data": {
      "image/png": "[encoded data removed]",
      "text/plain": [
       "<matplotlib.figure.Figure at 0x2d2a5048>"
      ]
     },
     "metadata": {},
     "output_type": "display_data"
    }
   ],
   "source": [
    "my_laugh_words[my_laugh_words.word == \"rofl\"].groupby([my_laugh_words.time.dt.to_period(\"Y\")]).word.value_counts().plot()"
   ]
  },
  {
   "cell_type": "code",
   "execution_count": 124,
   "metadata": {
    "collapsed": false
   },
   "outputs": [
    {
     "data": {
      "text/plain": [
       "<matplotlib.axes._subplots.AxesSubplot at 0x3cb33940>"
      ]
     },
     "execution_count": 124,
     "metadata": {},
     "output_type": "execute_result"
    },
    {
     "data": {
      "image/png": "[encoded data removed]",
      "text/plain": [
       "<matplotlib.figure.Figure at 0x36426ef0>"
      ]
     },
     "metadata": {},
     "output_type": "display_data"
    }
   ],
   "source": [
    "my_words[my_words.word == \"gay\"].groupby([my_words.time.dt.to_period(\"Y\")]).word.value_counts().plot()"
   ]
  },
  {
   "cell_type": "code",
   "execution_count": 127,
   "metadata": {
    "collapsed": false
   },
   "outputs": [
    {
     "data": {
      "text/plain": [
       "<matplotlib.axes._subplots.AxesSubplot at 0x4932a9b0>"
      ]
     },
     "execution_count": 127,
     "metadata": {},
     "output_type": "execute_result"
    },
    {
     "data": {
      "image/png": "[encoded data removed]",
      "text/plain": [
       "<matplotlib.figure.Figure at 0x496c4eb8>"
      ]
     },
     "metadata": {},
     "output_type": "display_data"
    }
   ],
   "source": [
    "my_words[my_words.word == \"dota\"].groupby([my_words.time.dt.to_period(\"M\")]).word.value_counts().plot()"
   ]
  },
  {
   "cell_type": "code",
   "execution_count": 128,
   "metadata": {
    "collapsed": false
   },
   "outputs": [
    {
     "data": {
      "text/plain": [
       "<matplotlib.axes._subplots.AxesSubplot at 0x496a3da0>"
      ]
     },
     "execution_count": 128,
     "metadata": {},
     "output_type": "execute_result"
    },
    {
     "data": {
      "image/png": "[encoded data removed]",
      "text/plain": [
       "<matplotlib.figure.Figure at 0x4932ae48>"
      ]
     },
     "metadata": {},
     "output_type": "display_data"
    }
   ],
   "source": [
    "my_words[my_words.word == \"dota\"].groupby([my_words.time.dt.to_period(\"Y\")]).word.value_counts().plot()"
   ]
  },
  {
   "cell_type": "code",
   "execution_count": 134,
   "metadata": {
    "collapsed": false
   },
   "outputs": [
    {
     "data": {
      "text/plain": [
       "<matplotlib.axes._subplots.AxesSubplot at 0x43527438>"
      ]
     },
     "execution_count": 134,
     "metadata": {},
     "output_type": "execute_result"
    },
    {
     "data": {
      "image/png": "[encoded data removed]",
      "text/plain": [
       "<matplotlib.figure.Figure at 0x43115898>"
      ]
     },
     "metadata": {},
     "output_type": "display_data"
    }
   ],
   "source": [
    "words[words.word == \"dota\"].groupby([words.time.dt.to_period(\"M\")]).word.value_counts().plot()"
   ]
  },
  {
   "cell_type": "code",
   "execution_count": 137,
   "metadata": {
    "collapsed": false
   },
   "outputs": [
    {
     "data": {
      "text/plain": [
       "<matplotlib.axes._subplots.AxesSubplot at 0x38d560b8>"
      ]
     },
     "execution_count": 137,
     "metadata": {},
     "output_type": "execute_result"
    },
    {
     "data": {
      "image/png": "[encoded data removed]",
      "text/plain": [
       "<matplotlib.figure.Figure at 0x2d414710>"
      ]
     },
     "metadata": {},
     "output_type": "display_data"
    }
   ],
   "source": [
    "words[words.word == \"yolo\"].groupby([words.time.dt.to_period(\"M\")]).word.value_counts().plot()"
   ]
  },
  {
   "cell_type": "code",
   "execution_count": null,
   "metadata": {
    "collapsed": false
   },
   "outputs": [],
   "source": []
  },
  {
   "cell_type": "code",
   "execution_count": 178,
   "metadata": {
    "collapsed": false
   },
   "outputs": [],
   "source": [
    "import matplotlib.pyplot as plt\n",
    "%matplotlib qt\n",
    "words[words.word == \"christine\"].groupby(words.time.dt.to_period(\"M\")).word.value_counts().plot()\n",
    "plt.gcf().autofmt_xdate()\n",
    "#plt.show()"
   ]
  },
  {
   "cell_type": "code",
   "execution_count": 177,
   "metadata": {
    "collapsed": false
   },
   "outputs": [
    {
     "ename": "AttributeError",
     "evalue": "Can only use .dt accessor with datetimelike values",
     "output_type": "error",
     "traceback": [
      "\u001b[1;31m---------------------------------------------------------------------------\u001b[0m",
      "\u001b[1;31mTypeError\u001b[0m                                 Traceback (most recent call last)",
      "\u001b[1;32mC:\\Users\\kevin\\Anaconda3\\lib\\site-packages\\pandas\\core\\series.py\u001b[0m in \u001b[0;36m_make_dt_accessor\u001b[1;34m(self)\u001b[0m\n\u001b[0;32m   2525\u001b[0m         \u001b[1;32mtry\u001b[0m\u001b[1;33m:\u001b[0m\u001b[1;33m\u001b[0m\u001b[0m\n\u001b[1;32m-> 2526\u001b[1;33m             \u001b[1;32mreturn\u001b[0m \u001b[0mmaybe_to_datetimelike\u001b[0m\u001b[1;33m(\u001b[0m\u001b[0mself\u001b[0m\u001b[1;33m)\u001b[0m\u001b[1;33m\u001b[0m\u001b[0m\n\u001b[0m\u001b[0;32m   2527\u001b[0m         \u001b[1;32mexcept\u001b[0m \u001b[0mException\u001b[0m\u001b[1;33m:\u001b[0m\u001b[1;33m\u001b[0m\u001b[0m\n",
      "\u001b[1;32mC:\\Users\\kevin\\Anaconda3\\lib\\site-packages\\pandas\\tseries\\common.py\u001b[0m in \u001b[0;36mmaybe_to_datetimelike\u001b[1;34m(data, copy)\u001b[0m\n\u001b[0;32m     55\u001b[0m \u001b[1;33m\u001b[0m\u001b[0m\n\u001b[1;32m---> 56\u001b[1;33m     \u001b[1;32mraise\u001b[0m \u001b[0mTypeError\u001b[0m\u001b[1;33m(\u001b[0m\u001b[1;34m\"cannot convert an object of type {0} to a datetimelike index\"\u001b[0m\u001b[1;33m.\u001b[0m\u001b[0mformat\u001b[0m\u001b[1;33m(\u001b[0m\u001b[0mtype\u001b[0m\u001b[1;33m(\u001b[0m\u001b[0mdata\u001b[0m\u001b[1;33m)\u001b[0m\u001b[1;33m)\u001b[0m\u001b[1;33m)\u001b[0m\u001b[1;33m\u001b[0m\u001b[0m\n\u001b[0m\u001b[0;32m     57\u001b[0m \u001b[1;33m\u001b[0m\u001b[0m\n",
      "\u001b[1;31mTypeError\u001b[0m: cannot convert an object of type <class 'pandas.core.series.Series'> to a datetimelike index",
      "\nDuring handling of the above exception, another exception occurred:\n",
      "\u001b[1;31mAttributeError\u001b[0m                            Traceback (most recent call last)",
      "\u001b[1;32m<ipython-input-177-21ed4794e696>\u001b[0m in \u001b[0;36m<module>\u001b[1;34m()\u001b[0m\n\u001b[1;32m----> 1\u001b[1;33m \u001b[0mwords\u001b[0m\u001b[1;33m.\u001b[0m\u001b[0mword\u001b[0m\u001b[1;33m.\u001b[0m\u001b[0mdt\u001b[0m\u001b[1;33m\u001b[0m\u001b[0m\n\u001b[0m",
      "\u001b[1;32mC:\\Users\\kevin\\Anaconda3\\lib\\site-packages\\pandas\\core\\generic.py\u001b[0m in \u001b[0;36m__getattr__\u001b[1;34m(self, name)\u001b[0m\n\u001b[0;32m   2143\u001b[0m                 \u001b[1;32mor\u001b[0m \u001b[0mname\u001b[0m \u001b[1;32min\u001b[0m \u001b[0mself\u001b[0m\u001b[1;33m.\u001b[0m\u001b[0m_metadata\u001b[0m\u001b[1;33m\u001b[0m\u001b[0m\n\u001b[0;32m   2144\u001b[0m                 or name in self._accessors):\n\u001b[1;32m-> 2145\u001b[1;33m             \u001b[1;32mreturn\u001b[0m \u001b[0mobject\u001b[0m\u001b[1;33m.\u001b[0m\u001b[0m__getattribute__\u001b[0m\u001b[1;33m(\u001b[0m\u001b[0mself\u001b[0m\u001b[1;33m,\u001b[0m \u001b[0mname\u001b[0m\u001b[1;33m)\u001b[0m\u001b[1;33m\u001b[0m\u001b[0m\n\u001b[0m\u001b[0;32m   2146\u001b[0m         \u001b[1;32melse\u001b[0m\u001b[1;33m:\u001b[0m\u001b[1;33m\u001b[0m\u001b[0m\n\u001b[0;32m   2147\u001b[0m             \u001b[1;32mif\u001b[0m \u001b[0mname\u001b[0m \u001b[1;32min\u001b[0m \u001b[0mself\u001b[0m\u001b[1;33m.\u001b[0m\u001b[0m_info_axis\u001b[0m\u001b[1;33m:\u001b[0m\u001b[1;33m\u001b[0m\u001b[0m\n",
      "\u001b[1;32mC:\\Users\\kevin\\Anaconda3\\lib\\site-packages\\pandas\\core\\base.py\u001b[0m in \u001b[0;36m__get__\u001b[1;34m(self, instance, owner)\u001b[0m\n\u001b[0;32m    186\u001b[0m             \u001b[1;31m# this ensures that Series.str.<method> is well defined\u001b[0m\u001b[1;33m\u001b[0m\u001b[1;33m\u001b[0m\u001b[0m\n\u001b[0;32m    187\u001b[0m             \u001b[1;32mreturn\u001b[0m \u001b[0mself\u001b[0m\u001b[1;33m.\u001b[0m\u001b[0maccessor_cls\u001b[0m\u001b[1;33m\u001b[0m\u001b[0m\n\u001b[1;32m--> 188\u001b[1;33m         \u001b[1;32mreturn\u001b[0m \u001b[0mself\u001b[0m\u001b[1;33m.\u001b[0m\u001b[0mconstruct_accessor\u001b[0m\u001b[1;33m(\u001b[0m\u001b[0minstance\u001b[0m\u001b[1;33m)\u001b[0m\u001b[1;33m\u001b[0m\u001b[0m\n\u001b[0m\u001b[0;32m    189\u001b[0m \u001b[1;33m\u001b[0m\u001b[0m\n\u001b[0;32m    190\u001b[0m     \u001b[1;32mdef\u001b[0m \u001b[0m__set__\u001b[0m\u001b[1;33m(\u001b[0m\u001b[0mself\u001b[0m\u001b[1;33m,\u001b[0m \u001b[0minstance\u001b[0m\u001b[1;33m,\u001b[0m \u001b[0mvalue\u001b[0m\u001b[1;33m)\u001b[0m\u001b[1;33m:\u001b[0m\u001b[1;33m\u001b[0m\u001b[0m\n",
      "\u001b[1;32mC:\\Users\\kevin\\Anaconda3\\lib\\site-packages\\pandas\\core\\series.py\u001b[0m in \u001b[0;36m_make_dt_accessor\u001b[1;34m(self)\u001b[0m\n\u001b[0;32m   2526\u001b[0m             \u001b[1;32mreturn\u001b[0m \u001b[0mmaybe_to_datetimelike\u001b[0m\u001b[1;33m(\u001b[0m\u001b[0mself\u001b[0m\u001b[1;33m)\u001b[0m\u001b[1;33m\u001b[0m\u001b[0m\n\u001b[0;32m   2527\u001b[0m         \u001b[1;32mexcept\u001b[0m \u001b[0mException\u001b[0m\u001b[1;33m:\u001b[0m\u001b[1;33m\u001b[0m\u001b[0m\n\u001b[1;32m-> 2528\u001b[1;33m             raise AttributeError(\"Can only use .dt accessor with datetimelike \"\n\u001b[0m\u001b[0;32m   2529\u001b[0m                                  \"values\")\n\u001b[0;32m   2530\u001b[0m \u001b[1;33m\u001b[0m\u001b[0m\n",
      "\u001b[1;31mAttributeError\u001b[0m: Can only use .dt accessor with datetimelike values"
     ]
    }
   ],
   "source": []
  },
  {
   "cell_type": "code",
   "execution_count": null,
   "metadata": {
    "collapsed": true
   },
   "outputs": [],
   "source": []
  }
 ],
 "metadata": {
  "kernelspec": {
   "display_name": "Python 3",
   "language": "python",
   "name": "python3"
  },
  "language_info": {
   "codemirror_mode": {
    "name": "ipython",
    "version": 3
   },
   "file_extension": ".py",
   "mimetype": "text/x-python",
   "name": "python",
   "nbconvert_exporter": "python",
   "pygments_lexer": "ipython3",
   "version": "3.4.3"
  }
 },
 "nbformat": 4,
 "nbformat_minor": 0
}
