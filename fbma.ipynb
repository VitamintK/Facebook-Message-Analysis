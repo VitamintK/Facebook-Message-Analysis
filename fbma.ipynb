{
 "cells": [
  {
   "cell_type": "code",
   "execution_count": 35,
   "metadata": {
    "collapsed": false
   },
   "outputs": [],
   "source": [
    "import fbma\n",
    "import pandas as pd"
   ]
  },
  {
   "cell_type": "code",
   "execution_count": 72,
   "metadata": {
    "collapsed": false
   },
   "outputs": [
    {
     "data": {
      "text/html": [
       "<div>\n",
       "<table border=\"1\" class=\"dataframe\">\n",
       "  <thead>\n",
       "    <tr style=\"text-align: right;\">\n",
       "      <th></th>\n",
       "      <th>members</th>\n",
       "      <th>sender</th>\n",
       "      <th>text</th>\n",
       "      <th>time</th>\n",
       "    </tr>\n",
       "  </thead>\n",
       "  <tbody>\n",
       "    <tr>\n",
       "      <th>0</th>\n",
       "      <td>['Kevin Wang', 'Walton Wu']</td>\n",
       "      <td>Kevin Wang</td>\n",
       "      <td>don't take calcium supplements</td>\n",
       "      <td>Monday, June 13, 2011 at 9:20pm PDT</td>\n",
       "    </tr>\n",
       "    <tr>\n",
       "      <th>1</th>\n",
       "      <td>['Kevin Wang', 'Walton Wu']</td>\n",
       "      <td>Kevin Wang</td>\n",
       "      <td>my doctor was all</td>\n",
       "      <td>Monday, June 13, 2011 at 9:20pm PDT</td>\n",
       "    </tr>\n",
       "    <tr>\n",
       "      <th>2</th>\n",
       "      <td>['Kevin Wang', 'Walton Wu']</td>\n",
       "      <td>Kevin Wang</td>\n",
       "      <td>i dunno</td>\n",
       "      <td>Monday, June 13, 2011 at 9:20pm PDT</td>\n",
       "    </tr>\n",
       "    <tr>\n",
       "      <th>3</th>\n",
       "      <td>['Kevin Wang', 'Walton Wu']</td>\n",
       "      <td>Kevin Wang</td>\n",
       "      <td>asdf</td>\n",
       "      <td>Monday, June 13, 2011 at 9:18pm PDT</td>\n",
       "    </tr>\n",
       "    <tr>\n",
       "      <th>4</th>\n",
       "      <td>['Kevin Wang', 'Walton Wu']</td>\n",
       "      <td>Walton Wu</td>\n",
       "      <td>lol</td>\n",
       "      <td>Monday, June 13, 2011 at 9:18pm PDT</td>\n",
       "    </tr>\n",
       "  </tbody>\n",
       "</table>\n",
       "</div>"
      ],
      "text/plain": [
       "                       members      sender                            text  \\\n",
       "0  ['Kevin Wang', 'Walton Wu']  Kevin Wang  don't take calcium supplements   \n",
       "1  ['Kevin Wang', 'Walton Wu']  Kevin Wang               my doctor was all   \n",
       "2  ['Kevin Wang', 'Walton Wu']  Kevin Wang                         i dunno   \n",
       "3  ['Kevin Wang', 'Walton Wu']  Kevin Wang                            asdf   \n",
       "4  ['Kevin Wang', 'Walton Wu']   Walton Wu                             lol   \n",
       "\n",
       "                                  time  \n",
       "0  Monday, June 13, 2011 at 9:20pm PDT  \n",
       "1  Monday, June 13, 2011 at 9:20pm PDT  \n",
       "2  Monday, June 13, 2011 at 9:20pm PDT  \n",
       "3  Monday, June 13, 2011 at 9:18pm PDT  \n",
       "4  Monday, June 13, 2011 at 9:18pm PDT  "
      ]
     },
     "execution_count": 72,
     "metadata": {},
     "output_type": "execute_result"
    }
   ],
   "source": [
    "fbma.msgs.head()"
   ]
  },
  {
   "cell_type": "code",
   "execution_count": 3,
   "metadata": {
    "collapsed": true
   },
   "outputs": [],
   "source": [
    "%matplotlib inline"
   ]
  },
  {
   "cell_type": "code",
   "execution_count": 4,
   "metadata": {
    "collapsed": true
   },
   "outputs": [],
   "source": [
    "msgs = fbma.msgs"
   ]
  },
  {
   "cell_type": "code",
   "execution_count": 5,
   "metadata": {
    "collapsed": true
   },
   "outputs": [],
   "source": [
    "kevin = msgs[msgs['sender'] == \"Kevin Wang\"]"
   ]
  },
  {
   "cell_type": "code",
   "execution_count": 6,
   "metadata": {
    "collapsed": false
   },
   "outputs": [
    {
     "data": {
      "text/html": [
       "<div>\n",
       "<table border=\"1\" class=\"dataframe\">\n",
       "  <thead>\n",
       "    <tr style=\"text-align: right;\">\n",
       "      <th></th>\n",
       "      <th>members</th>\n",
       "      <th>sender</th>\n",
       "      <th>text</th>\n",
       "      <th>time</th>\n",
       "    </tr>\n",
       "  </thead>\n",
       "  <tbody>\n",
       "    <tr>\n",
       "      <th>0</th>\n",
       "      <td>['Kevin Wang', 'Walton Wu']</td>\n",
       "      <td>Kevin Wang</td>\n",
       "      <td>don't take calcium supplements</td>\n",
       "      <td>Monday, June 13, 2011 at 9:20pm PDT</td>\n",
       "    </tr>\n",
       "    <tr>\n",
       "      <th>1</th>\n",
       "      <td>['Kevin Wang', 'Walton Wu']</td>\n",
       "      <td>Kevin Wang</td>\n",
       "      <td>my doctor was all</td>\n",
       "      <td>Monday, June 13, 2011 at 9:20pm PDT</td>\n",
       "    </tr>\n",
       "    <tr>\n",
       "      <th>2</th>\n",
       "      <td>['Kevin Wang', 'Walton Wu']</td>\n",
       "      <td>Kevin Wang</td>\n",
       "      <td>i dunno</td>\n",
       "      <td>Monday, June 13, 2011 at 9:20pm PDT</td>\n",
       "    </tr>\n",
       "    <tr>\n",
       "      <th>3</th>\n",
       "      <td>['Kevin Wang', 'Walton Wu']</td>\n",
       "      <td>Kevin Wang</td>\n",
       "      <td>asdf</td>\n",
       "      <td>Monday, June 13, 2011 at 9:18pm PDT</td>\n",
       "    </tr>\n",
       "    <tr>\n",
       "      <th>7</th>\n",
       "      <td>['Kevin Wang', 'Walton Wu']</td>\n",
       "      <td>Kevin Wang</td>\n",
       "      <td>lol</td>\n",
       "      <td>Monday, June 13, 2011 at 9:18pm PDT</td>\n",
       "    </tr>\n",
       "  </tbody>\n",
       "</table>\n",
       "</div>"
      ],
      "text/plain": [
       "                       members      sender                            text  \\\n",
       "0  ['Kevin Wang', 'Walton Wu']  Kevin Wang  don't take calcium supplements   \n",
       "1  ['Kevin Wang', 'Walton Wu']  Kevin Wang               my doctor was all   \n",
       "2  ['Kevin Wang', 'Walton Wu']  Kevin Wang                         i dunno   \n",
       "3  ['Kevin Wang', 'Walton Wu']  Kevin Wang                            asdf   \n",
       "7  ['Kevin Wang', 'Walton Wu']  Kevin Wang                             lol   \n",
       "\n",
       "                                  time  \n",
       "0  Monday, June 13, 2011 at 9:20pm PDT  \n",
       "1  Monday, June 13, 2011 at 9:20pm PDT  \n",
       "2  Monday, June 13, 2011 at 9:20pm PDT  \n",
       "3  Monday, June 13, 2011 at 9:18pm PDT  \n",
       "7  Monday, June 13, 2011 at 9:18pm PDT  "
      ]
     },
     "execution_count": 6,
     "metadata": {},
     "output_type": "execute_result"
    }
   ],
   "source": [
    "kevin.head()"
   ]
  },
  {
   "cell_type": "code",
   "execution_count": 7,
   "metadata": {
    "collapsed": true
   },
   "outputs": [],
   "source": [
    "others = msgs[msgs['sender'] != \"Kevin Wang\"]"
   ]
  },
  {
   "cell_type": "code",
   "execution_count": 75,
   "metadata": {
    "collapsed": false
   },
   "outputs": [
    {
     "data": {
      "text/html": [
       "<div>\n",
       "<table border=\"1\" class=\"dataframe\">\n",
       "  <thead>\n",
       "    <tr style=\"text-align: right;\">\n",
       "      <th></th>\n",
       "      <th>members</th>\n",
       "      <th>sender</th>\n",
       "      <th>text</th>\n",
       "      <th>time</th>\n",
       "    </tr>\n",
       "  </thead>\n",
       "  <tbody>\n",
       "    <tr>\n",
       "      <th>4</th>\n",
       "      <td>['Kevin Wang', 'Walton Wu']</td>\n",
       "      <td>Walton Wu</td>\n",
       "      <td>lol</td>\n",
       "      <td>Monday, June 13, 2011 at 9:18pm PDT</td>\n",
       "    </tr>\n",
       "    <tr>\n",
       "      <th>5</th>\n",
       "      <td>['Kevin Wang', 'Walton Wu']</td>\n",
       "      <td>Walton Wu</td>\n",
       "      <td>lt helps</td>\n",
       "      <td>Monday, June 13, 2011 at 9:18pm PDT</td>\n",
       "    </tr>\n",
       "    <tr>\n",
       "      <th>6</th>\n",
       "      <td>['Kevin Wang', 'Walton Wu']</td>\n",
       "      <td>Walton Wu</td>\n",
       "      <td>want some calcium pills?</td>\n",
       "      <td>Monday, June 13, 2011 at 9:18pm PDT</td>\n",
       "    </tr>\n",
       "    <tr>\n",
       "      <th>9</th>\n",
       "      <td>['Kevin Wang', 'Walton Wu']</td>\n",
       "      <td>Walton Wu</td>\n",
       "      <td>l'm pretty much recovered</td>\n",
       "      <td>Monday, June 13, 2011 at 9:18pm PDT</td>\n",
       "    </tr>\n",
       "    <tr>\n",
       "      <th>10</th>\n",
       "      <td>['Kevin Wang', 'Walton Wu']</td>\n",
       "      <td>Walton Wu</td>\n",
       "      <td>l'm surprised you aren't recovered</td>\n",
       "      <td>Monday, June 13, 2011 at 9:18pm PDT</td>\n",
       "    </tr>\n",
       "  </tbody>\n",
       "</table>\n",
       "</div>"
      ],
      "text/plain": [
       "                        members     sender  \\\n",
       "4   ['Kevin Wang', 'Walton Wu']  Walton Wu   \n",
       "5   ['Kevin Wang', 'Walton Wu']  Walton Wu   \n",
       "6   ['Kevin Wang', 'Walton Wu']  Walton Wu   \n",
       "9   ['Kevin Wang', 'Walton Wu']  Walton Wu   \n",
       "10  ['Kevin Wang', 'Walton Wu']  Walton Wu   \n",
       "\n",
       "                                  text                                 time  \n",
       "4                                  lol  Monday, June 13, 2011 at 9:18pm PDT  \n",
       "5                             lt helps  Monday, June 13, 2011 at 9:18pm PDT  \n",
       "6            want some calcium pills?   Monday, June 13, 2011 at 9:18pm PDT  \n",
       "9            l'm pretty much recovered  Monday, June 13, 2011 at 9:18pm PDT  \n",
       "10  l'm surprised you aren't recovered  Monday, June 13, 2011 at 9:18pm PDT  "
      ]
     },
     "execution_count": 75,
     "metadata": {},
     "output_type": "execute_result"
    }
   ],
   "source": [
    "others.head()"
   ]
  },
  {
   "cell_type": "code",
   "execution_count": 17,
   "metadata": {
    "collapsed": true
   },
   "outputs": [],
   "source": [
    "from collections import Counter\n",
    "def make_words(df, case_sensitive = False):\n",
    "    words = Counter()\n",
    "    txt = df[\"text\"]\n",
    "    if case_sensitive == False:\n",
    "        txt = txt.str.lower()\n",
    "    #print(txt.str.split())\n",
    "    txt.str.split().apply(words.update)\n",
    "    return words"
   ]
  },
  {
   "cell_type": "code",
   "execution_count": 18,
   "metadata": {
    "collapsed": false
   },
   "outputs": [],
   "source": [
    "kevin = kevin[1:]"
   ]
  },
  {
   "cell_type": "code",
   "execution_count": 19,
   "metadata": {
    "collapsed": false
   },
   "outputs": [],
   "source": [
    "kwords = make_words(kevin)"
   ]
  },
  {
   "cell_type": "code",
   "execution_count": 76,
   "metadata": {
    "collapsed": false
   },
   "outputs": [],
   "source": [
    "#kwords"
   ]
  },
  {
   "cell_type": "code",
   "execution_count": null,
   "metadata": {
    "collapsed": true
   },
   "outputs": [],
   "source": []
  },
  {
   "cell_type": "code",
   "execution_count": null,
   "metadata": {
    "collapsed": false
   },
   "outputs": [],
   "source": [
    "types"
   ]
  },
  {
   "cell_type": "code",
   "execution_count": null,
   "metadata": {
    "collapsed": false
   },
   "outputs": [],
   "source": [
    "types != str"
   ]
  },
  {
   "cell_type": "code",
   "execution_count": null,
   "metadata": {
    "collapsed": false
   },
   "outputs": [],
   "source": [
    "types[types!=str]"
   ]
  },
  {
   "cell_type": "code",
   "execution_count": null,
   "metadata": {
    "collapsed": false
   },
   "outputs": [],
   "source": [
    "kevin[types!=str]"
   ]
  },
  {
   "cell_type": "code",
   "execution_count": 59,
   "metadata": {
    "collapsed": false
   },
   "outputs": [],
   "source": [
    "def laugh_words(words):\n",
    "    for word, amount in sorted(words.items(), key=lambda x: x[1], reverse = True):\n",
    "        if set(word) in ({\"h\", \"a\"}, {\"l\", \"o\"}):\n",
    "            if word not in {'ah'}:\n",
    "                yield (word, amount)"
   ]
  },
  {
   "cell_type": "code",
   "execution_count": 60,
   "metadata": {
    "collapsed": false
   },
   "outputs": [],
   "source": [
    "lwords = pd.DataFrame(list(laugh_words(kwords)))"
   ]
  },
  {
   "cell_type": "code",
   "execution_count": 61,
   "metadata": {
    "collapsed": false
   },
   "outputs": [
    {
     "data": {
      "text/html": [
       "<div>\n",
       "<table border=\"1\" class=\"dataframe\">\n",
       "  <thead>\n",
       "    <tr style=\"text-align: right;\">\n",
       "      <th></th>\n",
       "      <th>0</th>\n",
       "      <th>1</th>\n",
       "    </tr>\n",
       "  </thead>\n",
       "  <tbody>\n",
       "    <tr>\n",
       "      <th>0</th>\n",
       "      <td>lol</td>\n",
       "      <td>7628</td>\n",
       "    </tr>\n",
       "    <tr>\n",
       "      <th>1</th>\n",
       "      <td>haha</td>\n",
       "      <td>1004</td>\n",
       "    </tr>\n",
       "    <tr>\n",
       "      <th>2</th>\n",
       "      <td>hahaha</td>\n",
       "      <td>342</td>\n",
       "    </tr>\n",
       "    <tr>\n",
       "      <th>3</th>\n",
       "      <td>hahahaha</td>\n",
       "      <td>267</td>\n",
       "    </tr>\n",
       "    <tr>\n",
       "      <th>4</th>\n",
       "      <td>lololol</td>\n",
       "      <td>245</td>\n",
       "    </tr>\n",
       "  </tbody>\n",
       "</table>\n",
       "</div>"
      ],
      "text/plain": [
       "          0     1\n",
       "0       lol  7628\n",
       "1      haha  1004\n",
       "2    hahaha   342\n",
       "3  hahahaha   267\n",
       "4   lololol   245"
      ]
     },
     "execution_count": 61,
     "metadata": {},
     "output_type": "execute_result"
    }
   ],
   "source": [
    "lwords.head()"
   ]
  },
  {
   "cell_type": "code",
   "execution_count": 62,
   "metadata": {
    "collapsed": false
   },
   "outputs": [
    {
     "data": {
      "text/plain": [
       "<matplotlib.axes._subplots.AxesSubplot at 0x11ccb2e8>"
      ]
     },
     "execution_count": 62,
     "metadata": {},
     "output_type": "execute_result"
    },
    {
     "data": {
      "image/png": "[encoded data removed]",
      "text/plain": [
       "<matplotlib.figure.Figure at 0x119ea908>"
      ]
     },
     "metadata": {},
     "output_type": "display_data"
    }
   ],
   "source": [
    "lwords.plot(kind=\"bar\")"
   ]
  },
  {
   "cell_type": "code",
   "execution_count": 63,
   "metadata": {
    "collapsed": false
   },
   "outputs": [
    {
     "data": {
      "text/html": [
       "<div>\n",
       "<table border=\"1\" class=\"dataframe\">\n",
       "  <thead>\n",
       "    <tr style=\"text-align: right;\">\n",
       "      <th></th>\n",
       "      <th>0</th>\n",
       "      <th>1</th>\n",
       "    </tr>\n",
       "  </thead>\n",
       "  <tbody>\n",
       "    <tr>\n",
       "      <th>0</th>\n",
       "      <td>lol</td>\n",
       "      <td>7628</td>\n",
       "    </tr>\n",
       "    <tr>\n",
       "      <th>1</th>\n",
       "      <td>haha</td>\n",
       "      <td>1004</td>\n",
       "    </tr>\n",
       "    <tr>\n",
       "      <th>2</th>\n",
       "      <td>hahaha</td>\n",
       "      <td>342</td>\n",
       "    </tr>\n",
       "    <tr>\n",
       "      <th>3</th>\n",
       "      <td>hahahaha</td>\n",
       "      <td>267</td>\n",
       "    </tr>\n",
       "    <tr>\n",
       "      <th>4</th>\n",
       "      <td>lololol</td>\n",
       "      <td>245</td>\n",
       "    </tr>\n",
       "    <tr>\n",
       "      <th>5</th>\n",
       "      <td>lolololol</td>\n",
       "      <td>206</td>\n",
       "    </tr>\n",
       "    <tr>\n",
       "      <th>6</th>\n",
       "      <td>hahahahah</td>\n",
       "      <td>168</td>\n",
       "    </tr>\n",
       "    <tr>\n",
       "      <th>7</th>\n",
       "      <td>hahahah</td>\n",
       "      <td>142</td>\n",
       "    </tr>\n",
       "    <tr>\n",
       "      <th>8</th>\n",
       "      <td>lollll</td>\n",
       "      <td>124</td>\n",
       "    </tr>\n",
       "    <tr>\n",
       "      <th>9</th>\n",
       "      <td>hahahahaha</td>\n",
       "      <td>121</td>\n",
       "    </tr>\n",
       "    <tr>\n",
       "      <th>10</th>\n",
       "      <td>lololololol</td>\n",
       "      <td>93</td>\n",
       "    </tr>\n",
       "    <tr>\n",
       "      <th>11</th>\n",
       "      <td>hahahahahah</td>\n",
       "      <td>92</td>\n",
       "    </tr>\n",
       "    <tr>\n",
       "      <th>12</th>\n",
       "      <td>lolllll</td>\n",
       "      <td>76</td>\n",
       "    </tr>\n",
       "    <tr>\n",
       "      <th>13</th>\n",
       "      <td>lolll</td>\n",
       "      <td>66</td>\n",
       "    </tr>\n",
       "    <tr>\n",
       "      <th>14</th>\n",
       "      <td>lolol</td>\n",
       "      <td>60</td>\n",
       "    </tr>\n",
       "    <tr>\n",
       "      <th>15</th>\n",
       "      <td>hahahahahaha</td>\n",
       "      <td>56</td>\n",
       "    </tr>\n",
       "    <tr>\n",
       "      <th>16</th>\n",
       "      <td>lollllll</td>\n",
       "      <td>53</td>\n",
       "    </tr>\n",
       "    <tr>\n",
       "      <th>17</th>\n",
       "      <td>lolololololol</td>\n",
       "      <td>37</td>\n",
       "    </tr>\n",
       "    <tr>\n",
       "      <th>18</th>\n",
       "      <td>hahahahahahah</td>\n",
       "      <td>34</td>\n",
       "    </tr>\n",
       "    <tr>\n",
       "      <th>19</th>\n",
       "      <td>lo</td>\n",
       "      <td>33</td>\n",
       "    </tr>\n",
       "    <tr>\n",
       "      <th>20</th>\n",
       "      <td>lollllllll</td>\n",
       "      <td>29</td>\n",
       "    </tr>\n",
       "    <tr>\n",
       "      <th>21</th>\n",
       "      <td>ahah</td>\n",
       "      <td>28</td>\n",
       "    </tr>\n",
       "    <tr>\n",
       "      <th>22</th>\n",
       "      <td>lolllllll</td>\n",
       "      <td>27</td>\n",
       "    </tr>\n",
       "    <tr>\n",
       "      <th>23</th>\n",
       "      <td>loll</td>\n",
       "      <td>27</td>\n",
       "    </tr>\n",
       "    <tr>\n",
       "      <th>24</th>\n",
       "      <td>ha</td>\n",
       "      <td>25</td>\n",
       "    </tr>\n",
       "    <tr>\n",
       "      <th>25</th>\n",
       "      <td>ahahahah</td>\n",
       "      <td>24</td>\n",
       "    </tr>\n",
       "    <tr>\n",
       "      <th>26</th>\n",
       "      <td>hah</td>\n",
       "      <td>22</td>\n",
       "    </tr>\n",
       "    <tr>\n",
       "      <th>27</th>\n",
       "      <td>lolllllllll</td>\n",
       "      <td>21</td>\n",
       "    </tr>\n",
       "    <tr>\n",
       "      <th>28</th>\n",
       "      <td>hahah</td>\n",
       "      <td>20</td>\n",
       "    </tr>\n",
       "    <tr>\n",
       "      <th>29</th>\n",
       "      <td>ahahah</td>\n",
       "      <td>20</td>\n",
       "    </tr>\n",
       "    <tr>\n",
       "      <th>...</th>\n",
       "      <td>...</td>\n",
       "      <td>...</td>\n",
       "    </tr>\n",
       "    <tr>\n",
       "      <th>294</th>\n",
       "      <td>olololol</td>\n",
       "      <td>1</td>\n",
       "    </tr>\n",
       "    <tr>\n",
       "      <th>295</th>\n",
       "      <td>ollololol</td>\n",
       "      <td>1</td>\n",
       "    </tr>\n",
       "    <tr>\n",
       "      <th>296</th>\n",
       "      <td>hahahahahahahahahahhaha</td>\n",
       "      <td>1</td>\n",
       "    </tr>\n",
       "    <tr>\n",
       "      <th>297</th>\n",
       "      <td>hahahahahaaha</td>\n",
       "      <td>1</td>\n",
       "    </tr>\n",
       "    <tr>\n",
       "      <th>298</th>\n",
       "      <td>lolooll</td>\n",
       "      <td>1</td>\n",
       "    </tr>\n",
       "    <tr>\n",
       "      <th>299</th>\n",
       "      <td>hahahahahahahahahahahahahaha</td>\n",
       "      <td>1</td>\n",
       "    </tr>\n",
       "    <tr>\n",
       "      <th>300</th>\n",
       "      <td>lollllllllllllllllllllllllllllllllllllllllllll</td>\n",
       "      <td>1</td>\n",
       "    </tr>\n",
       "    <tr>\n",
       "      <th>301</th>\n",
       "      <td>lolololololollolol</td>\n",
       "      <td>1</td>\n",
       "    </tr>\n",
       "    <tr>\n",
       "      <th>302</th>\n",
       "      <td>hahahhaahhahahaha</td>\n",
       "      <td>1</td>\n",
       "    </tr>\n",
       "    <tr>\n",
       "      <th>303</th>\n",
       "      <td>hhahahahaahahah</td>\n",
       "      <td>1</td>\n",
       "    </tr>\n",
       "    <tr>\n",
       "      <th>304</th>\n",
       "      <td>loololollol</td>\n",
       "      <td>1</td>\n",
       "    </tr>\n",
       "    <tr>\n",
       "      <th>305</th>\n",
       "      <td>llololol</td>\n",
       "      <td>1</td>\n",
       "    </tr>\n",
       "    <tr>\n",
       "      <th>306</th>\n",
       "      <td>hahhahahah</td>\n",
       "      <td>1</td>\n",
       "    </tr>\n",
       "    <tr>\n",
       "      <th>307</th>\n",
       "      <td>lolololololololollolololololol</td>\n",
       "      <td>1</td>\n",
       "    </tr>\n",
       "    <tr>\n",
       "      <th>308</th>\n",
       "      <td>hahahahahahahahahahahh</td>\n",
       "      <td>1</td>\n",
       "    </tr>\n",
       "    <tr>\n",
       "      <th>309</th>\n",
       "      <td>lololollol</td>\n",
       "      <td>1</td>\n",
       "    </tr>\n",
       "    <tr>\n",
       "      <th>310</th>\n",
       "      <td>lolooolololo</td>\n",
       "      <td>1</td>\n",
       "    </tr>\n",
       "    <tr>\n",
       "      <th>311</th>\n",
       "      <td>llloooooooooooooooool</td>\n",
       "      <td>1</td>\n",
       "    </tr>\n",
       "    <tr>\n",
       "      <th>312</th>\n",
       "      <td>ahhahhhhh</td>\n",
       "      <td>1</td>\n",
       "    </tr>\n",
       "    <tr>\n",
       "      <th>313</th>\n",
       "      <td>hahahhaahahahahahah</td>\n",
       "      <td>1</td>\n",
       "    </tr>\n",
       "    <tr>\n",
       "      <th>314</th>\n",
       "      <td>lolololllll</td>\n",
       "      <td>1</td>\n",
       "    </tr>\n",
       "    <tr>\n",
       "      <th>315</th>\n",
       "      <td>hahahaahaha</td>\n",
       "      <td>1</td>\n",
       "    </tr>\n",
       "    <tr>\n",
       "      <th>316</th>\n",
       "      <td>lollllllllllllllllllllllllllllllllllllllllllll...</td>\n",
       "      <td>1</td>\n",
       "    </tr>\n",
       "    <tr>\n",
       "      <th>317</th>\n",
       "      <td>hahahaahh</td>\n",
       "      <td>1</td>\n",
       "    </tr>\n",
       "    <tr>\n",
       "      <th>318</th>\n",
       "      <td>olooolololololo</td>\n",
       "      <td>1</td>\n",
       "    </tr>\n",
       "    <tr>\n",
       "      <th>319</th>\n",
       "      <td>loooool</td>\n",
       "      <td>1</td>\n",
       "    </tr>\n",
       "    <tr>\n",
       "      <th>320</th>\n",
       "      <td>lollololl</td>\n",
       "      <td>1</td>\n",
       "    </tr>\n",
       "    <tr>\n",
       "      <th>321</th>\n",
       "      <td>hahaahaahaha</td>\n",
       "      <td>1</td>\n",
       "    </tr>\n",
       "    <tr>\n",
       "      <th>322</th>\n",
       "      <td>hahahahahahaahah</td>\n",
       "      <td>1</td>\n",
       "    </tr>\n",
       "    <tr>\n",
       "      <th>323</th>\n",
       "      <td>hahahahahahahahaa</td>\n",
       "      <td>1</td>\n",
       "    </tr>\n",
       "  </tbody>\n",
       "</table>\n",
       "<p>324 rows × 2 columns</p>\n",
       "</div>"
      ],
      "text/plain": [
       "                                                     0     1\n",
       "0                                                  lol  7628\n",
       "1                                                 haha  1004\n",
       "2                                               hahaha   342\n",
       "3                                             hahahaha   267\n",
       "4                                              lololol   245\n",
       "5                                            lolololol   206\n",
       "6                                            hahahahah   168\n",
       "7                                              hahahah   142\n",
       "8                                               lollll   124\n",
       "9                                           hahahahaha   121\n",
       "10                                         lololololol    93\n",
       "11                                         hahahahahah    92\n",
       "12                                             lolllll    76\n",
       "13                                               lolll    66\n",
       "14                                               lolol    60\n",
       "15                                        hahahahahaha    56\n",
       "16                                            lollllll    53\n",
       "17                                       lolololololol    37\n",
       "18                                       hahahahahahah    34\n",
       "19                                                  lo    33\n",
       "20                                          lollllllll    29\n",
       "21                                                ahah    28\n",
       "22                                           lolllllll    27\n",
       "23                                                loll    27\n",
       "24                                                  ha    25\n",
       "25                                            ahahahah    24\n",
       "26                                                 hah    22\n",
       "27                                         lolllllllll    21\n",
       "28                                               hahah    20\n",
       "29                                              ahahah    20\n",
       "..                                                 ...   ...\n",
       "294                                           olololol     1\n",
       "295                                          ollololol     1\n",
       "296                            hahahahahahahahahahhaha     1\n",
       "297                                      hahahahahaaha     1\n",
       "298                                            lolooll     1\n",
       "299                       hahahahahahahahahahahahahaha     1\n",
       "300     lollllllllllllllllllllllllllllllllllllllllllll     1\n",
       "301                                 lolololololollolol     1\n",
       "302                                  hahahhaahhahahaha     1\n",
       "303                                    hhahahahaahahah     1\n",
       "304                                        loololollol     1\n",
       "305                                           llololol     1\n",
       "306                                         hahhahahah     1\n",
       "307                     lolololololololollolololololol     1\n",
       "308                             hahahahahahahahahahahh     1\n",
       "309                                         lololollol     1\n",
       "310                                       lolooolololo     1\n",
       "311                              llloooooooooooooooool     1\n",
       "312                                          ahhahhhhh     1\n",
       "313                                hahahhaahahahahahah     1\n",
       "314                                        lolololllll     1\n",
       "315                                        hahahaahaha     1\n",
       "316  lollllllllllllllllllllllllllllllllllllllllllll...     1\n",
       "317                                          hahahaahh     1\n",
       "318                                    olooolololololo     1\n",
       "319                                            loooool     1\n",
       "320                                          lollololl     1\n",
       "321                                       hahaahaahaha     1\n",
       "322                                   hahahahahahaahah     1\n",
       "323                                  hahahahahahahahaa     1\n",
       "\n",
       "[324 rows x 2 columns]"
      ]
     },
     "execution_count": 63,
     "metadata": {},
     "output_type": "execute_result"
    }
   ],
   "source": [
    "lwords"
   ]
  },
  {
   "cell_type": "code",
   "execution_count": 64,
   "metadata": {
    "collapsed": false
   },
   "outputs": [],
   "source": [
    "def print_full(x):\n",
    "    pd.set_option('display.max_rows', len(x))\n",
    "    print(x)\n",
    "    pd.reset_option('display.max_rows')"
   ]
  },
  {
   "cell_type": "code",
   "execution_count": 65,
   "metadata": {
    "collapsed": false
   },
   "outputs": [
    {
     "name": "stdout",
     "output_type": "stream",
     "text": [
      "                                                     0     1\n",
      "0                                                  lol  7628\n",
      "1                                                 haha  1004\n",
      "2                                               hahaha   342\n",
      "3                                             hahahaha   267\n",
      "4                                              lololol   245\n",
      "5                                            lolololol   206\n",
      "6                                            hahahahah   168\n",
      "7                                              hahahah   142\n",
      "8                                               lollll   124\n",
      "9                                           hahahahaha   121\n",
      "10                                         lololololol    93\n",
      "11                                         hahahahahah    92\n",
      "12                                             lolllll    76\n",
      "13                                               lolll    66\n",
      "14                                               lolol    60\n",
      "15                                        hahahahahaha    56\n",
      "16                                            lollllll    53\n",
      "17                                       lolololololol    37\n",
      "18                                       hahahahahahah    34\n",
      "19                                                  lo    33\n",
      "20                                          lollllllll    29\n",
      "21                                                ahah    28\n",
      "22                                           lolllllll    27\n",
      "23                                                loll    27\n",
      "24                                                  ha    25\n",
      "25                                            ahahahah    24\n",
      "26                                                 hah    22\n",
      "27                                         lolllllllll    21\n",
      "28                                               hahah    20\n",
      "29                                              ahahah    20\n",
      "30                                     lololololololol    20\n",
      "31                                      hahahahahahaha    19\n",
      "32                                        lollllllllll    18\n",
      "33                                     hahahahahahahah    17\n",
      "34                                                 aha    16\n",
      "35                                      lollllllllllll    15\n",
      "36                                     lolllllllllllll    15\n",
      "37                                       lolllllllllll    14\n",
      "38                                            lolololo    14\n",
      "39                                                  ol    13\n",
      "40                                  lollllllllllllllll    13\n",
      "41                                          ahahahahah    11\n",
      "42                                    lollllllllllllll    11\n",
      "43                                        hahahahahaah    11\n",
      "44                                               ahhhh    10\n",
      "45                                   lolllllllllllllll     9\n",
      "46                                        hahahahaahah     9\n",
      "47                                           hahahahaa     9\n",
      "48                                    hahahahahahahaha     9\n",
      "49                                              lolool     9\n",
      "50                                   lolololololololol     8\n",
      "51                                  hahahahahahahahaha     8\n",
      "52                                             hahahaa     8\n",
      "53                                            lolololl     7\n",
      "54                                            lollolol     7\n",
      "55                                 lolllllllllllllllll     7\n",
      "56                                          hahahahaah     7\n",
      "57                                          ololololol     7\n",
      "58                                            loololol     6\n",
      "59                         lolllllllllllllllllllllllll     6\n",
      "60                              lollllllllllllllllllll     6\n",
      "61                                              ahhhhh     6\n",
      "62                                            lololool     6\n",
      "63                                          lollololol     6\n",
      "64                                          loloololol     6\n",
      "65                                   hahahahahahahahah     5\n",
      "66                                             ahahaha     5\n",
      "67                                              lololo     5\n",
      "68                          lollllllllllllllllllllllll     5\n",
      "69                                          lololololo     5\n",
      "70                                             ahhhhhh     5\n",
      "71                            lollllllllllllllllllllll     5\n",
      "72                                      hahahahahahaah     4\n",
      "73                                                ahhh     4\n",
      "74                                        lolololololo     4\n",
      "75                           lolllllllllllllllllllllll     4\n",
      "76                                       hahahahahahaa     4\n",
      "77                                              lollol     4\n",
      "78                                   ahhhhhhhhhhhhhhhh     4\n",
      "79                                                olol     4\n",
      "80                                            ahhhhhhh     4\n",
      "81                                lollllllllllllllllll     4\n",
      "82                                               hahaa     4\n",
      "83                                          lololololl     3\n",
      "84                                  hahahahahahahahaah     3\n",
      "85                                                lool     3\n",
      "86                                               loool     3\n",
      "87                             lolllllllllllllllllllll     3\n",
      "88                               hahahahahahahahahahah     3\n",
      "89                                       ahhhhhhhhhhhh     3\n",
      "90                                         hahahahaahh     3\n",
      "91                                             hahahha     3\n",
      "92                                                llol     3\n",
      "93                               lolololololololololol     3\n",
      "94                                          hahahahahh     3\n",
      "95                                          lolollolol     3\n",
      "96                                              llolol     3\n",
      "97                               lolllllllllllllllllll     3\n",
      "98                                          lolololool     3\n",
      "99                                              loolol     2\n",
      "100                         ahhhhhhhhhhhhhhhhhhhhhhhhh     2\n",
      "101                                           ahhahahh     2\n",
      "102                                           hahahaah     2\n",
      "103              lolllllllllllllllllllllllllllllllllll     2\n",
      "104             lollllllllllllllllllllllllllllllllllll     2\n",
      "105                                     lololololololl     2\n",
      "106                                        hahahahahaa     2\n",
      "107  lollllllllllllllllllllllllllllllllllllllllllll...     2\n",
      "108                                       lololoololol     2\n",
      "109                                     lollololololol     2\n",
      "110                                            hhahaha     2\n",
      "111                                    ahahahahahahaha     2\n",
      "112                                          hhahahaha     2\n",
      "113                                        hhahahahaha     2\n",
      "114                                     hahahahahaahah     2\n",
      "115                                             ahhaha     2\n",
      "116                                          ahahahaha     2\n",
      "117                       lollllllllllllllllllllllllll     2\n",
      "118                                hahahahahahahahahah     2\n",
      "119                                             hahaah     2\n",
      "120                                             lololl     2\n",
      "121                                        ahahahahaha     2\n",
      "122                        lololololololololololololol     2\n",
      "123                                   lolololololololo     2\n",
      "124                                          ahahaahah     2\n",
      "125                               hahahahahahahahahaha     2\n",
      "126                   lollllllllllllllllllllllllllllll     2\n",
      "127                                           hhahahah     2\n",
      "128                                        hhhahahahah     2\n",
      "129                                             ololol     2\n",
      "130                                       hhahahahahah     2\n",
      "131                                           loloolol     2\n",
      "132                                 hahahahahahaahahah     1\n",
      "133                                         lolollllll     1\n",
      "134                                       ahahahahahah     1\n",
      "135                              lolllolololooloololol     1\n",
      "136                                         loolololol     1\n",
      "137                                    lollollllllllll     1\n",
      "138                                           looooool     1\n",
      "139                                         loooooooll     1\n",
      "140                        ahhhhhhhhhhhhhhhhhhhhhhhhhh     1\n",
      "141                            hahahahahahahahahahahah     1\n",
      "142                                        lololoooool     1\n",
      "143                                          ahhhhhhhh     1\n",
      "144                                           ahhahaha     1\n",
      "145                                       hahhhhhhhhhh     1\n",
      "146                             hahahahahahahahahahaha     1\n",
      "147                                lololololololololol     1\n",
      "148                                     hahahahahahahh     1\n",
      "149                                      lolololoololo     1\n",
      "150               lollllllllllllllllllllllllllllllllll     1\n",
      "151         lololololololololololololololololollololol     1\n",
      "152                                   lolololoolloolol     1\n",
      "153                           hahahahahahahahaahahahah     1\n",
      "154  ahhhhhhhhhhhhhhhhhhhhhhhhhhhhhhhhhhhhhhhhhhhhh...     1\n",
      "155                           lllllllllllollllllllllll     1\n",
      "156                                 hahahahahahahaahah     1\n",
      "157     ahhhhhhhhhhhhhhhhhhhhhhhhhhhhhhhhhhhhhhhhhhhhh     1\n",
      "158                            lollololololollollollol     1\n",
      "159               ahahahahahahahahahahahahahahahahahah     1\n",
      "160  lollllllllllllllllllllllllllllllllllllllllllll...     1\n",
      "161                                             hahhah     1\n",
      "162                          hahahahahaahahahahahahaha     1\n",
      "163                                      loooooooooool     1\n",
      "164                                     lolololollolol     1\n",
      "165                          lolololololloloololololol     1\n",
      "166                       hahahahahahahahahhahahahahah     1\n",
      "167                                      lolllolololol     1\n",
      "168                                    lolololoollolol     1\n",
      "169                                           lolollol     1\n",
      "170                                           ololllll     1\n",
      "171                            hahahahahahaahahahahaha     1\n",
      "172                                            ahhahah     1\n",
      "173                                       hahahhahahah     1\n",
      "174                                          lolollool     1\n",
      "175                                        lollollllll     1\n",
      "176                                          looololol     1\n",
      "177                                       lololooolool     1\n",
      "178  ahhhhhhhhhhhhhhhhhhhhhhhhhhhhhhhhhhhhhhhhhhhhh...     1\n",
      "179                                 hahahahahahahahahh     1\n",
      "180                                     hahahahhahahah     1\n",
      "181                                       hahahaahahah     1\n",
      "182                                                ahh     1\n",
      "183                                                ool     1\n",
      "184                                       haahahahahah     1\n",
      "185                                  hahahahhaahahahah     1\n",
      "186                         hahahahahahahahaahahhaahah     1\n",
      "187                                        llololololl     1\n",
      "188               ahhhhhhhhhhhhhhhhhhhhhhhhhhhhhhhhhhh     1\n",
      "189                                     lolollolololol     1\n",
      "190                 hahahahahahahahahahahahahhahahahah     1\n",
      "191                                         hhahahahah     1\n",
      "192                                   hahahahahahahahh     1\n",
      "193                                     hahahahahhahah     1\n",
      "194                        hahahahhahahahaahhahahahaha     1\n",
      "195  lolllllllllllllllllllllllllllllllllllllllllllllll     1\n",
      "196                                          hahahahha     1\n",
      "197                              ahhhhhhhhhhhhhhhhhhhh     1\n",
      "198                                           ollololo     1\n",
      "199                                        ahahaahahah     1\n",
      "200                      hahahahahahahahahhahahahahaha     1\n",
      "201                              hahahahahahhaahahahah     1\n",
      "202                              lololololololllllllll     1\n",
      "203             lolololololololololololollolololololol     1\n",
      "204                                       lollolololol     1\n",
      "205   lollllllllllllllllllllllllllllllllllllllllllllll     1\n",
      "206                                            lolllol     1\n",
      "207                      lolllllllllllllllllllllllllll     1\n",
      "208                             lollololololololololol     1\n",
      "209                                             looool     1\n",
      "210                                       hahahahaahha     1\n",
      "211                             ahhhhhhhhhhhhhhhhhhhhh     1\n",
      "212                       hahahahahahahahahahahahahaah     1\n",
      "213                                    hahahahahahhaha     1\n",
      "214  lollllllllllllllllllllllllllllllllllllllllllll...     1\n",
      "215                                         llolololol     1\n",
      "216                                llolololollllllllll     1\n",
      "217                                   lolololololololl     1\n",
      "218                           hahahhahahahahahhahahaha     1\n",
      "219                                            hahhaha     1\n",
      "220  hahahahahahahahaahahahahahahahahahahahahahahah...     1\n",
      "221                                         hahahaahah     1\n",
      "222                                     loloololololol     1\n",
      "223                                hahhahahahahhahahah     1\n",
      "224                                        hahahhahaah     1\n",
      "225                                      olololollolol     1\n",
      "226                                   lololollolololol     1\n",
      "227                      hahahhhhhhhhhhhhhhhhhhhhhhhhh     1\n",
      "228                                              ollol     1\n",
      "229                                         lollollolo     1\n",
      "230                                          haahahaha     1\n",
      "231                                       hahahahahhaa     1\n",
      "232                                       haaaaahahaha     1\n",
      "233                                             hahahh     1\n",
      "234  lollllllllllllllllllllllllllllllllllllllllllll...     1\n",
      "235                                               olll     1\n",
      "236                              hahhhahahahaahahahahh     1\n",
      "237    hahahahahahahaahhahahahahahhahahahahhahahahahha     1\n",
      "238                                        lololollolo     1\n",
      "239                                   ahhhhhhhhhhhhhhh     1\n",
      "240     hahahahahahahahahahahahahahahahahahahaahahahah     1\n",
      "241                                        lollolololo     1\n",
      "242                                                llo     1\n",
      "243                                    lololololooolol     1\n",
      "244  lollllllllllllllllllllllllllllllllllllllllllll...     1\n",
      "245                                       llololololol     1\n",
      "246                                   hahahahaahahahah     1\n",
      "247                                   hahahahahahhhhhh     1\n",
      "248                                               lolo     1\n",
      "249                                        hahahahhaha     1\n",
      "250                                       lolollololol     1\n",
      "251                  lolololololololololololololololol     1\n",
      "252                                            lloolll     1\n",
      "253                                           hahahahh     1\n",
      "254                                       lolololooloo     1\n",
      "255                               hahahahahahahahahahh     1\n",
      "256                loloololollolololololololololololol     1\n",
      "257                   lolololololololollololololololol     1\n",
      "258                                    lololololoooool     1\n",
      "259                                 hahahahhahahahahah     1\n",
      "260                                         ahhhhhhhhh     1\n",
      "261                                           llolllll     1\n",
      "262                                   hahahahahhahaahh     1\n",
      "263                                            loollll     1\n",
      "264                    hahahahahahahhahahahahahahahhaa     1\n",
      "265                                        ahahahahaah     1\n",
      "266                                         lololooool     1\n",
      "267                                           hhaahaha     1\n",
      "268                           hahahahahahahahahahahaha     1\n",
      "269                                          hahahhaha     1\n",
      "270                                  hahahahahaahahaha     1\n",
      "271                               loloolololololololol     1\n",
      "272       hahahahahahahahahahahahahahahahahahahahahaha     1\n",
      "273                      hahahahahahahahahahahahahahah     1\n",
      "274           lollllllllllllllllllllllllllllllllllllll     1\n",
      "275                                            hahhhhh     1\n",
      "276                                            lllolol     1\n",
      "277                                     lololololollol     1\n",
      "278                                          hahahaaha     1\n",
      "279                                     hahahahaahahah     1\n",
      "280                                       lolololollol     1\n",
      "281                                       oolololollol     1\n",
      "282                                     llolololololol     1\n",
      "283  llllllllllllllllllllllllllllllllllllllllllllll...     1\n",
      "284                                       lololololool     1\n",
      "285                                         lololoolol     1\n",
      "286                                   lollolololololol     1\n",
      "287                                   hahahahahaahahah     1\n",
      "288                                     hahahhahahahah     1\n",
      "289  ahahahahahahahahahahahahahahahaahahahahahahaha...     1\n",
      "290                                       hahahahahahh     1\n",
      "291                     lollllllllllllllllllllllllllll     1\n",
      "292                                  looooooololololol     1\n",
      "293                                             olllll     1\n",
      "294                                           olololol     1\n",
      "295                                          ollololol     1\n",
      "296                            hahahahahahahahahahhaha     1\n",
      "297                                      hahahahahaaha     1\n",
      "298                                            lolooll     1\n",
      "299                       hahahahahahahahahahahahahaha     1\n",
      "300     lollllllllllllllllllllllllllllllllllllllllllll     1\n",
      "301                                 lolololololollolol     1\n",
      "302                                  hahahhaahhahahaha     1\n",
      "303                                    hhahahahaahahah     1\n",
      "304                                        loololollol     1\n",
      "305                                           llololol     1\n",
      "306                                         hahhahahah     1\n",
      "307                     lolololololololollolololololol     1\n",
      "308                             hahahahahahahahahahahh     1\n",
      "309                                         lololollol     1\n",
      "310                                       lolooolololo     1\n",
      "311                              llloooooooooooooooool     1\n",
      "312                                          ahhahhhhh     1\n",
      "313                                hahahhaahahahahahah     1\n",
      "314                                        lolololllll     1\n",
      "315                                        hahahaahaha     1\n",
      "316  lollllllllllllllllllllllllllllllllllllllllllll...     1\n",
      "317                                          hahahaahh     1\n",
      "318                                    olooolololololo     1\n",
      "319                                            loooool     1\n",
      "320                                          lollololl     1\n",
      "321                                       hahaahaahaha     1\n",
      "322                                   hahahahahahaahah     1\n",
      "323                                  hahahahahahahahaa     1\n"
     ]
    }
   ],
   "source": [
    "print_full(lwords)"
   ]
  },
  {
   "cell_type": "code",
   "execution_count": 66,
   "metadata": {
    "collapsed": false
   },
   "outputs": [
    {
     "data": {
      "text/plain": [
       "collections.Counter"
      ]
     },
     "execution_count": 66,
     "metadata": {},
     "output_type": "execute_result"
    }
   ],
   "source": [
    "type(kwords)"
   ]
  },
  {
   "cell_type": "code",
   "execution_count": 67,
   "metadata": {
    "collapsed": false
   },
   "outputs": [
    {
     "data": {
      "text/plain": [
       "594766"
      ]
     },
     "execution_count": 67,
     "metadata": {},
     "output_type": "execute_result"
    }
   ],
   "source": [
    "sum(kwords.values())"
   ]
  },
  {
   "cell_type": "code",
   "execution_count": 70,
   "metadata": {
    "collapsed": false
   },
   "outputs": [
    {
     "data": {
      "text/plain": [
       "11838"
      ]
     },
     "execution_count": 70,
     "metadata": {},
     "output_type": "execute_result"
    }
   ],
   "source": [
    "lwords[1].sum()"
   ]
  },
  {
   "cell_type": "code",
   "execution_count": 71,
   "metadata": {
    "collapsed": false
   },
   "outputs": [
    {
     "data": {
      "text/plain": [
       "0.019903625963824428"
      ]
     },
     "execution_count": 71,
     "metadata": {},
     "output_type": "execute_result"
    }
   ],
   "source": [
    "lwords[1].sum()/sum(kwords.values())\n",
    "#proportion of the words that I say that are laughter"
   ]
  },
  {
   "cell_type": "code",
   "execution_count": 92,
   "metadata": {
    "collapsed": false
   },
   "outputs": [
    {
     "data": {
      "text/plain": [
       "<matplotlib.axes._subplots.AxesSubplot at 0x8e65208>"
      ]
     },
     "execution_count": 92,
     "metadata": {},
     "output_type": "execute_result"
    },
    {
     "data": {
      "image/png": "[encoded data removed]",
      "text/plain": [
       "<matplotlib.figure.Figure at 0x8e6a080>"
      ]
     },
     "metadata": {},
     "output_type": "display_data"
    }
   ],
   "source": [
    "lwords.set_index(0)\n",
    "lwords[:20].plot(kind=\"bar\")"
   ]
  },
  {
   "cell_type": "code",
   "execution_count": 115,
   "metadata": {
    "collapsed": false
   },
   "outputs": [
    {
     "data": {
      "text/plain": [
       "[<matplotlib.text.Text at 0xa79dba8>,\n",
       " <matplotlib.text.Text at 0xa7a3240>,\n",
       " <matplotlib.text.Text at 0xa801080>,\n",
       " <matplotlib.text.Text at 0xa801e80>,\n",
       " <matplotlib.text.Text at 0xa803978>,\n",
       " <matplotlib.text.Text at 0xa804208>,\n",
       " <matplotlib.text.Text at 0xa804be0>,\n",
       " <matplotlib.text.Text at 0xa806a90>,\n",
       " <matplotlib.text.Text at 0xa807748>,\n",
       " <matplotlib.text.Text at 0xa809278>,\n",
       " <matplotlib.text.Text at 0xa809d68>,\n",
       " <matplotlib.text.Text at 0xa80a908>,\n",
       " <matplotlib.text.Text at 0xa80c048>,\n",
       " <matplotlib.text.Text at 0xa80ceb8>,\n",
       " <matplotlib.text.Text at 0xa80d630>,\n",
       " <matplotlib.text.Text at 0xa63eeb8>,\n",
       " <matplotlib.text.Text at 0x8e47518>,\n",
       " <matplotlib.text.Text at 0xa80dba8>,\n",
       " <matplotlib.text.Text at 0xa80f908>,\n",
       " <matplotlib.text.Text at 0xa810048>]"
      ]
     },
     "execution_count": 115,
     "metadata": {},
     "output_type": "execute_result"
    },
    {
     "data": {
      "image/png": "[encoded data removed]",
      "text/plain": [
       "<matplotlib.figure.Figure at 0x8e705f8>"
      ]
     },
     "metadata": {},
     "output_type": "display_data"
    }
   ],
   "source": [
    "x = lwords[:20].plot(kind=\"bar\")\n",
    "x.set_xticklabels(lwords[0])"
   ]
  },
  {
   "cell_type": "code",
   "execution_count": 141,
   "metadata": {
    "collapsed": false
   },
   "outputs": [
    {
     "data": {
      "text/plain": [
       "[<matplotlib.text.Text at 0xacae6a0>,\n",
       " <matplotlib.text.Text at 0xacfdf28>,\n",
       " <matplotlib.text.Text at 0xad275c0>,\n",
       " <matplotlib.text.Text at 0xad28240>,\n",
       " <matplotlib.text.Text at 0xacf6da0>,\n",
       " <matplotlib.text.Text at 0xacebc50>,\n",
       " <matplotlib.text.Text at 0xad28ba8>,\n",
       " <matplotlib.text.Text at 0xad29470>,\n",
       " <matplotlib.text.Text at 0xad29eb8>,\n",
       " <matplotlib.text.Text at 0xad2bb00>,\n",
       " <matplotlib.text.Text at 0xad2c470>,\n",
       " <matplotlib.text.Text at 0xad2e1d0>,\n",
       " <matplotlib.text.Text at 0xad2ea90>,\n",
       " <matplotlib.text.Text at 0xad2f400>,\n",
       " <matplotlib.text.Text at 0xad31748>,\n",
       " <matplotlib.text.Text at 0xad31be0>,\n",
       " <matplotlib.text.Text at 0xad32860>,\n",
       " <matplotlib.text.Text at 0xad335c0>,\n",
       " <matplotlib.text.Text at 0xad33e48>,\n",
       " <matplotlib.text.Text at 0xad365c0>,\n",
       " <matplotlib.text.Text at 0xad342e8>,\n",
       " <matplotlib.text.Text at 0xad34a58>,\n",
       " <matplotlib.text.Text at 0xad377b8>,\n",
       " <matplotlib.text.Text at 0xad39898>,\n",
       " <matplotlib.text.Text at 0xad3a0b8>,\n",
       " <matplotlib.text.Text at 0xad3a9b0>,\n",
       " <matplotlib.text.Text at 0xad3b780>,\n",
       " <matplotlib.text.Text at 0xad3d588>,\n",
       " <matplotlib.text.Text at 0xad3de48>]"
      ]
     },
     "execution_count": 141,
     "metadata": {},
     "output_type": "execute_result"
    },
    {
     "data": {
      "image/png": "[encoded data removed]",
      "text/plain": [
       "<matplotlib.figure.Figure at 0xace59e8>"
      ]
     },
     "metadata": {},
     "output_type": "display_data"
    }
   ],
   "source": [
    "x = lwords[1:30].plot(kind=\"bar\")\n",
    "#x.set_xticks([i-1 for i in range(30)])\n"
   ]
  },
  {
   "cell_type": "code",
   "execution_count": 144,
   "metadata": {
    "collapsed": false
   },
   "outputs": [
    {
     "data": {
      "text/plain": [
       "'haha'"
      ]
     },
     "execution_count": 144,
     "metadata": {},
     "output_type": "execute_result"
    }
   ],
   "source": [
    "type(lwords[0]) ,type(lwords[0][1:30])\n",
    "lwords[0][1:30][1]"
   ]
  },
  {
   "cell_type": "code",
   "execution_count": null,
   "metadata": {
    "collapsed": true
   },
   "outputs": [],
   "source": []
  }
 ],
 "metadata": {
  "kernelspec": {
   "display_name": "Python 3",
   "language": "python",
   "name": "python3"
  },
  "language_info": {
   "codemirror_mode": {
    "name": "ipython",
    "version": 3
   },
   "file_extension": ".py",
   "mimetype": "text/x-python",
   "name": "python",
   "nbconvert_exporter": "python",
   "pygments_lexer": "ipython3",
   "version": "3.4.3"
  }
 },
 "nbformat": 4,
 "nbformat_minor": 0
}
